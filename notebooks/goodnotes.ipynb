{
 "cells": [
  {
   "cell_type": "code",
   "execution_count": 12,
   "id": "89dce7f5",
   "metadata": {},
   "outputs": [],
   "source": [
    "# Import 設定\n",
    "import sys\n",
    "from pathlib import Path\n",
    "PROJECT_DIR = Path.cwd().parents[0]\n",
    "sys.path.insert(0, PROJECT_DIR.joinpath(\"src\").__str__())  # 不能用 pathlib.PosixPath 傳入"
   ]
  },
  {
   "cell_type": "markdown",
   "id": "e40999d5",
   "metadata": {},
   "source": [
    "# Step 01: Ingestion"
   ]
  },
  {
   "cell_type": "code",
   "execution_count": 2,
   "id": "8c751b5a",
   "metadata": {},
   "outputs": [
    {
     "name": "stderr",
     "output_type": "stream",
     "text": [
      "/home/kevinwang/.local/share/virtualenvs/personal-rag-7yCtySkO/lib/python3.11/site-packages/paddle/utils/cpp_extension/extension_utils.py:717: UserWarning: No ccache found. Please be aware that recompiling all source files may be required. You can download and install ccache from: https://github.com/ccache/ccache/blob/master/doc/INSTALL.md\n",
      "  warnings.warn(warning_message)\n",
      "\u001b[32mModel files already exist. Using cached files. To redownload, please delete the directory manually: `/home/kevinwang/.paddlex/official_models/PP-OCRv5_server_det`.\u001b[0m\n",
      "\u001b[32mModel files already exist. Using cached files. To redownload, please delete the directory manually: `/home/kevinwang/.paddlex/official_models/PP-OCRv5_server_rec`.\u001b[0m\n",
      "[2025-08-30 18:52:48,173] [ WARNING] _utils.py:457 - Ignoring wrong pointing object 388 0 (offset 0)\n",
      "[2025-08-30 18:52:48,173] [ WARNING] _utils.py:457 - Ignoring wrong pointing object 390 0 (offset 0)\n",
      "[2025-08-30 18:52:48,173] [ WARNING] _utils.py:457 - Ignoring wrong pointing object 392 0 (offset 0)\n",
      "[2025-08-30 18:52:48,174] [ WARNING] _utils.py:457 - Ignoring wrong pointing object 394 0 (offset 0)\n",
      "[2025-08-30 18:52:48,175] [ WARNING] _utils.py:457 - Ignoring wrong pointing object 396 0 (offset 0)\n",
      "[2025-08-30 18:52:48,175] [ WARNING] _utils.py:457 - Ignoring wrong pointing object 398 0 (offset 0)\n",
      "[2025-08-30 18:52:48,176] [ WARNING] _utils.py:457 - Ignoring wrong pointing object 400 0 (offset 0)\n",
      "[2025-08-30 18:52:48,176] [ WARNING] _utils.py:457 - Ignoring wrong pointing object 402 0 (offset 0)\n",
      "[2025-08-30 18:52:48,176] [ WARNING] _utils.py:457 - Ignoring wrong pointing object 404 0 (offset 0)\n",
      "[2025-08-30 18:52:48,176] [ WARNING] _utils.py:457 - Ignoring wrong pointing object 406 0 (offset 0)\n",
      "[2025-08-30 18:52:48,176] [ WARNING] _utils.py:457 - Ignoring wrong pointing object 408 0 (offset 0)\n",
      "[2025-08-30 18:52:48,176] [ WARNING] _utils.py:457 - Ignoring wrong pointing object 410 0 (offset 0)\n",
      "[2025-08-30 18:52:48,177] [ WARNING] _utils.py:457 - Ignoring wrong pointing object 412 0 (offset 0)\n",
      "[2025-08-30 18:52:48,177] [ WARNING] _utils.py:457 - Ignoring wrong pointing object 414 0 (offset 0)\n",
      "[2025-08-30 18:52:48,177] [ WARNING] _utils.py:457 - Ignoring wrong pointing object 416 0 (offset 0)\n",
      "[2025-08-30 18:52:48,177] [ WARNING] _utils.py:457 - Ignoring wrong pointing object 418 0 (offset 0)\n",
      "[2025-08-30 18:52:48,177] [ WARNING] _utils.py:457 - Ignoring wrong pointing object 420 0 (offset 0)\n",
      "[2025-08-30 18:52:48,177] [ WARNING] _utils.py:457 - Ignoring wrong pointing object 460 0 (offset 0)\n",
      "[2025-08-30 18:52:48,177] [ WARNING] _utils.py:457 - Ignoring wrong pointing object 462 0 (offset 0)\n",
      "[2025-08-30 18:52:48,178] [ WARNING] _utils.py:457 - Ignoring wrong pointing object 464 0 (offset 0)\n",
      "[2025-08-30 18:52:48,178] [ WARNING] _utils.py:457 - Ignoring wrong pointing object 466 0 (offset 0)\n",
      "[2025-08-30 18:52:48,178] [ WARNING] _utils.py:457 - Ignoring wrong pointing object 468 0 (offset 0)\n",
      "[2025-08-30 18:52:48,178] [ WARNING] _utils.py:457 - Ignoring wrong pointing object 470 0 (offset 0)\n",
      "[2025-08-30 18:52:48,178] [ WARNING] _utils.py:457 - Ignoring wrong pointing object 472 0 (offset 0)\n",
      "[2025-08-30 18:52:48,178] [ WARNING] _utils.py:457 - Ignoring wrong pointing object 474 0 (offset 0)\n",
      "[2025-08-30 18:52:48,178] [ WARNING] _utils.py:457 - Ignoring wrong pointing object 476 0 (offset 0)\n",
      "[2025-08-30 18:52:48,179] [ WARNING] _utils.py:457 - Ignoring wrong pointing object 478 0 (offset 0)\n",
      "[2025-08-30 18:52:48,179] [ WARNING] _utils.py:457 - Ignoring wrong pointing object 480 0 (offset 0)\n",
      "[2025-08-30 18:52:48,179] [ WARNING] _utils.py:457 - Ignoring wrong pointing object 482 0 (offset 0)\n",
      "[2025-08-30 18:52:48,179] [ WARNING] _utils.py:457 - Ignoring wrong pointing object 484 0 (offset 0)\n",
      "[2025-08-30 18:52:48,179] [ WARNING] _utils.py:457 - Ignoring wrong pointing object 486 0 (offset 0)\n",
      "[2025-08-30 18:52:48,179] [ WARNING] _utils.py:457 - Ignoring wrong pointing object 488 0 (offset 0)\n",
      "[2025-08-30 18:52:48,180] [ WARNING] _utils.py:457 - Ignoring wrong pointing object 490 0 (offset 0)\n",
      "[2025-08-30 18:52:48,180] [ WARNING] _utils.py:457 - Ignoring wrong pointing object 492 0 (offset 0)\n",
      "[2025-08-30 18:52:48,180] [ WARNING] _utils.py:457 - Ignoring wrong pointing object 528 0 (offset 0)\n",
      "[2025-08-30 18:52:48,181] [ WARNING] _utils.py:457 - Ignoring wrong pointing object 563 0 (offset 0)\n",
      "[2025-08-30 18:52:48,181] [ WARNING] _utils.py:457 - Ignoring wrong pointing object 806 0 (offset 0)\n",
      "[2025-08-30 18:52:48,182] [ WARNING] _utils.py:457 - Ignoring wrong pointing object 1273 0 (offset 0)\n",
      "[2025-08-30 18:52:48,183] [ WARNING] _utils.py:457 - Ignoring wrong pointing object 1308 0 (offset 0)\n",
      "[2025-08-30 18:52:48,183] [ WARNING] _utils.py:457 - Ignoring wrong pointing object 1310 0 (offset 0)\n",
      "[2025-08-30 18:52:48,183] [ WARNING] _utils.py:457 - Ignoring wrong pointing object 1312 0 (offset 0)\n",
      "[2025-08-30 18:52:48,183] [ WARNING] _utils.py:457 - Ignoring wrong pointing object 1314 0 (offset 0)\n",
      "[2025-08-30 18:52:48,183] [ WARNING] _utils.py:457 - Ignoring wrong pointing object 1316 0 (offset 0)\n",
      "[2025-08-30 18:52:48,184] [ WARNING] _utils.py:457 - Ignoring wrong pointing object 1318 0 (offset 0)\n",
      "[2025-08-30 18:52:48,184] [ WARNING] _utils.py:457 - Ignoring wrong pointing object 1320 0 (offset 0)\n",
      "[2025-08-30 18:52:48,184] [ WARNING] _utils.py:457 - Ignoring wrong pointing object 1322 0 (offset 0)\n",
      "[2025-08-30 18:52:48,184] [ WARNING] _utils.py:457 - Ignoring wrong pointing object 1324 0 (offset 0)\n",
      "[2025-08-30 18:52:48,184] [ WARNING] _utils.py:457 - Ignoring wrong pointing object 1326 0 (offset 0)\n",
      "[2025-08-30 18:52:48,184] [ WARNING] _utils.py:457 - Ignoring wrong pointing object 1328 0 (offset 0)\n",
      "[2025-08-30 18:52:48,185] [ WARNING] _utils.py:457 - Ignoring wrong pointing object 1330 0 (offset 0)\n",
      "[2025-08-30 18:52:48,185] [ WARNING] _utils.py:457 - Ignoring wrong pointing object 1332 0 (offset 0)\n",
      "[2025-08-30 18:52:48,185] [ WARNING] _utils.py:457 - Ignoring wrong pointing object 1334 0 (offset 0)\n",
      "[2025-08-30 18:52:48,185] [ WARNING] _utils.py:457 - Ignoring wrong pointing object 1336 0 (offset 0)\n",
      "[2025-08-30 18:52:48,185] [ WARNING] _utils.py:457 - Ignoring wrong pointing object 1338 0 (offset 0)\n",
      "[2025-08-30 18:52:48,185] [ WARNING] _utils.py:457 - Ignoring wrong pointing object 1340 0 (offset 0)\n",
      "[2025-08-30 18:52:48,186] [ WARNING] _utils.py:457 - Ignoring wrong pointing object 1378 0 (offset 0)\n",
      "[2025-08-30 18:52:48,186] [ WARNING] _utils.py:457 - Ignoring wrong pointing object 1380 0 (offset 0)\n",
      "[2025-08-30 18:52:48,186] [ WARNING] _utils.py:457 - Ignoring wrong pointing object 1382 0 (offset 0)\n",
      "[2025-08-30 18:52:48,186] [ WARNING] _utils.py:457 - Ignoring wrong pointing object 1384 0 (offset 0)\n",
      "[2025-08-30 18:52:48,186] [ WARNING] _utils.py:457 - Ignoring wrong pointing object 1386 0 (offset 0)\n",
      "[2025-08-30 18:52:48,187] [ WARNING] _utils.py:457 - Ignoring wrong pointing object 1388 0 (offset 0)\n",
      "[2025-08-30 18:52:48,188] [ WARNING] _utils.py:457 - Ignoring wrong pointing object 1390 0 (offset 0)\n",
      "[2025-08-30 18:52:48,188] [ WARNING] _utils.py:457 - Ignoring wrong pointing object 1392 0 (offset 0)\n",
      "[2025-08-30 18:52:48,188] [ WARNING] _utils.py:457 - Ignoring wrong pointing object 1394 0 (offset 0)\n",
      "[2025-08-30 18:52:48,189] [ WARNING] _utils.py:457 - Ignoring wrong pointing object 1396 0 (offset 0)\n",
      "[2025-08-30 18:52:48,189] [ WARNING] _utils.py:457 - Ignoring wrong pointing object 1398 0 (offset 0)\n",
      "[2025-08-30 18:52:48,189] [ WARNING] _utils.py:457 - Ignoring wrong pointing object 1400 0 (offset 0)\n",
      "[2025-08-30 18:52:48,189] [ WARNING] _utils.py:457 - Ignoring wrong pointing object 1402 0 (offset 0)\n",
      "[2025-08-30 18:52:48,189] [ WARNING] _utils.py:457 - Ignoring wrong pointing object 1404 0 (offset 0)\n",
      "[2025-08-30 18:52:48,190] [ WARNING] _utils.py:457 - Ignoring wrong pointing object 1406 0 (offset 0)\n",
      "[2025-08-30 18:52:48,190] [ WARNING] _utils.py:457 - Ignoring wrong pointing object 1408 0 (offset 0)\n",
      "[2025-08-30 18:52:48,190] [ WARNING] _utils.py:457 - Ignoring wrong pointing object 1410 0 (offset 0)\n",
      "[2025-08-30 18:52:48,191] [ WARNING] _utils.py:457 - Ignoring wrong pointing object 1548 0 (offset 0)\n",
      "[2025-08-30 18:52:48,278] [ WARNING] _utils.py:457 - Ignoring wrong pointing object 388 0 (offset 0)\n",
      "[2025-08-30 18:52:48,278] [ WARNING] _utils.py:457 - Ignoring wrong pointing object 390 0 (offset 0)\n",
      "[2025-08-30 18:52:48,278] [ WARNING] _utils.py:457 - Ignoring wrong pointing object 392 0 (offset 0)\n",
      "[2025-08-30 18:52:48,279] [ WARNING] _utils.py:457 - Ignoring wrong pointing object 394 0 (offset 0)\n",
      "[2025-08-30 18:52:48,279] [ WARNING] _utils.py:457 - Ignoring wrong pointing object 396 0 (offset 0)\n",
      "[2025-08-30 18:52:48,279] [ WARNING] _utils.py:457 - Ignoring wrong pointing object 398 0 (offset 0)\n",
      "[2025-08-30 18:52:48,280] [ WARNING] _utils.py:457 - Ignoring wrong pointing object 400 0 (offset 0)\n",
      "[2025-08-30 18:52:48,280] [ WARNING] _utils.py:457 - Ignoring wrong pointing object 402 0 (offset 0)\n",
      "[2025-08-30 18:52:48,281] [ WARNING] _utils.py:457 - Ignoring wrong pointing object 404 0 (offset 0)\n",
      "[2025-08-30 18:52:48,281] [ WARNING] _utils.py:457 - Ignoring wrong pointing object 406 0 (offset 0)\n",
      "[2025-08-30 18:52:48,281] [ WARNING] _utils.py:457 - Ignoring wrong pointing object 408 0 (offset 0)\n",
      "[2025-08-30 18:52:48,281] [ WARNING] _utils.py:457 - Ignoring wrong pointing object 410 0 (offset 0)\n",
      "[2025-08-30 18:52:48,282] [ WARNING] _utils.py:457 - Ignoring wrong pointing object 412 0 (offset 0)\n",
      "[2025-08-30 18:52:48,282] [ WARNING] _utils.py:457 - Ignoring wrong pointing object 414 0 (offset 0)\n",
      "[2025-08-30 18:52:48,282] [ WARNING] _utils.py:457 - Ignoring wrong pointing object 416 0 (offset 0)\n",
      "[2025-08-30 18:52:48,282] [ WARNING] _utils.py:457 - Ignoring wrong pointing object 418 0 (offset 0)\n",
      "[2025-08-30 18:52:48,283] [ WARNING] _utils.py:457 - Ignoring wrong pointing object 420 0 (offset 0)\n",
      "[2025-08-30 18:52:48,283] [ WARNING] _utils.py:457 - Ignoring wrong pointing object 460 0 (offset 0)\n",
      "[2025-08-30 18:52:48,283] [ WARNING] _utils.py:457 - Ignoring wrong pointing object 462 0 (offset 0)\n",
      "[2025-08-30 18:52:48,284] [ WARNING] _utils.py:457 - Ignoring wrong pointing object 464 0 (offset 0)\n",
      "[2025-08-30 18:52:48,285] [ WARNING] _utils.py:457 - Ignoring wrong pointing object 466 0 (offset 0)\n",
      "[2025-08-30 18:52:48,285] [ WARNING] _utils.py:457 - Ignoring wrong pointing object 468 0 (offset 0)\n",
      "[2025-08-30 18:52:48,285] [ WARNING] _utils.py:457 - Ignoring wrong pointing object 470 0 (offset 0)\n",
      "[2025-08-30 18:52:48,285] [ WARNING] _utils.py:457 - Ignoring wrong pointing object 472 0 (offset 0)\n",
      "[2025-08-30 18:52:48,285] [ WARNING] _utils.py:457 - Ignoring wrong pointing object 474 0 (offset 0)\n",
      "[2025-08-30 18:52:48,286] [ WARNING] _utils.py:457 - Ignoring wrong pointing object 476 0 (offset 0)\n",
      "[2025-08-30 18:52:48,286] [ WARNING] _utils.py:457 - Ignoring wrong pointing object 478 0 (offset 0)\n",
      "[2025-08-30 18:52:48,286] [ WARNING] _utils.py:457 - Ignoring wrong pointing object 480 0 (offset 0)\n",
      "[2025-08-30 18:52:48,286] [ WARNING] _utils.py:457 - Ignoring wrong pointing object 482 0 (offset 0)\n",
      "[2025-08-30 18:52:48,286] [ WARNING] _utils.py:457 - Ignoring wrong pointing object 484 0 (offset 0)\n",
      "[2025-08-30 18:52:48,286] [ WARNING] _utils.py:457 - Ignoring wrong pointing object 486 0 (offset 0)\n",
      "[2025-08-30 18:52:48,287] [ WARNING] _utils.py:457 - Ignoring wrong pointing object 488 0 (offset 0)\n",
      "[2025-08-30 18:52:48,287] [ WARNING] _utils.py:457 - Ignoring wrong pointing object 490 0 (offset 0)\n",
      "[2025-08-30 18:52:48,287] [ WARNING] _utils.py:457 - Ignoring wrong pointing object 492 0 (offset 0)\n",
      "[2025-08-30 18:52:48,287] [ WARNING] _utils.py:457 - Ignoring wrong pointing object 528 0 (offset 0)\n",
      "[2025-08-30 18:52:48,287] [ WARNING] _utils.py:457 - Ignoring wrong pointing object 563 0 (offset 0)\n",
      "[2025-08-30 18:52:48,288] [ WARNING] _utils.py:457 - Ignoring wrong pointing object 806 0 (offset 0)\n",
      "[2025-08-30 18:52:48,290] [ WARNING] _utils.py:457 - Ignoring wrong pointing object 1273 0 (offset 0)\n"
     ]
    },
    {
     "name": "stdout",
     "output_type": "stream",
     "text": [
      "早安日語-孫寅華.pdf\n"
     ]
    },
    {
     "name": "stderr",
     "output_type": "stream",
     "text": [
      "[2025-08-30 18:52:48,290] [ WARNING] _utils.py:457 - Ignoring wrong pointing object 1308 0 (offset 0)\n",
      "[2025-08-30 18:52:48,290] [ WARNING] _utils.py:457 - Ignoring wrong pointing object 1310 0 (offset 0)\n",
      "[2025-08-30 18:52:48,291] [ WARNING] _utils.py:457 - Ignoring wrong pointing object 1312 0 (offset 0)\n",
      "[2025-08-30 18:52:48,291] [ WARNING] _utils.py:457 - Ignoring wrong pointing object 1314 0 (offset 0)\n",
      "[2025-08-30 18:52:48,291] [ WARNING] _utils.py:457 - Ignoring wrong pointing object 1316 0 (offset 0)\n",
      "[2025-08-30 18:52:48,291] [ WARNING] _utils.py:457 - Ignoring wrong pointing object 1318 0 (offset 0)\n",
      "[2025-08-30 18:52:48,292] [ WARNING] _utils.py:457 - Ignoring wrong pointing object 1320 0 (offset 0)\n",
      "[2025-08-30 18:52:48,292] [ WARNING] _utils.py:457 - Ignoring wrong pointing object 1322 0 (offset 0)\n",
      "[2025-08-30 18:52:48,292] [ WARNING] _utils.py:457 - Ignoring wrong pointing object 1324 0 (offset 0)\n",
      "[2025-08-30 18:52:48,292] [ WARNING] _utils.py:457 - Ignoring wrong pointing object 1326 0 (offset 0)\n",
      "[2025-08-30 18:52:48,292] [ WARNING] _utils.py:457 - Ignoring wrong pointing object 1328 0 (offset 0)\n",
      "[2025-08-30 18:52:48,292] [ WARNING] _utils.py:457 - Ignoring wrong pointing object 1330 0 (offset 0)\n",
      "[2025-08-30 18:52:48,293] [ WARNING] _utils.py:457 - Ignoring wrong pointing object 1332 0 (offset 0)\n",
      "[2025-08-30 18:52:48,293] [ WARNING] _utils.py:457 - Ignoring wrong pointing object 1334 0 (offset 0)\n",
      "[2025-08-30 18:52:48,293] [ WARNING] _utils.py:457 - Ignoring wrong pointing object 1336 0 (offset 0)\n",
      "[2025-08-30 18:52:48,293] [ WARNING] _utils.py:457 - Ignoring wrong pointing object 1338 0 (offset 0)\n",
      "[2025-08-30 18:52:48,293] [ WARNING] _utils.py:457 - Ignoring wrong pointing object 1340 0 (offset 0)\n",
      "[2025-08-30 18:52:48,294] [ WARNING] _utils.py:457 - Ignoring wrong pointing object 1378 0 (offset 0)\n",
      "[2025-08-30 18:52:48,294] [ WARNING] _utils.py:457 - Ignoring wrong pointing object 1380 0 (offset 0)\n",
      "[2025-08-30 18:52:48,294] [ WARNING] _utils.py:457 - Ignoring wrong pointing object 1382 0 (offset 0)\n",
      "[2025-08-30 18:52:48,294] [ WARNING] _utils.py:457 - Ignoring wrong pointing object 1384 0 (offset 0)\n",
      "[2025-08-30 18:52:48,294] [ WARNING] _utils.py:457 - Ignoring wrong pointing object 1386 0 (offset 0)\n",
      "[2025-08-30 18:52:48,295] [ WARNING] _utils.py:457 - Ignoring wrong pointing object 1388 0 (offset 0)\n",
      "[2025-08-30 18:52:48,295] [ WARNING] _utils.py:457 - Ignoring wrong pointing object 1390 0 (offset 0)\n",
      "[2025-08-30 18:52:48,295] [ WARNING] _utils.py:457 - Ignoring wrong pointing object 1392 0 (offset 0)\n",
      "[2025-08-30 18:52:48,295] [ WARNING] _utils.py:457 - Ignoring wrong pointing object 1394 0 (offset 0)\n",
      "[2025-08-30 18:52:48,295] [ WARNING] _utils.py:457 - Ignoring wrong pointing object 1396 0 (offset 0)\n",
      "[2025-08-30 18:52:48,297] [ WARNING] _utils.py:457 - Ignoring wrong pointing object 1398 0 (offset 0)\n",
      "[2025-08-30 18:52:48,297] [ WARNING] _utils.py:457 - Ignoring wrong pointing object 1400 0 (offset 0)\n",
      "[2025-08-30 18:52:48,297] [ WARNING] _utils.py:457 - Ignoring wrong pointing object 1402 0 (offset 0)\n",
      "[2025-08-30 18:52:48,297] [ WARNING] _utils.py:457 - Ignoring wrong pointing object 1404 0 (offset 0)\n",
      "[2025-08-30 18:52:48,297] [ WARNING] _utils.py:457 - Ignoring wrong pointing object 1406 0 (offset 0)\n",
      "[2025-08-30 18:52:48,297] [ WARNING] _utils.py:457 - Ignoring wrong pointing object 1408 0 (offset 0)\n",
      "[2025-08-30 18:52:48,298] [ WARNING] _utils.py:457 - Ignoring wrong pointing object 1410 0 (offset 0)\n",
      "[2025-08-30 18:52:48,298] [ WARNING] _utils.py:457 - Ignoring wrong pointing object 1548 0 (offset 0)\n",
      "/home/kevinwang/.local/share/virtualenvs/personal-rag-7yCtySkO/lib/python3.11/site-packages/PIL/Image.py:3452: DecompressionBombWarning: Image size (96677724 pixels) exceeds limit of 89478485 pixels, could be decompression bomb DOS attack.\n",
      "  warnings.warn(\n",
      "/home/kevinwang/.local/share/virtualenvs/personal-rag-7yCtySkO/lib/python3.11/site-packages/PIL/Image.py:3452: DecompressionBombWarning: Image size (96677724 pixels) exceeds limit of 89478485 pixels, could be decompression bomb DOS attack.\n",
      "  warnings.warn(\n",
      "/home/kevinwang/.local/share/virtualenvs/personal-rag-7yCtySkO/lib/python3.11/site-packages/PIL/Image.py:3452: DecompressionBombWarning: Image size (96677724 pixels) exceeds limit of 89478485 pixels, could be decompression bomb DOS attack.\n",
      "  warnings.warn(\n",
      "/home/kevinwang/.local/share/virtualenvs/personal-rag-7yCtySkO/lib/python3.11/site-packages/PIL/Image.py:3452: DecompressionBombWarning: Image size (93500000 pixels) exceeds limit of 89478485 pixels, could be decompression bomb DOS attack.\n",
      "  warnings.warn(\n",
      "/home/kevinwang/.local/share/virtualenvs/personal-rag-7yCtySkO/lib/python3.11/site-packages/PIL/Image.py:3452: DecompressionBombWarning: Image size (93500000 pixels) exceeds limit of 89478485 pixels, could be decompression bomb DOS attack.\n",
      "  warnings.warn(\n",
      "/home/kevinwang/.local/share/virtualenvs/personal-rag-7yCtySkO/lib/python3.11/site-packages/PIL/Image.py:3452: DecompressionBombWarning: Image size (93500000 pixels) exceeds limit of 89478485 pixels, could be decompression bomb DOS attack.\n",
      "  warnings.warn(\n",
      "/home/kevinwang/.local/share/virtualenvs/personal-rag-7yCtySkO/lib/python3.11/site-packages/PIL/Image.py:3452: DecompressionBombWarning: Image size (93500000 pixels) exceeds limit of 89478485 pixels, could be decompression bomb DOS attack.\n",
      "  warnings.warn(\n",
      "/home/kevinwang/.local/share/virtualenvs/personal-rag-7yCtySkO/lib/python3.11/site-packages/PIL/Image.py:3452: DecompressionBombWarning: Image size (93500000 pixels) exceeds limit of 89478485 pixels, could be decompression bomb DOS attack.\n",
      "  warnings.warn(\n",
      "/home/kevinwang/.local/share/virtualenvs/personal-rag-7yCtySkO/lib/python3.11/site-packages/PIL/Image.py:3452: DecompressionBombWarning: Image size (93500000 pixels) exceeds limit of 89478485 pixels, could be decompression bomb DOS attack.\n",
      "  warnings.warn(\n",
      "/home/kevinwang/.local/share/virtualenvs/personal-rag-7yCtySkO/lib/python3.11/site-packages/PIL/Image.py:3452: DecompressionBombWarning: Image size (93500000 pixels) exceeds limit of 89478485 pixels, could be decompression bomb DOS attack.\n",
      "  warnings.warn(\n",
      "/home/kevinwang/.local/share/virtualenvs/personal-rag-7yCtySkO/lib/python3.11/site-packages/PIL/Image.py:3452: DecompressionBombWarning: Image size (93500000 pixels) exceeds limit of 89478485 pixels, could be decompression bomb DOS attack.\n",
      "  warnings.warn(\n",
      "/home/kevinwang/.local/share/virtualenvs/personal-rag-7yCtySkO/lib/python3.11/site-packages/PIL/Image.py:3452: DecompressionBombWarning: Image size (93500000 pixels) exceeds limit of 89478485 pixels, could be decompression bomb DOS attack.\n",
      "  warnings.warn(\n",
      "/home/kevinwang/.local/share/virtualenvs/personal-rag-7yCtySkO/lib/python3.11/site-packages/PIL/Image.py:3452: DecompressionBombWarning: Image size (93500000 pixels) exceeds limit of 89478485 pixels, could be decompression bomb DOS attack.\n",
      "  warnings.warn(\n",
      "/home/kevinwang/.local/share/virtualenvs/personal-rag-7yCtySkO/lib/python3.11/site-packages/PIL/Image.py:3452: DecompressionBombWarning: Image size (93500000 pixels) exceeds limit of 89478485 pixels, could be decompression bomb DOS attack.\n",
      "  warnings.warn(\n",
      "/home/kevinwang/.local/share/virtualenvs/personal-rag-7yCtySkO/lib/python3.11/site-packages/PIL/Image.py:3452: DecompressionBombWarning: Image size (93500000 pixels) exceeds limit of 89478485 pixels, could be decompression bomb DOS attack.\n",
      "  warnings.warn(\n",
      "/home/kevinwang/.local/share/virtualenvs/personal-rag-7yCtySkO/lib/python3.11/site-packages/PIL/Image.py:3452: DecompressionBombWarning: Image size (93500000 pixels) exceeds limit of 89478485 pixels, could be decompression bomb DOS attack.\n",
      "  warnings.warn(\n",
      "/home/kevinwang/.local/share/virtualenvs/personal-rag-7yCtySkO/lib/python3.11/site-packages/PIL/Image.py:3452: DecompressionBombWarning: Image size (93500000 pixels) exceeds limit of 89478485 pixels, could be decompression bomb DOS attack.\n",
      "  warnings.warn(\n",
      "/home/kevinwang/.local/share/virtualenvs/personal-rag-7yCtySkO/lib/python3.11/site-packages/PIL/Image.py:3452: DecompressionBombWarning: Image size (93500000 pixels) exceeds limit of 89478485 pixels, could be decompression bomb DOS attack.\n",
      "  warnings.warn(\n",
      "/home/kevinwang/.local/share/virtualenvs/personal-rag-7yCtySkO/lib/python3.11/site-packages/PIL/Image.py:3452: DecompressionBombWarning: Image size (93500000 pixels) exceeds limit of 89478485 pixels, could be decompression bomb DOS attack.\n",
      "  warnings.warn(\n",
      "/home/kevinwang/.local/share/virtualenvs/personal-rag-7yCtySkO/lib/python3.11/site-packages/PIL/Image.py:3452: DecompressionBombWarning: Image size (93500000 pixels) exceeds limit of 89478485 pixels, could be decompression bomb DOS attack.\n",
      "  warnings.warn(\n",
      "/home/kevinwang/.local/share/virtualenvs/personal-rag-7yCtySkO/lib/python3.11/site-packages/PIL/Image.py:3452: DecompressionBombWarning: Image size (93500000 pixels) exceeds limit of 89478485 pixels, could be decompression bomb DOS attack.\n",
      "  warnings.warn(\n",
      "/home/kevinwang/.local/share/virtualenvs/personal-rag-7yCtySkO/lib/python3.11/site-packages/PIL/Image.py:3452: DecompressionBombWarning: Image size (93500000 pixels) exceeds limit of 89478485 pixels, could be decompression bomb DOS attack.\n",
      "  warnings.warn(\n",
      "/home/kevinwang/.local/share/virtualenvs/personal-rag-7yCtySkO/lib/python3.11/site-packages/PIL/Image.py:3452: DecompressionBombWarning: Image size (93500000 pixels) exceeds limit of 89478485 pixels, could be decompression bomb DOS attack.\n",
      "  warnings.warn(\n",
      "/home/kevinwang/.local/share/virtualenvs/personal-rag-7yCtySkO/lib/python3.11/site-packages/PIL/Image.py:3452: DecompressionBombWarning: Image size (93500000 pixels) exceeds limit of 89478485 pixels, could be decompression bomb DOS attack.\n",
      "  warnings.warn(\n",
      "/home/kevinwang/.local/share/virtualenvs/personal-rag-7yCtySkO/lib/python3.11/site-packages/PIL/Image.py:3452: DecompressionBombWarning: Image size (93500000 pixels) exceeds limit of 89478485 pixels, could be decompression bomb DOS attack.\n",
      "  warnings.warn(\n",
      "/home/kevinwang/.local/share/virtualenvs/personal-rag-7yCtySkO/lib/python3.11/site-packages/PIL/Image.py:3452: DecompressionBombWarning: Image size (93500000 pixels) exceeds limit of 89478485 pixels, could be decompression bomb DOS attack.\n",
      "  warnings.warn(\n",
      "/home/kevinwang/.local/share/virtualenvs/personal-rag-7yCtySkO/lib/python3.11/site-packages/PIL/Image.py:3452: DecompressionBombWarning: Image size (93500000 pixels) exceeds limit of 89478485 pixels, could be decompression bomb DOS attack.\n",
      "  warnings.warn(\n",
      "/home/kevinwang/.local/share/virtualenvs/personal-rag-7yCtySkO/lib/python3.11/site-packages/PIL/Image.py:3452: DecompressionBombWarning: Image size (93500000 pixels) exceeds limit of 89478485 pixels, could be decompression bomb DOS attack.\n",
      "  warnings.warn(\n",
      "/home/kevinwang/.local/share/virtualenvs/personal-rag-7yCtySkO/lib/python3.11/site-packages/PIL/Image.py:3452: DecompressionBombWarning: Image size (93500000 pixels) exceeds limit of 89478485 pixels, could be decompression bomb DOS attack.\n",
      "  warnings.warn(\n",
      "/home/kevinwang/.local/share/virtualenvs/personal-rag-7yCtySkO/lib/python3.11/site-packages/PIL/Image.py:3452: DecompressionBombWarning: Image size (93500000 pixels) exceeds limit of 89478485 pixels, could be decompression bomb DOS attack.\n",
      "  warnings.warn(\n",
      "/home/kevinwang/.local/share/virtualenvs/personal-rag-7yCtySkO/lib/python3.11/site-packages/PIL/Image.py:3452: DecompressionBombWarning: Image size (93500000 pixels) exceeds limit of 89478485 pixels, could be decompression bomb DOS attack.\n",
      "  warnings.warn(\n",
      "/home/kevinwang/.local/share/virtualenvs/personal-rag-7yCtySkO/lib/python3.11/site-packages/PIL/Image.py:3452: DecompressionBombWarning: Image size (93500000 pixels) exceeds limit of 89478485 pixels, could be decompression bomb DOS attack.\n",
      "  warnings.warn(\n",
      "/home/kevinwang/.local/share/virtualenvs/personal-rag-7yCtySkO/lib/python3.11/site-packages/PIL/Image.py:3452: DecompressionBombWarning: Image size (96677724 pixels) exceeds limit of 89478485 pixels, could be decompression bomb DOS attack.\n",
      "  warnings.warn(\n",
      "/home/kevinwang/.local/share/virtualenvs/personal-rag-7yCtySkO/lib/python3.11/site-packages/PIL/Image.py:3452: DecompressionBombWarning: Image size (96677724 pixels) exceeds limit of 89478485 pixels, could be decompression bomb DOS attack.\n",
      "  warnings.warn(\n",
      "/home/kevinwang/.local/share/virtualenvs/personal-rag-7yCtySkO/lib/python3.11/site-packages/PIL/Image.py:3452: DecompressionBombWarning: Image size (96677724 pixels) exceeds limit of 89478485 pixels, could be decompression bomb DOS attack.\n",
      "  warnings.warn(\n",
      "/home/kevinwang/.local/share/virtualenvs/personal-rag-7yCtySkO/lib/python3.11/site-packages/PIL/Image.py:3452: DecompressionBombWarning: Image size (93500000 pixels) exceeds limit of 89478485 pixels, could be decompression bomb DOS attack.\n",
      "  warnings.warn(\n",
      "/home/kevinwang/.local/share/virtualenvs/personal-rag-7yCtySkO/lib/python3.11/site-packages/PIL/Image.py:3452: DecompressionBombWarning: Image size (93500000 pixels) exceeds limit of 89478485 pixels, could be decompression bomb DOS attack.\n",
      "  warnings.warn(\n",
      "/home/kevinwang/.local/share/virtualenvs/personal-rag-7yCtySkO/lib/python3.11/site-packages/PIL/Image.py:3452: DecompressionBombWarning: Image size (93500000 pixels) exceeds limit of 89478485 pixels, could be decompression bomb DOS attack.\n",
      "  warnings.warn(\n",
      "/home/kevinwang/.local/share/virtualenvs/personal-rag-7yCtySkO/lib/python3.11/site-packages/PIL/Image.py:3452: DecompressionBombWarning: Image size (93500000 pixels) exceeds limit of 89478485 pixels, could be decompression bomb DOS attack.\n",
      "  warnings.warn(\n",
      "/home/kevinwang/.local/share/virtualenvs/personal-rag-7yCtySkO/lib/python3.11/site-packages/PIL/Image.py:3452: DecompressionBombWarning: Image size (93500000 pixels) exceeds limit of 89478485 pixels, could be decompression bomb DOS attack.\n",
      "  warnings.warn(\n",
      "/home/kevinwang/.local/share/virtualenvs/personal-rag-7yCtySkO/lib/python3.11/site-packages/PIL/Image.py:3452: DecompressionBombWarning: Image size (93500000 pixels) exceeds limit of 89478485 pixels, could be decompression bomb DOS attack.\n",
      "  warnings.warn(\n",
      "/home/kevinwang/.local/share/virtualenvs/personal-rag-7yCtySkO/lib/python3.11/site-packages/PIL/Image.py:3452: DecompressionBombWarning: Image size (93500000 pixels) exceeds limit of 89478485 pixels, could be decompression bomb DOS attack.\n",
      "  warnings.warn(\n",
      "/home/kevinwang/.local/share/virtualenvs/personal-rag-7yCtySkO/lib/python3.11/site-packages/PIL/Image.py:3452: DecompressionBombWarning: Image size (93500000 pixels) exceeds limit of 89478485 pixels, could be decompression bomb DOS attack.\n",
      "  warnings.warn(\n",
      "/home/kevinwang/.local/share/virtualenvs/personal-rag-7yCtySkO/lib/python3.11/site-packages/PIL/Image.py:3452: DecompressionBombWarning: Image size (93500000 pixels) exceeds limit of 89478485 pixels, could be decompression bomb DOS attack.\n",
      "  warnings.warn(\n",
      "/home/kevinwang/.local/share/virtualenvs/personal-rag-7yCtySkO/lib/python3.11/site-packages/PIL/Image.py:3452: DecompressionBombWarning: Image size (93500000 pixels) exceeds limit of 89478485 pixels, could be decompression bomb DOS attack.\n",
      "  warnings.warn(\n",
      "/home/kevinwang/.local/share/virtualenvs/personal-rag-7yCtySkO/lib/python3.11/site-packages/PIL/Image.py:3452: DecompressionBombWarning: Image size (93500000 pixels) exceeds limit of 89478485 pixels, could be decompression bomb DOS attack.\n",
      "  warnings.warn(\n",
      "/home/kevinwang/.local/share/virtualenvs/personal-rag-7yCtySkO/lib/python3.11/site-packages/PIL/Image.py:3452: DecompressionBombWarning: Image size (93500000 pixels) exceeds limit of 89478485 pixels, could be decompression bomb DOS attack.\n",
      "  warnings.warn(\n",
      "/home/kevinwang/.local/share/virtualenvs/personal-rag-7yCtySkO/lib/python3.11/site-packages/PIL/Image.py:3452: DecompressionBombWarning: Image size (93500000 pixels) exceeds limit of 89478485 pixels, could be decompression bomb DOS attack.\n",
      "  warnings.warn(\n",
      "/home/kevinwang/.local/share/virtualenvs/personal-rag-7yCtySkO/lib/python3.11/site-packages/PIL/Image.py:3452: DecompressionBombWarning: Image size (93500000 pixels) exceeds limit of 89478485 pixels, could be decompression bomb DOS attack.\n",
      "  warnings.warn(\n",
      "/home/kevinwang/.local/share/virtualenvs/personal-rag-7yCtySkO/lib/python3.11/site-packages/PIL/Image.py:3452: DecompressionBombWarning: Image size (93500000 pixels) exceeds limit of 89478485 pixels, could be decompression bomb DOS attack.\n",
      "  warnings.warn(\n",
      "/home/kevinwang/.local/share/virtualenvs/personal-rag-7yCtySkO/lib/python3.11/site-packages/PIL/Image.py:3452: DecompressionBombWarning: Image size (93500000 pixels) exceeds limit of 89478485 pixels, could be decompression bomb DOS attack.\n",
      "  warnings.warn(\n",
      "/home/kevinwang/.local/share/virtualenvs/personal-rag-7yCtySkO/lib/python3.11/site-packages/PIL/Image.py:3452: DecompressionBombWarning: Image size (93500000 pixels) exceeds limit of 89478485 pixels, could be decompression bomb DOS attack.\n",
      "  warnings.warn(\n",
      "/home/kevinwang/.local/share/virtualenvs/personal-rag-7yCtySkO/lib/python3.11/site-packages/PIL/Image.py:3452: DecompressionBombWarning: Image size (93500000 pixels) exceeds limit of 89478485 pixels, could be decompression bomb DOS attack.\n",
      "  warnings.warn(\n",
      "/home/kevinwang/.local/share/virtualenvs/personal-rag-7yCtySkO/lib/python3.11/site-packages/PIL/Image.py:3452: DecompressionBombWarning: Image size (93500000 pixels) exceeds limit of 89478485 pixels, could be decompression bomb DOS attack.\n",
      "  warnings.warn(\n",
      "/home/kevinwang/.local/share/virtualenvs/personal-rag-7yCtySkO/lib/python3.11/site-packages/PIL/Image.py:3452: DecompressionBombWarning: Image size (93500000 pixels) exceeds limit of 89478485 pixels, could be decompression bomb DOS attack.\n",
      "  warnings.warn(\n",
      "/home/kevinwang/.local/share/virtualenvs/personal-rag-7yCtySkO/lib/python3.11/site-packages/PIL/Image.py:3452: DecompressionBombWarning: Image size (93500000 pixels) exceeds limit of 89478485 pixels, could be decompression bomb DOS attack.\n",
      "  warnings.warn(\n",
      "/home/kevinwang/.local/share/virtualenvs/personal-rag-7yCtySkO/lib/python3.11/site-packages/PIL/Image.py:3452: DecompressionBombWarning: Image size (93500000 pixels) exceeds limit of 89478485 pixels, could be decompression bomb DOS attack.\n",
      "  warnings.warn(\n",
      "/home/kevinwang/.local/share/virtualenvs/personal-rag-7yCtySkO/lib/python3.11/site-packages/PIL/Image.py:3452: DecompressionBombWarning: Image size (93500000 pixels) exceeds limit of 89478485 pixels, could be decompression bomb DOS attack.\n",
      "  warnings.warn(\n",
      "/home/kevinwang/.local/share/virtualenvs/personal-rag-7yCtySkO/lib/python3.11/site-packages/PIL/Image.py:3452: DecompressionBombWarning: Image size (93500000 pixels) exceeds limit of 89478485 pixels, could be decompression bomb DOS attack.\n",
      "  warnings.warn(\n",
      "/home/kevinwang/.local/share/virtualenvs/personal-rag-7yCtySkO/lib/python3.11/site-packages/PIL/Image.py:3452: DecompressionBombWarning: Image size (93500000 pixels) exceeds limit of 89478485 pixels, could be decompression bomb DOS attack.\n",
      "  warnings.warn(\n",
      "/home/kevinwang/.local/share/virtualenvs/personal-rag-7yCtySkO/lib/python3.11/site-packages/PIL/Image.py:3452: DecompressionBombWarning: Image size (93500000 pixels) exceeds limit of 89478485 pixels, could be decompression bomb DOS attack.\n",
      "  warnings.warn(\n",
      "/home/kevinwang/.local/share/virtualenvs/personal-rag-7yCtySkO/lib/python3.11/site-packages/PIL/Image.py:3452: DecompressionBombWarning: Image size (93500000 pixels) exceeds limit of 89478485 pixels, could be decompression bomb DOS attack.\n",
      "  warnings.warn(\n",
      "/home/kevinwang/.local/share/virtualenvs/personal-rag-7yCtySkO/lib/python3.11/site-packages/PIL/Image.py:3452: DecompressionBombWarning: Image size (93500000 pixels) exceeds limit of 89478485 pixels, could be decompression bomb DOS attack.\n",
      "  warnings.warn(\n",
      "/home/kevinwang/.local/share/virtualenvs/personal-rag-7yCtySkO/lib/python3.11/site-packages/PIL/Image.py:3452: DecompressionBombWarning: Image size (93500000 pixels) exceeds limit of 89478485 pixels, could be decompression bomb DOS attack.\n",
      "  warnings.warn(\n",
      "/home/kevinwang/.local/share/virtualenvs/personal-rag-7yCtySkO/lib/python3.11/site-packages/PIL/Image.py:3452: DecompressionBombWarning: Image size (93500000 pixels) exceeds limit of 89478485 pixels, could be decompression bomb DOS attack.\n",
      "  warnings.warn(\n",
      "/home/kevinwang/.local/share/virtualenvs/personal-rag-7yCtySkO/lib/python3.11/site-packages/PIL/Image.py:3452: DecompressionBombWarning: Image size (93500000 pixels) exceeds limit of 89478485 pixels, could be decompression bomb DOS attack.\n",
      "  warnings.warn(\n",
      "/home/kevinwang/.local/share/virtualenvs/personal-rag-7yCtySkO/lib/python3.11/site-packages/PIL/Image.py:3452: DecompressionBombWarning: Image size (96677724 pixels) exceeds limit of 89478485 pixels, could be decompression bomb DOS attack.\n",
      "  warnings.warn(\n",
      "/home/kevinwang/.local/share/virtualenvs/personal-rag-7yCtySkO/lib/python3.11/site-packages/PIL/Image.py:3452: DecompressionBombWarning: Image size (93500000 pixels) exceeds limit of 89478485 pixels, could be decompression bomb DOS attack.\n",
      "  warnings.warn(\n",
      "/home/kevinwang/.local/share/virtualenvs/personal-rag-7yCtySkO/lib/python3.11/site-packages/PIL/Image.py:3452: DecompressionBombWarning: Image size (93500000 pixels) exceeds limit of 89478485 pixels, could be decompression bomb DOS attack.\n",
      "  warnings.warn(\n",
      "/home/kevinwang/.local/share/virtualenvs/personal-rag-7yCtySkO/lib/python3.11/site-packages/PIL/Image.py:3452: DecompressionBombWarning: Image size (93500000 pixels) exceeds limit of 89478485 pixels, could be decompression bomb DOS attack.\n",
      "  warnings.warn(\n",
      "/home/kevinwang/.local/share/virtualenvs/personal-rag-7yCtySkO/lib/python3.11/site-packages/PIL/Image.py:3452: DecompressionBombWarning: Image size (93500000 pixels) exceeds limit of 89478485 pixels, could be decompression bomb DOS attack.\n",
      "  warnings.warn(\n",
      "/home/kevinwang/.local/share/virtualenvs/personal-rag-7yCtySkO/lib/python3.11/site-packages/PIL/Image.py:3452: DecompressionBombWarning: Image size (93500000 pixels) exceeds limit of 89478485 pixels, could be decompression bomb DOS attack.\n",
      "  warnings.warn(\n",
      "/home/kevinwang/.local/share/virtualenvs/personal-rag-7yCtySkO/lib/python3.11/site-packages/PIL/Image.py:3452: DecompressionBombWarning: Image size (93500000 pixels) exceeds limit of 89478485 pixels, could be decompression bomb DOS attack.\n",
      "  warnings.warn(\n",
      "/home/kevinwang/.local/share/virtualenvs/personal-rag-7yCtySkO/lib/python3.11/site-packages/PIL/Image.py:3452: DecompressionBombWarning: Image size (93500000 pixels) exceeds limit of 89478485 pixels, could be decompression bomb DOS attack.\n",
      "  warnings.warn(\n",
      "/home/kevinwang/.local/share/virtualenvs/personal-rag-7yCtySkO/lib/python3.11/site-packages/PIL/Image.py:3452: DecompressionBombWarning: Image size (93500000 pixels) exceeds limit of 89478485 pixels, could be decompression bomb DOS attack.\n",
      "  warnings.warn(\n",
      "/home/kevinwang/.local/share/virtualenvs/personal-rag-7yCtySkO/lib/python3.11/site-packages/PIL/Image.py:3452: DecompressionBombWarning: Image size (93500000 pixels) exceeds limit of 89478485 pixels, could be decompression bomb DOS attack.\n",
      "  warnings.warn(\n",
      "/home/kevinwang/.local/share/virtualenvs/personal-rag-7yCtySkO/lib/python3.11/site-packages/PIL/Image.py:3452: DecompressionBombWarning: Image size (93500000 pixels) exceeds limit of 89478485 pixels, could be decompression bomb DOS attack.\n",
      "  warnings.warn(\n",
      "/home/kevinwang/.local/share/virtualenvs/personal-rag-7yCtySkO/lib/python3.11/site-packages/PIL/Image.py:3452: DecompressionBombWarning: Image size (93500000 pixels) exceeds limit of 89478485 pixels, could be decompression bomb DOS attack.\n",
      "  warnings.warn(\n",
      "/home/kevinwang/.local/share/virtualenvs/personal-rag-7yCtySkO/lib/python3.11/site-packages/PIL/Image.py:3452: DecompressionBombWarning: Image size (93500000 pixels) exceeds limit of 89478485 pixels, could be decompression bomb DOS attack.\n",
      "  warnings.warn(\n"
     ]
    }
   ],
   "source": [
    "from ingestion.file_loaders.goodnotes.loader import GoodnotesLoader\n",
    "loader = GoodnotesLoader()\n",
    "\n",
    "loader_results = []\n",
    "for filepath in [\"早安日語-孫寅華.pdf\",]:\n",
    "    print(filepath)\n",
    "    loader_results = loader.load(filepath)"
   ]
  },
  {
   "cell_type": "code",
   "execution_count": 3,
   "id": "7a5239ea",
   "metadata": {},
   "outputs": [
    {
     "data": {
      "text/plain": [
       "[LoaderResult(content='早安日語\\n孫寅華', metadata=GoodnotesMetadata(file_type=<FileType.PDF: 'pdf'>, file_name='早安日語-孫寅華.pdf', title=None, author=None, subject=None, created_at=datetime.datetime(2025, 8, 30, 10, 50, 4, tzinfo=TzInfo(UTC)), modified_at=datetime.datetime(2025, 8, 30, 10, 50, 4, tzinfo=TzInfo(UTC)), is_chunk=False, chunk_info=None, extra={'bg_mode': 'black'}, source=None, producer='iOS Version 18.5 (Build 22F76) Quartz PDFContext', page=1, outlines=[]), doc=None),\n",
       " LoaderResult(content='早安日語\\n孫寅華\\n\\n二\\n▲\\n★\\n●\\n0\\n?\\n\\n\\n-\\n1', metadata=GoodnotesMetadata(file_type=<FileType.PDF: 'pdf'>, file_name='早安日語-孫寅華.pdf', title=None, author=None, subject=None, created_at=datetime.datetime(2025, 8, 30, 10, 50, 4, tzinfo=TzInfo(UTC)), modified_at=datetime.datetime(2025, 8, 30, 10, 50, 4, tzinfo=TzInfo(UTC)), is_chunk=False, chunk_info=None, extra={'bg_mode': 'black'}, source=None, producer='iOS Version 18.5 (Build 22F76) Quartz PDFContext', page=1, outlines=[]), doc=None),\n",
       " LoaderResult(content='本文\\n', metadata=GoodnotesMetadata(file_type=<FileType.PDF: 'pdf'>, file_name='早安日語-孫寅華.pdf', title=None, author=None, subject=None, created_at=datetime.datetime(2025, 8, 30, 10, 50, 4, tzinfo=TzInfo(UTC)), modified_at=datetime.datetime(2025, 8, 30, 10, 50, 4, tzinfo=TzInfo(UTC)), is_chunk=False, chunk_info=None, extra={'bg_mode': 'black'}, source=None, producer='iOS Version 18.5 (Build 22F76) Quartz PDFContext', page=2, outlines=[]), doc=None),\n",
       " LoaderResult(content='中文翻譯\\n單詞註解\\n文法註解\\n重點提示，注意\\n音变规则(部份地区)\\n高階文法，加強處\\n疑問處(颜色不限)\\nRecall', metadata=GoodnotesMetadata(file_type=<FileType.PDF: 'pdf'>, file_name='早安日語-孫寅華.pdf', title=None, author=None, subject=None, created_at=datetime.datetime(2025, 8, 30, 10, 50, 4, tzinfo=TzInfo(UTC)), modified_at=datetime.datetime(2025, 8, 30, 10, 50, 4, tzinfo=TzInfo(UTC)), is_chunk=False, chunk_info=None, extra={'bg_mode': 'black'}, source=None, producer='iOS Version 18.5 (Build 22F76) Quartz PDFContext', page=2, outlines=[]), doc=None),\n",
       " LoaderResult(content='单字排版工具', metadata=GoodnotesMetadata(file_type=<FileType.PDF: 'pdf'>, file_name='早安日語-孫寅華.pdf', title=None, author=None, subject=None, created_at=datetime.datetime(2025, 8, 30, 10, 50, 4, tzinfo=TzInfo(UTC)), modified_at=datetime.datetime(2025, 8, 30, 10, 50, 4, tzinfo=TzInfo(UTC)), is_chunk=False, chunk_info=None, extra={'bg_mode': 'black'}, source=None, producer='iOS Version 18.5 (Build 22F76) Quartz PDFContext', page=3, outlines=[]), doc=None),\n",
       " LoaderResult(content='', metadata=GoodnotesMetadata(file_type=<FileType.PDF: 'pdf'>, file_name='早安日語-孫寅華.pdf', title=None, author=None, subject=None, created_at=datetime.datetime(2025, 8, 30, 10, 50, 4, tzinfo=TzInfo(UTC)), modified_at=datetime.datetime(2025, 8, 30, 10, 50, 4, tzinfo=TzInfo(UTC)), is_chunk=False, chunk_info=None, extra={'bg_mode': 'black'}, source=None, producer='iOS Version 18.5 (Build 22F76) Quartz PDFContext', page=3, outlines=[]), doc=None),\n",
       " LoaderResult(content='', metadata=GoodnotesMetadata(file_type=<FileType.PDF: 'pdf'>, file_name='早安日語-孫寅華.pdf', title=None, author=None, subject=None, created_at=datetime.datetime(2025, 8, 30, 10, 50, 4, tzinfo=TzInfo(UTC)), modified_at=datetime.datetime(2025, 8, 30, 10, 50, 4, tzinfo=TzInfo(UTC)), is_chunk=False, chunk_info=None, extra={'bg_mode': 'black'}, source=None, producer='iOS Version 18.5 (Build 22F76) Quartz PDFContext', page=4, outlines=[]), doc=None),\n",
       " LoaderResult(content='', metadata=GoodnotesMetadata(file_type=<FileType.PDF: 'pdf'>, file_name='早安日語-孫寅華.pdf', title=None, author=None, subject=None, created_at=datetime.datetime(2025, 8, 30, 10, 50, 4, tzinfo=TzInfo(UTC)), modified_at=datetime.datetime(2025, 8, 30, 10, 50, 4, tzinfo=TzInfo(UTC)), is_chunk=False, chunk_info=None, extra={'bg_mode': 'black'}, source=None, producer='iOS Version 18.5 (Build 22F76) Quartz PDFContext', page=4, outlines=[]), doc=None),\n",
       " LoaderResult(content='有關重音記號\\n有2種記錄方式：劃線，數字\\n*釋例：暖ガ)（あたたガ（))[4]\\n(あたたかい)[4]\\n*重音种類\\n1.平板型：數字標示為[0]，劃線標示為\\nEMY\\n2.頭高型：數字標示為[1]，劃線標示為，高音在字首\\nE\\n3.中高型：數字標示為[2}.[3].[4]，劃線標示為，高音在中段，字為低音\\nEM号\\n4.尾高型：數字標示[2].[3].[4]劃線標示為，高音從中段到字末\\nEMY\\n或\\nEM\\nE\\n日本語(にほ人ご)\\n持っていく(もていく)\\n急所(まゅうしゃ)\\nデート', metadata=GoodnotesMetadata(file_type=<FileType.PDF: 'pdf'>, file_name='早安日語-孫寅華.pdf', title=None, author=None, subject=None, created_at=datetime.datetime(2025, 8, 30, 10, 50, 4, tzinfo=TzInfo(UTC)), modified_at=datetime.datetime(2025, 8, 30, 10, 50, 4, tzinfo=TzInfo(UTC)), is_chunk=False, chunk_info=None, extra={'bg_mode': 'black'}, source=None, producer='iOS Version 18.5 (Build 22F76) Quartz PDFContext', page=5, outlines=[]), doc=None),\n",
       " LoaderResult(content='△頭項劃線發高音，其它發低音\\n→高音轉低音的音節，詳情見下方\\n△同上，有人會這樣記\\n*小技巧\\n1.日文第一.二音节重音必相異\\n2.平板型，尾高型單字发音相同，\\n差別在“接續助詞，的發音\\n平板型高音延伸\\n尾高型，回到低音\\n3.辨識音節\\n鼻音，促音算一音節\\n拗音一個音節\\n長音一個音節', metadata=GoodnotesMetadata(file_type=<FileType.PDF: 'pdf'>, file_name='早安日語-孫寅華.pdf', title=None, author=None, subject=None, created_at=datetime.datetime(2025, 8, 30, 10, 50, 4, tzinfo=TzInfo(UTC)), modified_at=datetime.datetime(2025, 8, 30, 10, 50, 4, tzinfo=TzInfo(UTC)), is_chunk=False, chunk_info=None, extra={'bg_mode': 'black'}, source=None, producer='iOS Version 18.5 (Build 22F76) Quartz PDFContext', page=5, outlines=[]), doc=None),\n",
       " LoaderResult(content='', metadata=GoodnotesMetadata(file_type=<FileType.PDF: 'pdf'>, file_name='早安日語-孫寅華.pdf', title=None, author=None, subject=None, created_at=datetime.datetime(2025, 8, 30, 10, 50, 4, tzinfo=TzInfo(UTC)), modified_at=datetime.datetime(2025, 8, 30, 10, 50, 4, tzinfo=TzInfo(UTC)), is_chunk=False, chunk_info=None, extra={'bg_mode': 'white'}, source=None, producer='iOS Version 18.5 (Build 22F76) Quartz PDFContext', page=6, outlines=[]), doc=None),\n",
       " LoaderResult(content='淡江大學\\n核心日文教材', metadata=GoodnotesMetadata(file_type=<FileType.PDF: 'pdf'>, file_name='早安日語-孫寅華.pdf', title=None, author=None, subject=None, created_at=datetime.datetime(2025, 8, 30, 10, 50, 4, tzinfo=TzInfo(UTC)), modified_at=datetime.datetime(2025, 8, 30, 10, 50, 4, tzinfo=TzInfo(UTC)), is_chunk=False, chunk_info=None, extra={'bg_mode': 'white'}, source=None, producer='iOS Version 18.5 (Build 22F76) Quartz PDFContext', page=6, outlines=[]), doc=None),\n",
       " LoaderResult(content='CHAPTER01\\n文型\\nに\\n1、これは何ですか。\\nほ人\\nそれは本です。\\nにほんこ\\nほん\\n2.あれは日本語 の本です\\n3.それも日本語の本ですか。\\nはい、そうです。\\nいいえそうではありません。\\nちが\\n(=まんこ\\nほん\\nいいえ違います。これは日本語の本ではありませ人。\\nじLょ\\n=ほご\\n4、日本語の辞書はどれですか。\\nじしょ\\nにほんご\\n日本語の辞書はこれです\\nじしよ\\nほん\\n5、それは本ですか、辞書ですか。\\nしじ\\nこれは辞書です\\n文法\\n~は：助詞、修飾主語\\n~7す：助動詞，だ”的鄭重體，表斷定\\n～か：終助詞，置於句末，表疑問\\n~の：助詞，(~的)表所屬，性質、同格\\n~も：助詞，(~也)\\n～ます：助詞，置於 V通用之後，表尊敬\\n~ではありません：助詞「~です否定形\\n慣用語\\nちが\\n。違います：不對;錯誤。', metadata=GoodnotesMetadata(file_type=<FileType.PDF: 'pdf'>, file_name='早安日語-孫寅華.pdf', title=None, author=None, subject=None, created_at=datetime.datetime(2025, 8, 30, 10, 50, 4, tzinfo=TzInfo(UTC)), modified_at=datetime.datetime(2025, 8, 30, 10, 50, 4, tzinfo=TzInfo(UTC)), is_chunk=False, chunk_info=None, extra={'bg_mode': 'black'}, source=None, producer='iOS Version 18.5 (Build 22F76) Quartz PDFContext', page=7, outlines=[]), doc=None),\n",
       " LoaderResult(content='*下，是表图去吗？\\n*我覺得可以用中文的也去理解。', metadata=GoodnotesMetadata(file_type=<FileType.PDF: 'pdf'>, file_name='早安日語-孫寅華.pdf', title=None, author=None, subject=None, created_at=datetime.datetime(2025, 8, 30, 10, 50, 4, tzinfo=TzInfo(UTC)), modified_at=datetime.datetime(2025, 8, 30, 10, 50, 4, tzinfo=TzInfo(UTC)), is_chunk=False, chunk_info=None, extra={'bg_mode': 'black'}, source=None, producer='iOS Version 18.5 (Build 22F76) Quartz PDFContext', page=7, outlines=[]), doc=None),\n",
       " LoaderResult(content='れん\\n練習\\n1.\\n7.\\nはいこれはチョークです\\nじよ\\nちが\\n2、\\nいいえ，違います。これは辞書です。\\n3.\\nはい、そうです。\\nChぶh\\n4\\nいいえ、これは新聞ではありません。雑誌です。\\nChぶん\\n1B.\\nあれは新聞です。\\n2B.\\nそれはコーヒーです。\\n8.\\nえんひうけい\\nしんぶん\\n9.1\\nそれは鉛筆/時計/ポールペン/新聞です\\nほ人\\n2.\\nはい、これは本です\\nほ人\\nにほ人ご\\n3、これは日本語の本です。\\n4，\\nライターはこれです。', metadata=GoodnotesMetadata(file_type=<FileType.PDF: 'pdf'>, file_name='早安日語-孫寅華.pdf', title=None, author=None, subject=None, created_at=datetime.datetime(2025, 8, 30, 10, 50, 4, tzinfo=TzInfo(UTC)), modified_at=datetime.datetime(2025, 8, 30, 10, 50, 4, tzinfo=TzInfo(UTC)), is_chunk=False, chunk_info=None, extra={'bg_mode': 'black'}, source=None, producer='iOS Version 18.5 (Build 22F76) Quartz PDFContext', page=8, outlines=[]), doc=None),\n",
       " LoaderResult(content='', metadata=GoodnotesMetadata(file_type=<FileType.PDF: 'pdf'>, file_name='早安日語-孫寅華.pdf', title=None, author=None, subject=None, created_at=datetime.datetime(2025, 8, 30, 10, 50, 4, tzinfo=TzInfo(UTC)), modified_at=datetime.datetime(2025, 8, 30, 10, 50, 4, tzinfo=TzInfo(UTC)), is_chunk=False, chunk_info=None, extra={'bg_mode': 'black'}, source=None, producer='iOS Version 18.5 (Build 22F76) Quartz PDFContext', page=8, outlines=[]), doc=None),\n",
       " LoaderResult(content='CHAPTER 02\\nth\\n单語\\nわたし\\n私\\nがくせい\\n学生\\nぎんこう\\n銀行\\nにほ人じん\\n日本人\\nこの\\nここ\\nこちら\\nうち\\n\\nうえ\\nともだち\\n友達\\nだれ\\n誰\\nわたしたち\\n私達\\nせんせい\\n先生\\nゆうびんきよく\\n郵便局\\n「=いわんじん\\n台湾人\\nその\\nそこ\\nそちら\\n国\\n防方\\n认\\nがくちょう\\n学长\\nとしょガん\\nほんや\\n図書館\\n本屋\\nMレ\\nアメリカじん\\nあの\\nあそこ\\nあちら\\nどなた\\nきょうしつ\\n教室\\nがっこう\\n学校\\nかいや\\n會社~や\\nパン\\nパンヤ\\nどこ\\nどちら\\nお~\\nお\\n文型\\nがくせい\\n1、わたしは学生です。\\n(二んぼん人\\n日本人てはありせん。\\nたいわ人じん\\nがくせい\\n学生です。台湾人です。\\nたんこうだいがく\\nがくせい\\nわたしたちは淡江大学の学生です。\\nひと\\n2、この人はだれですか。\\nとうたち\\nひ\\nその人はわたしの友達です。\\nとうたち\\nにほんじん\\nひ℃\\nその人はわたしの友達で、日本人です。\\nかた\\n3.あの方はどなたですか。\\nかたせんせい\\nあの方は先生です。\\nかたせんせい\\nじん\\nあの方は先生で、アメリカ人です。\\n4.ここはどこですか。\\nたんこうだいがく\\nここは淡江大学です。\\nがくせい\\nたんこうだいがく\\nここは淡江大学でわたしたちの学生です。\\nとかん\\n5、図書館はどこですか。', metadata=GoodnotesMetadata(file_type=<FileType.PDF: 'pdf'>, file_name='早安日語-孫寅華.pdf', title=None, author=None, subject=None, created_at=datetime.datetime(2025, 8, 30, 10, 50, 4, tzinfo=TzInfo(UTC)), modified_at=datetime.datetime(2025, 8, 30, 10, 50, 4, tzinfo=TzInfo(UTC)), is_chunk=False, chunk_info=None, extra={'bg_mode': 'black'}, source=None, producer='iOS Version 18.5 (Build 22F76) Quartz PDFContext', page=9, outlines=[]), doc=None),\n",
       " LoaderResult(content='(誰，だれ，的敬稱)\\n(我們)\\n(老師)\\n(大學校長)\\n(toilet)\\n(書店)\\n(…屋1店)\\n(麦面)\\n(美面包店)\\n(那個;中稱)\\n(这個;近稱)\\n(這裡;近稱)\\n(那個;遠稱)\\nここ v.s、こち5\\n二：較輕松，僅能指地点\\nこち：較嚴謹，可以替代「ここ」，\\n6\\n上都用国可指場所/方向/物品人.用\\n(何處;不定稱)\\n(那裡;中稱)\\n(那裡;遠稱)\\n(那鼻;那位;遠稱)\\n(那邊;那位;中稱)\\n(這位;這邊;近稱)\\n(哪是;哪位;不定稱)\\n(表尊敬：在名词，形容词，形容动词)\\n(家，家庭)\\n(国家;家卿)\\n(上面)\\n私は台湾人です。', metadata=GoodnotesMetadata(file_type=<FileType.PDF: 'pdf'>, file_name='早安日語-孫寅華.pdf', title=None, author=None, subject=None, created_at=datetime.datetime(2025, 8, 30, 10, 50, 4, tzinfo=TzInfo(UTC)), modified_at=datetime.datetime(2025, 8, 30, 10, 50, 4, tzinfo=TzInfo(UTC)), is_chunk=False, chunk_info=None, extra={'bg_mode': 'black'}, source=None, producer='iOS Version 18.5 (Build 22F76) Quartz PDFContext', page=9, outlines=[]), doc=None),\n",
       " LoaderResult(content='文法\\n~で：助動詞，表並列或中斷\\n@慣用語\\nすみませんが：對不起請問.\\nれんし\\n練習\\n二ほ人\\nひと\\n7.ここは\\nあの\\n日本了\\n人の\\nくに\\n8.お国はどちらですが。\\nF<\\nお宅はどちらですが。\\nすすき\\nにほ人ご\\nせんせい\\nにほ人じん\\n9.(1)鈴木さんは日本人で、わたしたちの日本語の先生です。\\nもだち\\nほん\\n(3) あそこは本屋で友達のうちです\\nきょうしつ\\n10.(3)教室はどこですが\\nきょうし\\n教室はあそこです。\\nほ人\\n(7)これはだれの本ですが\\nともだち\\nこの本はわたしの友達の本です\\n<1\\n国\\nです。\\n其它\\nかいわ\\nたんこうだいがく\\n会話：淡江大学はとちらですが。\\nうえ\\nあの山の\\n上です。', metadata=GoodnotesMetadata(file_type=<FileType.PDF: 'pdf'>, file_name='早安日語-孫寅華.pdf', title=None, author=None, subject=None, created_at=datetime.datetime(2025, 8, 30, 10, 50, 4, tzinfo=TzInfo(UTC)), modified_at=datetime.datetime(2025, 8, 30, 10, 50, 4, tzinfo=TzInfo(UTC)), is_chunk=False, chunk_info=None, extra={'bg_mode': 'black'}, source=None, producer='iOS Version 18.5 (Build 22F76) Quartz PDFContext', page=10, outlines=[]), doc=None),\n",
       " LoaderResult(content='對答案.\\n可以省略嗎？', metadata=GoodnotesMetadata(file_type=<FileType.PDF: 'pdf'>, file_name='早安日語-孫寅華.pdf', title=None, author=None, subject=None, created_at=datetime.datetime(2025, 8, 30, 10, 50, 4, tzinfo=TzInfo(UTC)), modified_at=datetime.datetime(2025, 8, 30, 10, 50, 4, tzinfo=TzInfo(UTC)), is_chunk=False, chunk_info=None, extra={'bg_mode': 'black'}, source=None, producer='iOS Version 18.5 (Build 22F76) Quartz PDFContext', page=10, outlines=[]), doc=None),\n",
       " LoaderResult(content='CHAPTER 03\\nたんご\\n単語\\nじむい\\n事務室\\nくすりや\\n薬屋\\n1)3\\n~さん\\nかばん(\\nま之前\\n中\\nとtり()\\n极猫\\n大\\n文型\\nじむしつ\\nせんtい\\n1、事務室に先生がいます。\\nGoal：存在有無的表现(あ，))\\nこうえん\\n公園\\nたてもの\\n建物\\nおとひ\\nま男の人\\nしよくどう\\n堂\\n款\\nおとこ\\n男\\n部屋\\nデパート\\nはな\\nびょういん\\n察\\n花屋\\n病院\\nおとと\\n\\n弟\\nホテル\\nをっさてん\\n茶店\\nある\\n字じも\\n君\\n財布\\nかぎ\\n疏石\\n卡\\n後3\\nちかく近く)\\nそば\\n箱\\n今\\n范\\nLhぶん\\n新聞があります。\\nつ<元\\n上\\n2.机の\\nた\\\\\\nきょうしつ\\nすすき\\n3.教室に田中さんと鈴木さんがいます。\\n\\n[Ta]\\n\\nさいふ\\n財布とかぎがあります。\\n友か\\n中仁\\n4.かばんの\\nまえ\\n夕ペイえき\\n前にホテルヤデパートがあります。\\n5.台北駅の\\nとしょカん\\n図書館にいます\\nお\\n6.主さんは', metadata=GoodnotesMetadata(file_type=<FileType.PDF: 'pdf'>, file_name='早安日語-孫寅華.pdf', title=None, author=None, subject=None, created_at=datetime.datetime(2025, 8, 30, 10, 50, 4, tzinfo=TzInfo(UTC)), modified_at=datetime.datetime(2025, 8, 30, 10, 50, 4, tzinfo=TzInfo(UTC)), is_chunk=False, chunk_info=None, extra={'bg_mode': 'black'}, source=None, producer='iOS Version 18.5 (Build 22F76) Quartz PDFContext', page=11, outlines=[]), doc=None),\n",
       " LoaderResult(content='( Chonnel + 早安日語，孫寅華，lesson 10~ 15)\\n(lesson 10)\\nし<ど\\n食堂：泛指學生食堂，簡易餐廳，。较高级一些的餐廳则用卜>\\n停\\n：指有台的車站，如捷運，火車。公車站會說停\\n要系店：不供應餐/食品，專供茶飲。\\nげしゆく\\n察：尊指宿舍，若是在外面自租，则用\\n下宿\\nお=ひ\\nおと\\nかた\\n男の方\\n男の人\\n稍具冒犯性，可改用\\nくん\\n~君\\n：上對下，或對熟識友人，通常用於男性」，女性用~さ人」較佳\\nおとうと\\n稱呼他人弟妹要さん;妹さ人弟さん\\n不管大箱，小箱在日本都稱箱。\\n(辦公室)\\n(薬房)\\n(房間)\\n(學生宿舍)\\n(公園)\\n(建察物)\\n(餐廳，飯館)\\n*(車站)\\n(Hotel,旅館)\\n(deportment，百货公司)\\n（花店）\\n(無生命的物体)有;存在\\n*(~君)\\n(錢包)\\n(咖啡廳)\\n(醫院)\\n(人/動物/有生命的)有;存在\\n(男性)\\n(男人)\\n(~先生，~小姐)\\n(小孩子)\\n(输是)\\n(下面)\\n(後面)\\n(侧;旁遇)\\n(現在)\\n(妹妹)\\n(弟弟)\\n(皮包，書包.公事包)\\n父母\\n(裏面，內部)\\n(前面)\\n(右)\\n(鄰局，隔壁)\\n(附近，近處)\\n*\\n(箱子)\\n上左\\n(池塘)\\n(苗)\\n(狗)\\n(lesson 11,12\\n(辨公室有老師在)\\n和6比较\\n地莫助詞\\n(有生命的)存在\\n主語助詞\\n(桌上有一份報纸)\\n和7比较\\n(無生命的)存在\\nO\\n助詞，用於建接名詞與名詞，表並列。\\n*助词_}：n.++n{.通常要求名词要同性質\\n(動物+動物)\\n(人+人)\\n(物物)\\n+tomato)←可一直接下去\\n…など\\n*助詞：…や.\\n(台北車站前像是有飯店啦，百货公司等等)\\nn++n-t\"，用於舉例並列\\n助詞，用是接名詞與名词，表舉例业列。\\n通常搭配使用\\n副助詞，表舉例結束\\n(王先生/小姐在图書館)\\n句型1表 地有\\n句型6表 ②⑧在④\\n地点助词', metadata=GoodnotesMetadata(file_type=<FileType.PDF: 'pdf'>, file_name='早安日語-孫寅華.pdf', title=None, author=None, subject=None, created_at=datetime.datetime(2025, 8, 30, 10, 50, 4, tzinfo=TzInfo(UTC)), modified_at=datetime.datetime(2025, 8, 30, 10, 50, 4, tzinfo=TzInfo(UTC)), is_chunk=False, chunk_info=None, extra={'bg_mode': 'black'}, source=None, producer='iOS Version 18.5 (Build 22F76) Quartz PDFContext', page=11, outlines=[]), doc=None),\n",
       " LoaderResult(content='たんこうだいがく\\nたんすい\\n7.\\n淡江大学は淡水にあります\\nだいがく\\n8.この大学に\\nいいえ、\\nいんこう\\n銀行がありますか。\\n\\nい人こう\\n\\n\\n銀行はありせん。\\nとt7\\nヘ\\n9.隣の部屋にだれかいますか。\\nいいえだれもいません\\nれんゆ\\n練習\\n2n\\nヘや\\nいもうと\\n4.(1)隣の部屋妹がいます\\nいす\\nした\\nねこ\\n(2) 椅子の下に猫がいます\\nきょうしつ\\n(3)教室にたれもいません\\nいけなか\\n(4)池の中にいません\\nてんわ\\n3え\\nえんで\\nつく\\n5.(1)机の上に電話\\n鉛筆があります。\\nなか\\nほん\\nノートなどがあります。\\n(2) かばんの中に本や\\nはこなか\\n5\\n(3)箱の中に何もありません。\\nひようん\\n6()A：病院はどこにありますか。\\nこうえん\\nうし\\nひういん\\nB：病院は公園の後ろにあります。\\nゆうびんまよく\\nどこにありますか。\\n(2) A：郵便局は\\nさか\\nゆうびんきく\\nかいし\\n近くに\\n会社の\\nあります。\\nB：郵便局は', metadata=GoodnotesMetadata(file_type=<FileType.PDF: 'pdf'>, file_name='早安日語-孫寅華.pdf', title=None, author=None, subject=None, created_at=datetime.datetime(2025, 8, 30, 10, 50, 4, tzinfo=TzInfo(UTC)), modified_at=datetime.datetime(2025, 8, 30, 10, 50, 4, tzinfo=TzInfo(UTC)), is_chunk=False, chunk_info=None, extra={'bg_mode': 'black'}, source=None, producer='iOS Version 18.5 (Build 22F76) Quartz PDFContext', page=12, outlines=[]), doc=None),\n",
       " LoaderResult(content='(淡江大學在淡水)\\n句型2表 地有是物\\n句型7表 在地\\n主語助詞\\n此處不用が」而改用は\\n是特别為問句提出說明，有提示做用\\n的力不是在句未出现，所以非表疑問，而是表“不確定，属\\n注意此處是力，不是が\\n(隔壁房圈是不是有什麼人)\\n*だれもません没有何人)\\n*にも表人(沒有任何動物)\\n*(没有任何東管)\\n(任何人都没有)\\n*だも+否定用法=全面否定\\n(lesson 13)\\n表示池中“有生命物，如：鱼蝦', metadata=GoodnotesMetadata(file_type=<FileType.PDF: 'pdf'>, file_name='早安日語-孫寅華.pdf', title=None, author=None, subject=None, created_at=datetime.datetime(2025, 8, 30, 10, 50, 4, tzinfo=TzInfo(UTC)), modified_at=datetime.datetime(2025, 8, 30, 10, 50, 4, tzinfo=TzInfo(UTC)), is_chunk=False, chunk_info=None, extra={'bg_mode': 'black'}, source=None, producer='iOS Version 18.5 (Build 22F76) Quartz PDFContext', page=12, outlines=[]), doc=None),\n",
       " LoaderResult(content='たなガ\\n(3)A：田中さんはどこにいますか。\\nとなにちょういつ\\nたなか\\nB:\\n田中さんは隣の教室にいます。\\nおう\\n主さんはどこにいますか。\\n(4) A:\\nおう\\nまえ\\nnん\\nB：主さんは林さ人の前にいます。\\nつ<えう元\\n7.(1Tはい上に\\nボールペソがあります。\\n7<え\\nF:(え.\\nじl\\nなか\\n(2)T：はい、かばんの\\n中に\\n辞書があります。\\nなか\\nじLょ\\nF：いいえかばんの中には辞書がありません。\\nれたし\\n1ぬ\\n(3)T：はい私のうちに犬がいます。\\n1ぬ\\nれたし\\nF：いいえ、私のうちには犬がいません。\\nなか\\nせんせい\\nきよ\\n(4)T：はし)\\n先生がいます。\\n教室の中に\\nょうん\\nせんせい\\nなか\\nF：いいえ，教室の中には先生がいません。\\nほん\\n2<元\\nとにあります。\\n8.(1)本は\\n机の\\n入や\\nおとこひ\\n交力\\n(2)部屋の中に\\n男の人が\\nいます。\\nえんび\\nほん\\nえ鉛筆と本があります。\\nえんひ\\nつくええ\\nれの上にノートや\\n鉛筆などがあります。\\nねこ\\nえ\\n(4)猫はテレビの上にいます。\\n如\\nLた\\n(5)（)すの\\n卡\\nいません。\\n何毛\\nした\\n_=$\\n2<元\\n(6)机の\\n下二\\n何もありません。\\nおとこひと\\nうし\\n(7)男の人の後ろにだれもしません。', metadata=GoodnotesMetadata(file_type=<FileType.PDF: 'pdf'>, file_name='早安日語-孫寅華.pdf', title=None, author=None, subject=None, created_at=datetime.datetime(2025, 8, 30, 10, 50, 4, tzinfo=TzInfo(UTC)), modified_at=datetime.datetime(2025, 8, 30, 10, 50, 4, tzinfo=TzInfo(UTC)), is_chunk=False, chunk_info=None, extra={'bg_mode': 'black'}, source=None, producer='iOS Version 18.5 (Build 22F76) Quartz PDFContext', page=13, outlines=[]), doc=None),\n",
       " LoaderResult(content='教室の隣：教室隔壁\\n隣a教室：隔壁教室\\n此處的表提示\\n用於回應問句中的提問\\n★', metadata=GoodnotesMetadata(file_type=<FileType.PDF: 'pdf'>, file_name='早安日語-孫寅華.pdf', title=None, author=None, subject=None, created_at=datetime.datetime(2025, 8, 30, 10, 50, 4, tzinfo=TzInfo(UTC)), modified_at=datetime.datetime(2025, 8, 30, 10, 50, 4, tzinfo=TzInfo(UTC)), is_chunk=False, chunk_info=None, extra={'bg_mode': 'black'}, source=None, producer='iOS Version 18.5 (Build 22F76) Quartz PDFContext', page=13, outlines=[]), doc=None),\n",
       " LoaderResult(content='ぶんほうごい\\n文法 語彙\\n~に：地桌助詞\\n～力：主語助詞\\n~と：助詞.表並列\\n~や一ど：助詞，表列舉\\n疑問+も+否定：表全面否定\\n~ね：結尾助詞，表徵求同意\\nか人よう\\n慣用語\\nあの：(叫喚促使對方注意)\\nわかリました：明白，瞭解\\nうも：<副>(下接表謝意/歉意的句子)很.非常\\nありがと\\nありがとうございます（有難うございます：謝謝\\nどう いたしまして：不客氣', metadata=GoodnotesMetadata(file_type=<FileType.PDF: 'pdf'>, file_name='早安日語-孫寅華.pdf', title=None, author=None, subject=None, created_at=datetime.datetime(2025, 8, 30, 10, 50, 4, tzinfo=TzInfo(UTC)), modified_at=datetime.datetime(2025, 8, 30, 10, 50, 4, tzinfo=TzInfo(UTC)), is_chunk=False, chunk_info=None, extra={'bg_mode': 'black'}, source=None, producer='iOS Version 18.5 (Build 22F76) Quartz PDFContext', page=14, outlines=[]), doc=None),\n",
       " LoaderResult(content='', metadata=GoodnotesMetadata(file_type=<FileType.PDF: 'pdf'>, file_name='早安日語-孫寅華.pdf', title=None, author=None, subject=None, created_at=datetime.datetime(2025, 8, 30, 10, 50, 4, tzinfo=TzInfo(UTC)), modified_at=datetime.datetime(2025, 8, 30, 10, 50, 4, tzinfo=TzInfo(UTC)), is_chunk=False, chunk_info=None, extra={'bg_mode': 'black'}, source=None, producer='iOS Version 18.5 (Build 22F76) Quartz PDFContext', page=14, outlines=[]), doc=None),\n",
       " LoaderResult(content='CHAPTER04\\nたんご\\n単語\\nくたもの\\n\\nりんご\\n果物\\nにほんりょうり\\nにほん\\n7天\\n日本料理\\n日本\\n(孕\\n客\\n\\nきのう\\n\\nおととい\\n昨日\\nあまり\\nとても\\n2\\nい)<5\\n块(\\nおお\\n大きい\\nあたら\\n新しい\\nいよい\\nあつ\\nあつ\\n暑い熱い\\n\\nおいしい\\nおもしろい\\nむすか\\n難しい\\nち小さい\\n\\nすず\\n涼しい\\n安\\nかわいん)\\nつまらない\\n吃\\n易しい\\nバナナ\\n(=んぞと)\\nD人\\n试\\n人之形\\n野菜\\n简\\n通\\nT店\\n寒い\\nあま\\n甘\\nあか\\n明る\\nあ力\\n赤（\\nああ\\n青（\\n文型\\n1、この りごは\\nおお\\n大きいです。\\nあたら\\n2.これは新しい\\nほん\\n本です。\\nほん\\n本ではありません。\\n2\\n3.きのうはいい\\nあつ\\n4、おとといは\\n、暑かったです。\\n5.あしたもいし\\nさむ\\nさむ\\n6、きょうは寒くいです。きのうも寒くなかったです。\\n寒くありません)\\n寒くありませんでした)', metadata=GoodnotesMetadata(file_type=<FileType.PDF: 'pdf'>, file_name='早安日語-孫寅華.pdf', title=None, author=None, subject=None, created_at=datetime.datetime(2025, 8, 30, 10, 50, 4, tzinfo=TzInfo(UTC)), modified_at=datetime.datetime(2025, 8, 30, 10, 50, 4, tzinfo=TzInfo(UTC)), is_chunk=False, chunk_info=None, extra={'bg_mode': 'black'}, source=None, producer='iOS Version 18.5 (Build 22F76) Quartz PDFContext', page=15, outlines=[]), doc=None),\n",
       " LoaderResult(content='( Chonnel + 早安日語，孫寅華， lesson 15~18)\\n(lesson 15)\\n*加强\\n注意重音\\n(频果)\\n(水果的總稱)\\n(banana)\\n△\\n(考试)\\nお笑気、好天氣(E：お天気ですね)\\n()：只修飾名詞\\n各种情形下都能用\\nよい\\n*暑()：很热 vs.\\n热：很燙，很激烈\\n*とても+形容詞 (xても寒い)\\n*安：超使宜\\n*あり(否定形>：(副>不太.\\n(玩偶)\\nくるま\\n章：現代日语中，其含意限縮\\n私家車、計程車\\n*客之人：客人(敬稱)\\n△*\\nΔ\\n△\\n(本類的總稱)\\n(好的)\\n(蔬菜的總稱)\\n(壞的，不好的)\\n(客人)\\n(前天)\\n(上週)\\n(凉爽的)\\n(見左側備註)\\n△\\n(高的.昂贵的)\\n(美味的)\\n△*\\n△*\\n((副)太，很)\\n(副)很，非常)\\n(便宜的)\\n(可爱的)\\n(無聊的)\\n(一個，數量詞)\\nΔ\\nΔ\\n(多少(錢)?)\\n*おいくらですか。多少錢(鄭重語気、非尊敬語)\\n(有趣的)\\n*甘い，也可形容分数甜：如型の分数甘で。\\n(簡單的，(個性)溫柔的)\\n(明亮的)\\n(甜的)\\n(狭窄的)\\n(青、藍、绿色系的總稱)\\n(lesson 16, 17)\\n常体\\n敬体化\\n架構同Aは日で，此時形容詞修飾\\n连体形\\n*3.4句尾比较：(過去形变化)\\n3→几結尾：です→でした\\n4→odj结尾：adj→dj…\\n→adjnF\\n昨天\\nです的過去形\\n只有常体形容詞，有变化\\n敬体则是常体变化+で可\\n翼：题暑力た敬体，かす。\\n前天\\n*表不確定，推量」：です→でょう\\n(明天也會是好天氣吧)\\n助詞，表也是\\nです的推量形\\n表不确定，推量\\n主要記上面\\n寒(い)\\n寒(ないです→見於語\\n微体化\\n否定形\\n否定翼(あません→多見於“文章\\n电没見過這种用法\\n助词，表也是\\n否定寒(体化寒。\\n内人\\n*寒，用形\\nけ\\n過去否定形\\n多見於口語\\n否定形\\nます形\\n否定(ありませ過去形寒(ありませ人た多見於文章\\nしけ.\\nRomarks：老師有强调”用形，廖老師没有\\n寒(\\n2.老在“過去否定形的变化是“寒)寒寒（力\\n用寒<)，的)结尾做過去形变化\\n廖老師則是一步到位(直接記過去否定变化，)\\n寒()→寒(力\\n我認為廖老師的說法比較好，因為「ない」本身是\\n動詞，不應視為形容詞使用\\n*寒1，连用形', metadata=GoodnotesMetadata(file_type=<FileType.PDF: 'pdf'>, file_name='早安日語-孫寅華.pdf', title=None, author=None, subject=None, created_at=datetime.datetime(2025, 8, 30, 10, 50, 4, tzinfo=TzInfo(UTC)), modified_at=datetime.datetime(2025, 8, 30, 10, 50, 4, tzinfo=TzInfo(UTC)), is_chunk=False, chunk_info=None, extra={'bg_mode': 'black'}, source=None, producer='iOS Version 18.5 (Build 22F76) Quartz PDFContext', page=15, outlines=[]), doc=None),\n",
       " LoaderResult(content='^や\\nよお\\n7、わたしの部屋は大きくないです。とてもさいです。\\nたか\\n高くなガったです。\\nあたら\\n新\\nあまり\\n8.=の\\n9.\\nど\\n33\\n10.こちらは古い雑誌て、そちらは\\nざ\\n雑応です。\\nにほんりうり\\nたが\\n高いです。\\n11、日本料理はおいしいすが、\\n*1形容詞 变化整理:\\nをほんけい\\nひけ\\nかこひてい()\\nがこけい\\n基本形\\n否定形\\n过去形\\n過去否定形\\nよく)よガったよくっ\\nよい\\nわる\\n悪)悪力\\n悪くなかった\\n悪(\\nあ\\nあつ\\n暑()\\n暑（ない)暑かった\\n暑くなかった\\nさむ\\n寒()\\n寒くい寒か寒くながった', metadata=GoodnotesMetadata(file_type=<FileType.PDF: 'pdf'>, file_name='早安日語-孫寅華.pdf', title=None, author=None, subject=None, created_at=datetime.datetime(2025, 8, 30, 10, 50, 4, tzinfo=TzInfo(UTC)), modified_at=datetime.datetime(2025, 8, 30, 10, 50, 4, tzinfo=TzInfo(UTC)), is_chunk=False, chunk_info=None, extra={'bg_mode': 'black'}, source=None, producer='iOS Version 18.5 (Build 22F76) Quartz PDFContext', page=16, outlines=[]), doc=None),\n",
       " LoaderResult(content='数体\\n否定形，敬体\\n*あまり：(副>太很\\nあまり高いです(太貴了)\\nあまり高くないてす(不貴)\\n(這本辭點(在我買時/在過去)不太贵。)\\n過去否定形\\n暗指已經買了以前，\\n主题\\nあまり+否定形\\n不太\\n形容词形：表“並列，中止。*列要和”相年\\n用(形，並列(褒+褒)\\n日本のなしはあいしいです。\\n日本のあはおくて安いです。\\n日本のなしは安いです。\\n小さいです。(敗)\\n鈴木さんの部屋は\\n鈴本さんの部屋は小さくて高いです。\\n高いです。\\n田中さんの部屋はおかきいで。褒\\n无法用7形，合併。\\n高いです。\\n(11)\\n*反義詞拼接……兩個詞褒貶相反」\\n(褒+贬)\\n日本料理はおいしいです。\\n日本料理はおルい高いです\\nV\\n高いです。\\n(10)\\n*對比：です→的中止形)\\n(日本的梨 好吃且便宜\\n形容詞(形:表並列\\n當前後“褒贬相同時使用\\nです的中止形：て\\n表比较\\n注意是“t地，不是des\\n褒贬相反，句型拼接\\n(Lesson 17後半)', metadata=GoodnotesMetadata(file_type=<FileType.PDF: 'pdf'>, file_name='早安日語-孫寅華.pdf', title=None, author=None, subject=None, created_at=datetime.datetime(2025, 8, 30, 10, 50, 4, tzinfo=TzInfo(UTC)), modified_at=datetime.datetime(2025, 8, 30, 10, 50, 4, tzinfo=TzInfo(UTC)), is_chunk=False, chunk_info=None, extra={'bg_mode': 'black'}, source=None, producer='iOS Version 18.5 (Build 22F76) Quartz PDFContext', page=16, outlines=[]), doc=None),\n",
       " LoaderResult(content='れんゆ\\n練習\\n1)ぬ\\nおお\\n1.うちの\\n大きいです。\\n犬は\\nむずか\\nやさ\\n易しいです。\\nすす\\nあ\\n暑くながったです。\\n3、きのうは涼しかったです。\\nたかくたもの\\nくだもの\\nやす\\n高い果物ではありません\\n4.バナナは安い果物です。\\nh=\\nあか\\nおお\\n大きいです。\\n６.(はいあいんいです。\\nいえ，おいしくいです。\\n(2)はいおとといは寒かったです。\\n(ル)え、おとといは寒くかったです。\\nま人\\n(3)はい、それはおもしろい本です。\\nいえ。\\n(4)ましいし)天気でした。\\nいしえいし)天気ではありませんでした。\\n7いおもしろいです。\\n\\n()寒かったです。\\nやすくたもの\\n(3い果物です。\\nむすか\\n\\n(4)難しい)です。', metadata=GoodnotesMetadata(file_type=<FileType.PDF: 'pdf'>, file_name='早安日語-孫寅華.pdf', title=None, author=None, subject=None, created_at=datetime.datetime(2025, 8, 30, 10, 50, 4, tzinfo=TzInfo(UTC)), modified_at=datetime.datetime(2025, 8, 30, 10, 50, 4, tzinfo=TzInfo(UTC)), is_chunk=False, chunk_info=None, extra={'bg_mode': 'black'}, source=None, producer='iOS Version 18.5 (Build 22F76) Quartz PDFContext', page=17, outlines=[]), doc=None),\n",
       " LoaderResult(content='(lesson 18)\\nCHO1.O2的句型\\n↑\\nv.Sい物は高くないです。\\n形容詞和名詞問不用助詞\\n□\\n形容詞中止形\\n加强\\n*\\n*\\n*\\nほん\\nそれはおもしろい本ではありません。', metadata=GoodnotesMetadata(file_type=<FileType.PDF: 'pdf'>, file_name='早安日語-孫寅華.pdf', title=None, author=None, subject=None, created_at=datetime.datetime(2025, 8, 30, 10, 50, 4, tzinfo=TzInfo(UTC)), modified_at=datetime.datetime(2025, 8, 30, 10, 50, 4, tzinfo=TzInfo(UTC)), is_chunk=False, chunk_info=None, extra={'bg_mode': 'black'}, source=None, producer='iOS Version 18.5 (Build 22F76) Quartz PDFContext', page=17, outlines=[]), doc=None),\n",
       " LoaderResult(content='かいわ\\n会话\\nぶんほうご\\n文法 語彙\\n~7LE：(助动>~7ず的過去形\\n~t：(助动)表過去\\n~てLょう：助动>~的推量形(大概吧)\\n~~：(助>用於連接褒貶不同的兩個句子(雖然~是一)\\nか人よう\\n慣用語\\nあまり~ん：不太~不怎麼~\\nねが\\nお願いします：拜託/麻煩了\\nいらっしやいませ：歡迎光臨\\n：(副)稍微，稍等\\nちょと\\n：(接〉那麼；要是那樣的話\\nでは\\n~をください：請給我~。', metadata=GoodnotesMetadata(file_type=<FileType.PDF: 'pdf'>, file_name='早安日語-孫寅華.pdf', title=None, author=None, subject=None, created_at=datetime.datetime(2025, 8, 30, 10, 50, 4, tzinfo=TzInfo(UTC)), modified_at=datetime.datetime(2025, 8, 30, 10, 50, 4, tzinfo=TzInfo(UTC)), is_chunk=False, chunk_info=None, extra={'bg_mode': 'black'}, source=None, producer='iOS Version 18.5 (Build 22F76) Quartz PDFContext', page=18, outlines=[]), doc=None),\n",
       " LoaderResult(content='(lesson 17~ 18)\\n(lesson8)\\n(可以用\"if so，then…”理解)', metadata=GoodnotesMetadata(file_type=<FileType.PDF: 'pdf'>, file_name='早安日語-孫寅華.pdf', title=None, author=None, subject=None, created_at=datetime.datetime(2025, 8, 30, 10, 50, 4, tzinfo=TzInfo(UTC)), modified_at=datetime.datetime(2025, 8, 30, 10, 50, 4, tzinfo=TzInfo(UTC)), is_chunk=False, chunk_info=None, extra={'bg_mode': 'black'}, source=None, producer='iOS Version 18.5 (Build 22F76) Quartz PDFContext', page=18, outlines=[]), doc=None),\n",
       " LoaderResult(content='CHAPTER 05\\nたんご\\n単語\\n静か\\nされい\\n綺震\\nりつは\\n立派\\nわか\\n若)\\n \\n七所$\\nき5\\n嫌)\\nゆうめい\\n有名\\nC手\\n大变\\n下\\n新切\\n好き\\nにぎやか\\n使利\\nちゅうかりようり\\nさしみ\\n5交\\n中華料理\\n刺身\\n(人きゅうし\\nC\\n研究室\\n助手\\nせんばい\\n先輩\\nべんきよう\\n勉强\\n封\\n料\\n料理\\nすうがく\\n数学\\nかもく\\n科目\\nまだ\\nどんな\\nぶんけい\\n文型\\nしす\\nこうえん\\n1.公園は静力です。\\nにほ人ご\\nじょうす\\nりん\\n2、林さんは日本語が上手です。\\nう人7ん\\nわたし\\n3、私は運転が\\nきら\\n嫌いではありません。\\nだいがく\\nゆうめい\\nたんこうだいがく\\n4、淡江大学は有名な大学です。\\nべ人り\\nタベイ\\n5台北は便利でニきやガなところです。', metadata=GoodnotesMetadata(file_type=<FileType.PDF: 'pdf'>, file_name='早安日語-孫寅華.pdf', title=None, author=None, subject=None, created_at=datetime.datetime(2025, 8, 30, 10, 50, 4, tzinfo=TzInfo(UTC)), modified_at=datetime.datetime(2025, 8, 30, 10, 50, 4, tzinfo=TzInfo(UTC)), is_chunk=False, chunk_info=None, extra={'bg_mode': 'black'}, source=None, producer='iOS Version 18.5 (Build 22F76) Quartz PDFContext', page=19, outlines=[]), doc=None),\n",
       " LoaderResult(content='(Channel+ 早安日語，豫寅華，lesson 20~23)\\n(lesson20)\\n*加强\\n或稱形動詞\\n(1)形容詞\\n在形容詞\\nT $\\n(\\n\\\\\\n…)\\nです\\nです\\n<名，形動>笨拙，不高明\\n《名;形動>討厭，嫌惡\\n〈形動)喜歡，愛好\\n(形動)安静\\n<形動>高明的，拿手的\\n静か\\n*\\n原形：\\n修節名詞：\\n敬体：\\n<名;形動>親切\\n(形動>漂亮\\n<形動>嚴重，不得了.辛苦\\n(也可做“副词)\\n(形動>氣派，華麗，宏偉，有為\\n(形)年輕的\\n<名)駕駅(行高)\\n(名)地方、處所\\n(形動>有名\\n<形動>熟闹\\nexample\\n(形動>方便\\n静がです\\n二微\\n*交，為“謙稱，在”對外人提及自己親时使用\\nお父之人，敬，用和自人說用\\n街，的用途很，可指“市，即镇，街道，\\n*転駕験的行：運手：司机\\n前華，學長\\n<名>學習\\n(名)城镇\\n<名)料理.菜餚\\n(名)學科\\n<名)助手，(大學)助教\\n副>尚，還\\n(連体>(不定詞)什麼樣的？如何的？\\n(lesson 2~21)\\n：强調後方内容\\n「が」：強調前方主題\\nNote:廖老師對は，雨個助詞的教學\\n*主詞+は+形動詞形動詞若能直接，修飾主詞則用は」\\n若無法直接，形容到主詞，則是用が，連接\\nEx:上手.下手，好艺，嫌.\\n我很擅長日文私は日本語が上手です。\\n動が嫌いです。\\n私はあの父が好きです。\\n一不可以用林人の日本語は上手す\\n*\\n(我不討厭開車)\\n*形動(去)+建体形，可用於修飾方的單詞\\nEx：日本語先生は親切人です。\\n形動詞是並列關係，可調換\\nEx:台北は了便利国\\n中止形→連接，並列两個同褒贬的形动词', metadata=GoodnotesMetadata(file_type=<FileType.PDF: 'pdf'>, file_name='早安日語-孫寅華.pdf', title=None, author=None, subject=None, created_at=datetime.datetime(2025, 8, 30, 10, 50, 4, tzinfo=TzInfo(UTC)), modified_at=datetime.datetime(2025, 8, 30, 10, 50, 4, tzinfo=TzInfo(UTC)), is_chunk=False, chunk_info=None, extra={'bg_mode': 'black'}, source=None, producer='iOS Version 18.5 (Build 22F76) Quartz PDFContext', page=19, outlines=[]), doc=None),\n",
       " LoaderResult(content='べんり\\nにほ人\\n6.日本はきれいで便利な\\n<に\\n国です\\nむずか\\n難しくて\\nたい~ん\\n大変です。\\nべ人きう\\n勉強は\\nにほ人ご\\n7.日本語の\\nれん\\n練習\\nt=态\\n1.田中は\\nしせつ\\n親切な\\nひと\\n人です\\nちん\\n2.陳さんは\\nうす\\n上手です\\n\\n好き\\n嫌)\\n日本語が\\n\\n5数学\\n料理\\nさしみ\\n刺身\\nう人てん\\nちち\\n運転が\\n3.父は\\n下手ではありません。\\nしす\\nとしよが人\\nだいがく\\nりっは\\n立派です\\n4、大学の図書館は静がで\\nゆうめい\\nちガりうり\\n中华料理\\nはおいしくて\\n有名7す\\nちゆうこくじん\\n人せつ\\n中国人\\nやさいいです\\nは親切で\\nたんこうだいがく\\n\\n51淡江大学です\\n\\nさくら\\n\\nE]\\n(2)\\n桜です。\\n\\n\\n(3）パパやイです。\\nすうがく\\n−\\n\\n数学です。\\n(4)', metadata=GoodnotesMetadata(file_type=<FileType.PDF: 'pdf'>, file_name='早安日語-孫寅華.pdf', title=None, author=None, subject=None, created_at=datetime.datetime(2025, 8, 30, 10, 50, 4, tzinfo=TzInfo(UTC)), modified_at=datetime.datetime(2025, 8, 30, 10, 50, 4, tzinfo=TzInfo(UTC)), is_chunk=False, chunk_info=None, extra={'bg_mode': 'black'}, source=None, producer='iOS Version 18.5 (Build 22F76) Quartz PDFContext', page=20, outlines=[]), doc=None),\n",
       " LoaderResult(content='形動詞是並列關係，可調換\\nEx:日本は便利了綺震区国です。\\n結構同5.\\n 形容詞，形動詞是因果關係，不可調換\\n形容詞+形動詞\\n由於「難)」和大变有因果明係，所以不能調換\\nRemark\\n：此處的で與詞性無關，為兩個句子合併。\\nFor exomple, (66)\\n日本はされいで便利な国です。\\n日本は便利な国です。\\n(lesson 21~22)\\n連体形修飾後方名詞\\n若(形動)無法直接形容到主詞\\n則會用力做為助詞連接\\n常发生的有上手。“下手，好老，“嫌\\n(2)的否定形\\n(父親開車的技術不差)\\n中止形表同褒贬，並列。\\n(形動)+(形動)\\n形容詞\\n形容動詞/名詞：\\nRemark：中止形\\n(形)+(形動)\\n(形動>(形)', metadata=GoodnotesMetadata(file_type=<FileType.PDF: 'pdf'>, file_name='早安日語-孫寅華.pdf', title=None, author=None, subject=None, created_at=datetime.datetime(2025, 8, 30, 10, 50, 4, tzinfo=TzInfo(UTC)), modified_at=datetime.datetime(2025, 8, 30, 10, 50, 4, tzinfo=TzInfo(UTC)), is_chunk=False, chunk_info=None, extra={'bg_mode': 'black'}, source=None, producer='iOS Version 18.5 (Build 22F76) Quartz PDFContext', page=20, outlines=[]), doc=None),\n",
       " LoaderResult(content='がこう\\nりっは°\\nた人こうだいがく\\n6)淡江大学は立派区学校で\\nタイベイ\\n(2)台北はにきやかなところです。\\nひと\\n(3) ：あたの日本語の先生はと人な人ですか。\\nし人せん\\nわたし\\nひ2\\nA:\\n私の日本語の先生は親切な人です。\\nガ人よう\\n慣用語\\nこんにちは\\nl\\nがんばってください\\nさようなら', metadata=GoodnotesMetadata(file_type=<FileType.PDF: 'pdf'>, file_name='早安日語-孫寅華.pdf', title=None, author=None, subject=None, created_at=datetime.datetime(2025, 8, 30, 10, 50, 4, tzinfo=TzInfo(UTC)), modified_at=datetime.datetime(2025, 8, 30, 10, 50, 4, tzinfo=TzInfo(UTC)), is_chunk=False, chunk_info=None, extra={'bg_mode': 'black'}, source=None, producer='iOS Version 18.5 (Build 22F76) Quartz PDFContext', page=21, outlines=[]), doc=None),\n",
       " LoaderResult(content='Recall 問句\\n(白天阁候語)你好\\n(接》那麼，要是那樣的话，.…\\n别人给我\\nが人ば\\n原形動詞:\\n+<たさる（くれる的最敬体)\\n頑張(努力)\\n用7形連接\\nます形例外\\n頑張ってくたさい\\n請多加油\\n(感)再見', metadata=GoodnotesMetadata(file_type=<FileType.PDF: 'pdf'>, file_name='早安日語-孫寅華.pdf', title=None, author=None, subject=None, created_at=datetime.datetime(2025, 8, 30, 10, 50, 4, tzinfo=TzInfo(UTC)), modified_at=datetime.datetime(2025, 8, 30, 10, 50, 4, tzinfo=TzInfo(UTC)), is_chunk=False, chunk_info=None, extra={'bg_mode': 'black'}, source=None, producer='iOS Version 18.5 (Build 22F76) Quartz PDFContext', page=21, outlines=[]), doc=None),\n",
       " LoaderResult(content='CHAPTER 06\\nたんご\\n単語\\n読む\\nひ\\n引\\nかける\\n会\\n(k\\n食事\\nレポート\\n来子\\nたべ\\n食\\n取子\\nかかる\\nき\\n聞\\n夏る\\n欲む\\n行く\\n休む\\nかもの\\n買(物\\n3歌\\n切痛子\\n掃除\\nさ散\\n×モ\\nぜ人ぶ\\n全部\\nよく\\n染\\nどの<らい\\nい)つも\\nまいにち\\n每日\\nいちにちじゆう\\n一日中\\n~時間\\nゆうべ\\n单\\nけさ\\nじてん\\n自転車\\nタ7シー\\nバス\\n空\\nあさはん\\n朝飯\\n映画\\nバイク\\nてんらんかい\\n展览会\\nでんわばんごう\\n電話番号\\n音\\nひらがな\\n\\nりょこうレや\\n旅行社\\n\\n除\\nビデオ\\nテレビ\\nスーパー\\nパソコン\\nコソピユーター\\nカラオケ\\nセロ\\nジュース', metadata=GoodnotesMetadata(file_type=<FileType.PDF: 'pdf'>, file_name='早安日語-孫寅華.pdf', title=None, author=None, subject=None, created_at=datetime.datetime(2025, 8, 30, 10, 50, 4, tzinfo=TzInfo(UTC)), modified_at=datetime.datetime(2025, 8, 30, 10, 50, 4, tzinfo=TzInfo(UTC)), is_chunk=False, chunk_info=None, extra={'bg_mode': 'black'}, source=None, producer='iOS Version 18.5 (Build 22F76) Quartz PDFContext', page=22, outlines=[]), doc=None),\n",
       " LoaderResult(content='(Chonnel + 早安日语，豫寅華，lesson 24~29)\\n(lesson24~25)\\n詞性解釋\\n他→他動词(似及物動词)例如授\\nむ(他五>：五五段变化(E強变化動詞)\\n名詞\\n[サ：サ変動詞\\n()<名，自，形動>：可做\\n形動詞\\n他他動詞\\n<他五>閱讀\\n(用意廣，此做查)\\n<他五>查(字典)\\n(用意廣)\\n(他下一>打(電話)\\n<他五)喝\\n<他五>聽\\n<他下一>吃\\n(用意廣.此做記下)\\n<他五>記下，抄寫\\n(用意廣)\\n<自五》花费，耗费(時間.金錢)\\n<他五>寫\\n<他上一>看\\n<自五>去\\n<他五>唱歌\\n\\n只假\\n\\n副\\n\\n\\n名\\n\\n*画：他五〉\\n疏屯：看书、看報纸，看信→看内容\\n见：看電视.看電影视線所及之處:レビ見ま\\n*取子：Xモを取子：抄下\\n(N2.複合動詞)取り《他動).没去掉\\n*変動詞：「名詞+す做).e：勉強る\\n但並非所有名詞都能+，该名詞+寸必須要合理\\n0運動→運動する\\n*半濁音：.°.°ぼ，在第二音節後，會成带有b的音\\n特别是接在促音()和鼻音()之後，基本上只剩b音\\n如：散步(さ·ぼ)發成\"san bo\\n*母音無聲化：夾在子音之阁的高母音(i.u)，發音會被擠掉\\n如：食事(Lょ<じ)(shomj)\\n<白五)回来來，回家\\n(自他五)休息.請假\\n<伯五> 见面，碰面\\n近似s音\\n<名，自サ>散步\\n(名，白寸，形動)一起\\n(名、自サ>購物.買東西\\n<名，他サ>打掃\\n(名，自サ>吃飯，用餐\\n<名，他>報告\\n(名，他サ>筆記;便忘錄；便條\\n<自力>來\\n(副)經常:常常\\n<副)经常;常常\\n(名.副)全部.全體\\n<名，副>多少，多久\\n*1けさ\\n強調今天早上\\n：早晨\\n(名)一整天\\n《名)昨夜\\n<名>今天早晨\\n(接尾)小時\\n(名)下個月\\n<名)每天\\n<名>電車\\n(名)脚踏車，自行車\\n(8> bus\\n(名)机場\\n(名) taxi\\n<名>bike\\n(名)展覽會\\n(名)音樂\\n<名)信;書信\\n(名)歌曲\\n(名)早餐\\n飯\\n(名>電影\\n早晨\\n(名)電話號碼\\n(名)平假名\\n<名)旅行社\\n(名)吸塵器\\n六\\n<名>(video)錄影带;錄影机：開路電視\\nO\\n(名) (supermarket) 超級市場\\n(名>computer\\n(空\\n(名) juice\\nガら\\n(日本人創造的複合名詞)空+orchestro\\n(名)(teaision)電視\\n*カラオケ\\n(名) (personal compuater) 個人電腦\\n(名）\\norchestra)\\n*れ：，同ゼロ\\n<名)(法：200)零', metadata=GoodnotesMetadata(file_type=<FileType.PDF: 'pdf'>, file_name='早安日語-孫寅華.pdf', title=None, author=None, subject=None, created_at=datetime.datetime(2025, 8, 30, 10, 50, 4, tzinfo=TzInfo(UTC)), modified_at=datetime.datetime(2025, 8, 30, 10, 50, 4, tzinfo=TzInfo(UTC)), is_chunk=False, chunk_info=None, extra={'bg_mode': 'black'}, source=None, producer='iOS Version 18.5 (Build 22F76) Quartz PDFContext', page=22, outlines=[]), doc=None),\n",
       " LoaderResult(content='2\\nぜんいん\\n全員\\n小人\\nみ人\\nほ人ぼ人ぼ人\\n~本/本/本\\n末权\\n\\n元\\nドル\\nぶんけい\\n文型\\nしんぶん\\nわたし\\n1.私は\\n新聞を\\n上\\n読みます。\\nの\\n2いっしょにコーヒーを飲みませ人が。\\nの\\nはい飲みましょう。\\nにほ人ご\\nべんきょう\\n3、さのう日本語を勉強しましたか。\\n1\\n食べませんでした。\\nはん\\nあさ\\n朝ご飯を\\n4.+さ\\nてんらんかい\\nタイペイ\\n台北でコンピューターの展覧会があります。\\n5いげ\\n5.来月\\nき\\nおんがく\\nかたし\\n6.私はいつも\\nた力はし\\nみせ\\n7.高橋さんはよくこの店で', metadata=GoodnotesMetadata(file_type=<FileType.PDF: 'pdf'>, file_name='早安日語-孫寅華.pdf', title=None, author=None, subject=None, created_at=datetime.datetime(2025, 8, 30, 10, 50, 4, tzinfo=TzInfo(UTC)), modified_at=datetime.datetime(2025, 8, 30, 10, 50, 4, tzinfo=TzInfo(UTC)), is_chunk=False, chunk_info=None, extra={'bg_mode': 'black'}, source=None, producer='iOS Version 18.5 (Build 22F76) Quartz PDFContext', page=23, outlines=[]), doc=None),\n",
       " LoaderResult(content='(三人以上有量詞人，來描述)\\n(名)兩個人\\n(名)一個人\\n<名)全體人員\\n分\\n量\\n语化不加さみ人\\n*み人なさん\\n<名副>全體;大家\\n*有關音变：較字+量詞可能會產生音变\\n在1.3.6.8.10.何後客易產生音变\\n3.符通常变濁音，\\n<接尾>(表細长物的單位)~支；~根:一瓶\\n<接尾>~册；~本\\n<名)(台幣单位)元\\n(接尾)(表示平薄物体的单位)~張；~片\\n<名)美元\\n(lesson 25~26)\\n受詞/受格的助词用\\n否定疑問此處表邀约，婉轉表達\\nま的勸誘，型態，類似中文的吧。\\n(昨天有沒有學日文)\\n没有数字的“时間\\n不加助詞\\n力変動詞\\n勉強する\\n(原形)\\n勉強します\\n(ます形)\\n勉強しました\\n(ます、過去形)\\n勉強しましたか\\n(ます,過去.疑問形)\\n食べる\\n(原形)\\n食べません\\n(ます、否定形)\\n→食べます\\n(ます形)\\n食べませんでした\\n(ます、否定.過去形)\\n*Recall：地点+→表存在，的场所\\n*代用動詞：あ可以用來替代舉行發生，一類的動詞。\\n地点+7：表在场所做某事\\n此處的あ了為代用動詞\\n原動詞為行\\n表在地莫做某事\\n地点+で\\n→Ex6.7\\n表工具.手段.方法等\\n物_}+7\\n→Ex8\\n經常\\n*で的運用：\\n副)经常\\n二の+名詞\\n(二a为建体词，必须接名词)', metadata=GoodnotesMetadata(file_type=<FileType.PDF: 'pdf'>, file_name='早安日語-孫寅華.pdf', title=None, author=None, subject=None, created_at=datetime.datetime(2025, 8, 30, 10, 50, 4, tzinfo=TzInfo(UTC)), modified_at=datetime.datetime(2025, 8, 30, 10, 50, 4, tzinfo=TzInfo(UTC)), is_chunk=False, chunk_info=None, extra={'bg_mode': 'black'}, source=None, producer='iOS Version 18.5 (Build 22F76) Quartz PDFContext', page=23, outlines=[]), doc=None),\n",
       " LoaderResult(content='わたし\\nがっこう\\nまいにち\\n8.私は毎日バス学校へ\\nさんぼ\\n散歩を\\nひとり\\n一人で\\nします。\\n乎無法融入廖老師\\n助詞表\\nぜんぶ\\n10.全部でい)くらですか。\\nれんゆ\\n練習\\nてがみ\\n1.手紙を\\nCL\\nひ\\nか\\n辞書を引きます。\\n書きます。\\nみ\\nえいが\\n2、いしょうに映画を見ませ人力。\\nL<\\n食事をします。\\nがっこう\\nLど)\\n3.学校の\\n食堂7\\n近かくのスーパー\\n==7\\nの\\nジースを飲みます\\nU\\n4タクシーでデハートへ\\n行きます。\\nたガお\\nでんし\\nU\\n高雄へ\\n電車7\\n行きます。\\nき\\nくるま\\nガルや\\n車で\\n会社へ\\n来ます。\\nがこ\\nき\\nバイクで\\n学校へ来ます。\\nにほんご\\n5.日本語でレポートを\\nえんびつ\\nえ筆\\nメモを取ります。', metadata=GoodnotesMetadata(file_type=<FileType.PDF: 'pdf'>, file_name='早安日語-孫寅華.pdf', title=None, author=None, subject=None, created_at=datetime.datetime(2025, 8, 30, 10, 50, 4, tzinfo=TzInfo(UTC)), modified_at=datetime.datetime(2025, 8, 30, 10, 50, 4, tzinfo=TzInfo(UTC)), is_chunk=False, chunk_info=None, extra={'bg_mode': 'black'}, source=None, producer='iOS Version 18.5 (Build 22F76) Quartz PDFContext', page=24, outlines=[]), doc=None),\n",
       " LoaderResult(content='方向性助词\\n物+7：表工具.方法，手段\\n地+：表動作方向\\n方向助詞後，通常會接有移動的動\\n是一直\\n可以1将整体看做副词\\n2.视“名詞+”此时“表作用範\\n\\n同时参考練習6，7\\n表範圆，總合，\\n(lesson 27~28)\\n(查字典)\\n(要一起看電影嗎？)\\n否定疑筒→表统轉邀约\\n(在學校的餐廳吃飯)\\n(在附近的超市買東西)\\n(在這喝果汁)\\n方向助詞\\n物+“→表交通工具，方法.手段\\n方向移動動词\\n(搭計程車去百貨公司)\\n(搭電車去高雄)\\n方向移動動詞\\n(坐申来公司)\\n*在现代日語中，“章的意思已被限缩成“私家車(自己開单)(搭程2种\\n多指前者\\n(馬騎奇腳踏車來學校)\\nmotorbike(摩托車)\\n(用日文寫報告)\\n(用鉛筆記 memo)', metadata=GoodnotesMetadata(file_type=<FileType.PDF: 'pdf'>, file_name='早安日語-孫寅華.pdf', title=None, author=None, subject=None, created_at=datetime.datetime(2025, 8, 30, 10, 50, 4, tzinfo=TzInfo(UTC)), modified_at=datetime.datetime(2025, 8, 30, 10, 50, 4, tzinfo=TzInfo(UTC)), is_chunk=False, chunk_info=None, extra={'bg_mode': 'black'}, source=None, producer='iOS Version 18.5 (Build 22F76) Quartz PDFContext', page=24, outlines=[]), doc=None),\n",
       " LoaderResult(content='ぼん\\n6.3本7\\n2冊で\\nまい\\n5枚7\\n115\\nエトルです。\\nせんえん\\nです。\\n1000円\\nにじゆうげん\\nです。\\n20元\\nせんいん\\n(\\n全員でカラオケへ行きましょう。\\n3た\\n歌を\\n歌いましょう。\\nみんなで\\nえいが\\nぶたり\\n映画を\\n二人\\n8.()きのうテレビを見ましたか。\\nはいテレビを見ました\\nいえテレビを見ませんでした。\\nでんわ\\n(2)ゆうべ\\n電話をかけましたか\\nでんわ\\nnh\\nかけました。\\nはい林さんに電話を\\nでんわ\\nnh\\n(いえ、林さんに電話をかけせんでした。\\nChぶん\\n上\\n(3) けさ新聞を\\n読みましたか。\\nChh\\n上\\nはい。新聞を読みました。\\nよ\\nLhぶh\\nいんえ。新聞を読みませんでした。\\nせんしうえいが\\n(4)先適 映画を\\n\\n\\nはい\\n\\nい\\nえいが\\n映画を\\nえいが\\n映画を', metadata=GoodnotesMetadata(file_type=<FileType.PDF: 'pdf'>, file_name='早安日語-孫寅華.pdf', title=None, author=None, subject=None, created_at=datetime.datetime(2025, 8, 30, 10, 50, 4, tzinfo=TzInfo(UTC)), modified_at=datetime.datetime(2025, 8, 30, 10, 50, 4, tzinfo=TzInfo(UTC)), is_chunk=False, chunk_info=None, extra={'bg_mode': 'black'}, source=None, producer='iOS Version 18.5 (Build 22F76) Quartz PDFContext', page=25, outlines=[]), doc=None),\n",
       " LoaderResult(content='*本：支.保長條物\\n：数字1.3.6.8.10.何遇到量词时容易音麦\\nRecall\\n—3.何：多扁濁音\\n-1.6.8.10:多半濁音\\n同时参考文型10，練習7\\n*册：册，成册(書籍)\\n*枚：角平物(卡片、钱幣)\\n助詞，表總合\\n(3支1美元)\\n(2本1000日元)\\n(5個20塊)\\n方向助詞\\n同时参考文型10習\\n表對象', metadata=GoodnotesMetadata(file_type=<FileType.PDF: 'pdf'>, file_name='早安日語-孫寅華.pdf', title=None, author=None, subject=None, created_at=datetime.datetime(2025, 8, 30, 10, 50, 4, tzinfo=TzInfo(UTC)), modified_at=datetime.datetime(2025, 8, 30, 10, 50, 4, tzinfo=TzInfo(UTC)), is_chunk=False, chunk_info=None, extra={'bg_mode': 'black'}, source=None, producer='iOS Version 18.5 (Build 22F76) Quartz PDFContext', page=25, outlines=[]), doc=None),\n",
       " LoaderResult(content='たんすい\\n淡水まで\\nがっこう\\n学校で\\nゆうびんきよく\\n郵便局まで\\n<3こ3\\n空港まで\\nか\\n会社まで\\nれ\\n9.(例)\\n(1)\\n(2)\\n(3)\\n(4)\\nバスで行きます。\\n\\nき\\n電車で\\n来ました。\\nじてんL\\nい\\n行きます。\\n自転車で\\nくるま\\nい\\n輩で行きます。\\nい\\nバスで行きます。\\nがっこう\\nやす\\n10.(1)よく学校を休みますか。\\nはし)，よく学校を休みます。\\nいいえ、あまり学校を休みません\\nか\\nてかみ\\n(2) よく手紙を 書きまか。\\n7$\\nはい、よく\\n手纸を\\nか\\nてガみ\\nいいえあまり手紙を書きますせん\\nか\\nもの\\n(3) よくデパートで\\n買い物をしますか。\\nガもの\\nはいよくデパートで\\n買い物をします。\\nかもの\\nえあまりデパートで買い物しません。\\nか\\n(4)よくパソコソでレポートを書きますか。\\n分\\nはいよくパソコンでレポートを書きます。\\nガ\\nいいえありパソコンでレポートを書きません。\\n11（例) 2601-5643：に3セ)5の=3くよ さん\\n(1) 02-2873-9641:セ0の に はち tさh0き 3 よち\\n(2) 03-35146708:セ ささごいち よ ろくセはち\\n(3) 07-6234987:セロ の3にさんよh き はち\\nさんばいの\\n12.(例)コ一ヒーを3杯飲みました。\\nほんろくさつか\\n(1)本を6冊買いました。\\nLんぶh\\nまい\\n(2)新聞を5枚読みました\\n世ぶ。世んにひ\\n(3)全部で100円かまた', metadata=GoodnotesMetadata(file_type=<FileType.PDF: 'pdf'>, file_name='早安日語-孫寅華.pdf', title=None, author=None, subject=None, created_at=datetime.datetime(2025, 8, 30, 10, 50, 4, tzinfo=TzInfo(UTC)), modified_at=datetime.datetime(2025, 8, 30, 10, 50, 4, tzinfo=TzInfo(UTC)), is_chunk=False, chunk_info=None, extra={'bg_mode': 'black'}, source=None, producer='iOS Version 18.5 (Build 22F76) Quartz PDFContext', page=26, outlines=[]), doc=None),\n",
       " LoaderResult(content='助詞\\n地+まで：表終实\\n此處“克是受格的词→像校\\n(你經常不上學嗎)\\n学校を休む：不上學，请假、暗\\n2.{5}原本是發短音，但在此處會拉长音\\nO\\n*分隔號(一)：讀の」\\n*日：讀如或れ\\nの\\n\\n*1000可以說：い.せん\\n也可以說：せ(省略1)\\n花骨', metadata=GoodnotesMetadata(file_type=<FileType.PDF: 'pdf'>, file_name='早安日語-孫寅華.pdf', title=None, author=None, subject=None, created_at=datetime.datetime(2025, 8, 30, 10, 50, 4, tzinfo=TzInfo(UTC)), modified_at=datetime.datetime(2025, 8, 30, 10, 50, 4, tzinfo=TzInfo(UTC)), is_chunk=False, chunk_info=None, extra={'bg_mode': 'black'}, source=None, producer='iOS Version 18.5 (Build 22F76) Quartz PDFContext', page=26, outlines=[]), doc=None),\n",
       " LoaderResult(content='かいわ\\n会话\\nたなが\\n5\\nきのう\\n何を\\nしましたか。\\n田中：\\nヘや\\nにほ人\\nおう\\nいちにちじう\\n王\\n部屋7\\n日本の\\n日中\\nたなか\\n田中さんは?\\n+か\\nりょこうや\\nわたし\\n（)\\n田中：私は旅行社へ行きました。\\nらいう(=ま人\\nがえ\\n来週日本へ歸ります。\\nくうこう\\nここガら空港まではどのくらい)かガりますか。\\nおう<ま\\nいちじか人\\n全：輩で時間くらいで\\nたなか\\n田中：そうですか。どうもありがとう。\\nき\\n聞きました。\\n3+$\\n歌を\\nご\\nぶんほう\\n文法 语彙\\n~を(助>(受格++他動词)：表動作目的，對象\\n~ましょう<助動》：「~ます」的勸誘型，意志形\\n~ませんでした<助動〉「~ません」的過去型\\n~7”(助)：表場所(地+)，方法，手段，狀態(物+)\\n～^ <助>：表移動方向(地+へ)\\n~了<助>：表時間空間的界線.終点(時/地+まで)\\n~から<助〉：表時間，空間的起莫(時/地+ら)\\n二\\nガ人よう\\n慣用語\\n～ませ人力：表勸誘要不要~，好嗎~', metadata=GoodnotesMetadata(file_type=<FileType.PDF: 'pdf'>, file_name='早安日語-孫寅華.pdf', title=None, author=None, subject=None, created_at=datetime.datetime(2025, 8, 30, 10, 50, 4, tzinfo=TzInfo(UTC)), modified_at=datetime.datetime(2025, 8, 30, 10, 50, 4, tzinfo=TzInfo(UTC)), is_chunk=False, chunk_info=None, extra={'bg_mode': 'black'}, source=None, producer='iOS Version 18.5 (Build 22F76) Quartz PDFContext', page=27, outlines=[]), doc=None),\n",
       " LoaderResult(content='(lesson29)\\n日：(いちにち)量詞)一天\\n接尾\\n日忠：(いちにちじゅう)→整天\\n一日：（ついたち)→(每月)一号\\n傍尾器\\n反問語気\\n此處的有提示作用\\n*…から…まで：起迄(地、時間た)\\n花費\\n多少，多久\\n(從這裡到机場要花費多少時間？)\\n相呼麼\\n9\\n前方有量詞，登漫音\\n1小時\\n(副)在此可加强語\\n附和語気\\n(lesson18)', metadata=GoodnotesMetadata(file_type=<FileType.PDF: 'pdf'>, file_name='早安日語-孫寅華.pdf', title=None, author=None, subject=None, created_at=datetime.datetime(2025, 8, 30, 10, 50, 4, tzinfo=TzInfo(UTC)), modified_at=datetime.datetime(2025, 8, 30, 10, 50, 4, tzinfo=TzInfo(UTC)), is_chunk=False, chunk_info=None, extra={'bg_mode': 'black'}, source=None, producer='iOS Version 18.5 (Build 22F76) Quartz PDFContext', page=27, outlines=[]), doc=None),\n",
       " LoaderResult(content='CHAPTER07\\nたんご\\n単語\\n~時\\n\\n二\\nまいあさ\\n每朝\\n人じ\\n何時\\nひるやす\\n昼休\\n二今通\\nもくようび\\n木曜日\\n3人\\nぶん\\n~分/~分\\nご\\n午後\\nまいばん\\n每晚\\n半\\nあさ\\n成\\n朝\\nあした\\n夜天\\n明日\\n水\\nなんようび\\n何曜日\\n寝る\\nげつようび\\n月曜日\\nとうようび\\n土曜日\\nかようび\\n火曜日\\nにちようび\\n日曜日\\nきんようび\\n金曜日\\nはじ\\nは始まる\\nじきょ\\n授业\\nお\\n起きる\\nじこと\\n仕事\\nはく)\\nアルバイト\\nガい\\n会議\\n飛行机\\nキロ\\n母\\nえ元\\n八ワイ\\n×トル\\n梵\\n()\\nぶんけい\\n文型\\nすいようび\\n1.きょうは\\n水曜日す。\\nごぜん\\nいま\\nCじにぶ\\n2.今は午前1时20分寸。\\nまいあさ\\n每朝\\nお\\n起きます。\\nしちじ\\n7時に\\n3.わたしは', metadata=GoodnotesMetadata(file_type=<FileType.PDF: 'pdf'>, file_name='早安日語-孫寅華.pdf', title=None, author=None, subject=None, created_at=datetime.datetime(2025, 8, 30, 10, 50, 4, tzinfo=TzInfo(UTC)), modified_at=datetime.datetime(2025, 8, 30, 10, 50, 4, tzinfo=TzInfo(UTC)), is_chunk=False, chunk_info=None, extra={'bg_mode': 'black'}, source=None, producer='iOS Version 18.5 (Build 22F76) Quartz PDFContext', page=28, outlines=[]), doc=None),\n",
       " LoaderResult(content='( Channel + 早安日語，孫寅華. lesson30~36)\\n本章節著重於「時間，包含星期，24小時與.力ら.で的用法\\n(lesson 30)\\n*分的音变：分只有半濁音的音变\\n分\\n人きぶ\\n九分\\n\\n*~分，可以同时作为几分鐘，與”×點×分}的用法\\n*常用句：いまは何時ですか。(現在後鐘)\\n春休：約一個月\\n*日本為三學期制，中間的三個假期分则為\\n**\\n<接尾)~點\\n(名)上午\\n(名)每天早上\\n<名>幾点鐘\\n(接尾>~分\\n(接尾>~半(小时)\\n带实鼻音\\n(名》下午\\nあさばん\\n朝晚(名)早晚\\n(名)午休\\n(名)這個星期\\n(名)晚上\\n(名)早上\\n<名)明天\\n(名)每天晚上\\n(名)後天\\n*俗語：花金(なき人)：歡楽星期五\\n<名)星期\\n(名)星期三\\n(名)星期二\\n名)星期日\\n(名)星期四\\n(名)星期五\\n(名>星期六\\n<名)星期幾\\n*“工作系列单字\\n敬体\\n头始子：(五段变化/强变化)\\n始まります\\n*起马：(上一段变化/弱变化)起す\\n仆ありす/我今天有打工\\n*アルバイ仆可以省略成イ仆\\n<自五)開始，起始\\n<自上一>起床\\n(自下一>睡覺\\n《自五)勞動.工作\\n(名、白サ)會議\\n<名·自他寸>事情，工作\\n(名·自サ>授課，講課\\n發音多聽多練\\n(名，自)打工，工讀.兼差(原自德语Arbet)\\n*キ口，可以同时当作公里」，公斤，但若寫出全名\\nキロ×トル」：公里\\nキログラム」：公斤\\n*對外人提到自己的母親：はは\\n在家稱呼自己的母親：力さ人，人\\n呼其它人的母親：おさ\\n*對外人提到自己的兄長：「あ仁\\n在家稱呼自己的兄長：にさ」\\n稱呼其它人的兄長：おにさん」\\n(名)Hawoi，夏威宜\\n(名)原机\\n(名)公里(キロ×ート)\\n(名)公尺(meter)\\n(名)兄长\\n<名>母親\\n<感)嗯啊，是的\\n(名)什麼時後\\n*有關是的的表建：1.：最正經，标准 (は，ま)\\n2.元之：較隨興，口語\\n3.はあ：更高级的はい」，較常在商店到(はあ，かしこまりました)\\nな人ようび\\nきょうは何曜日ですか。→\\n(lesson31-32)\\n(今天星期三)\\n在會日常通上音可被省略/音()\\n(现在上午10桌20分)\\n*若是晚上1D:20，可以用“，或“夜，口语上较常用夜(上)\\n若今は夜分。\\nO\\n助詞，有(對前者)提示作用\\n(我每天上午7點起床)\\n時間+に表在該时間點\\nじっぶん\\n时5分\\nわたしは\\nに\\n4時唸(上、じ)不能唸(·じ)\\n(9時(くじ)不能唸(じ)\\nとよびあさ\\n土曜日の朝\\n3.1', metadata=GoodnotesMetadata(file_type=<FileType.PDF: 'pdf'>, file_name='早安日語-孫寅華.pdf', title=None, author=None, subject=None, created_at=datetime.datetime(2025, 8, 30, 10, 50, 4, tzinfo=TzInfo(UTC)), modified_at=datetime.datetime(2025, 8, 30, 10, 50, 4, tzinfo=TzInfo(UTC)), is_chunk=False, chunk_info=None, extra={'bg_mode': 'black'}, source=None, producer='iOS Version 18.5 (Build 22F76) Quartz PDFContext', page=28, outlines=[]), doc=None),\n",
       " LoaderResult(content='l℃\\nきんようひ\\nげつようび\\n5\\n4.交は月曜日から金曜日仕事をします。\\nじゆぎょう\\n二ほんご\\nなんじ\\nなんじ\\n5.日本語の授業は何時から何時までですか。\\nえいが\\n6.映画は\\n3くじは人\\n6時半からです。\\nでんらんかい\\n二ん\\n7.展覧会は\\n今週の\\nもくようび\\n木曜日までです。\\nげつよ3び\\nしけん\\n8.試験は月曜日から\\nはじ\\n始まります。\\nとガ人\\nくじはん\\n9時半まで図書館7\\nべんきょう\\n勉強しました。\\n9.きのう\\nえき\\nに\\n10.うちから駅まで2キロぐらいです。\\nがっこう\\n11.学校までバスで', metadata=GoodnotesMetadata(file_type=<FileType.PDF: 'pdf'>, file_name='早安日語-孫寅華.pdf', title=None, author=None, subject=None, created_at=datetime.datetime(2025, 8, 30, 10, 50, 4, tzinfo=TzInfo(UTC)), modified_at=datetime.datetime(2025, 8, 30, 10, 50, 4, tzinfo=TzInfo(UTC)), is_chunk=False, chunk_info=None, extra={'bg_mode': 'black'}, source=None, producer='iOS Version 18.5 (Build 22F76) Quartz PDFContext', page=29, outlines=[]), doc=None),\n",
       " LoaderResult(content='(父親週一到週五工作)\\n也可以用合：(原仕事)\\n表合\\n*答句：把何时，换掉就好\\n日本語の授業は6時から9時まです。\\n*9時一定唸<じ」，不能きじ」\\n日文課\\n(電影從6:30開始)\\nから、ま可以軍獨使用\\n這裡日本語，勉強，是名詞，名詞問的連持用\\n勉强，高受词，助词用\\nべんきょう\\n受明的詞篇寸\\nしちじ\\nにぽん\\n7時から9時まで日本語の勉強をしました\\n9.1.Φうべ\\nくじ\\n\\nべんきょう\\nしちじ\\n9.2.Φうべ\\n7時から9時まで日本語勉強しました。\\n预合面词\\n相合重词如何\\n影響助词\\n此時“日本語，是受词，助詞用を\\n也可以用\\nをしました\\n(從我家到車站的2公里)\\n表大的\\nら前方有量度成音<\\n花餐時間/空間', metadata=GoodnotesMetadata(file_type=<FileType.PDF: 'pdf'>, file_name='早安日語-孫寅華.pdf', title=None, author=None, subject=None, created_at=datetime.datetime(2025, 8, 30, 10, 50, 4, tzinfo=TzInfo(UTC)), modified_at=datetime.datetime(2025, 8, 30, 10, 50, 4, tzinfo=TzInfo(UTC)), is_chunk=False, chunk_info=None, extra={'bg_mode': 'black'}, source=None, producer='iOS Version 18.5 (Build 22F76) Quartz PDFContext', page=29, outlines=[]), doc=None),\n",
       " LoaderResult(content='ぶんけい\\n文型：動詞語尾变化\\nきほんけい\\n基本形\\nか\\n買\\n书書\\nはな\\nは話す\\nT\\n立\\n死ぬ\\nあ\\n游ぶ\\n飲む\\n力\\n帰る\\nみ\\n見子\\nい3\\n起き子\\nね\\n寝る\\nひTいナい\\n否定形\\nか\\n買いません\\nか\\n書きません\\nはな\\n話しません\\nた\\n立ちません\\nカこひていけい\\n過去否定形\\nか\\n買いませんてした\\n力\\n書きませんてした\\nはな\\n話しませんてした\\nた\\n立ちませんてした\\nL\\n死にませんてした\\nあそ\\n遊びませんてした\\nの\\n飲みませんてした\\n力之\\n帰りませんでした\\nみ\\n見ませんてした\\nいませんでした\\nお\\n起きませんてした\\nね\\n寝ませんてした\\nt\\n食べませんてした\\nガけませんてした\\nき\\n来ませんてした\\nしませんでした\\nガこけい\\n過去形\\n十\\nます形\\nか\\n書きました\\nはな\\n話しました\\nた\\n立ちました\\nか\\n書きます\\nはな\\n話します\\nt\\n立ちます\\nあそ\\n遊びます\\nの\\n飲みます\\nかえ\\n帰ります\\nあそ\\n遊びました\\nの\\n飲みました\\nガえ\\n帰りました\\nみ\\n見ました\\nいました\\nあそ\\n遊びません\\n9\\n飲みません\\n力之\\n帰りません\\nいます\\nお\\n起きます\\nね\\n寝ます\\nいません\\nお\\n起きません\\nね\\n寝ません\\nt\\n食べません\\nガけません\\nき\\n来ません\\nしません\\nね\\n寝ました\\nかけました\\nき\\n来ました\\nしました\\nかける\\n来\\nする\\nかけます\\nします', metadata=GoodnotesMetadata(file_type=<FileType.PDF: 'pdf'>, file_name='早安日語-孫寅華.pdf', title=None, author=None, subject=None, created_at=datetime.datetime(2025, 8, 30, 10, 50, 4, tzinfo=TzInfo(UTC)), modified_at=datetime.datetime(2025, 8, 30, 10, 50, 4, tzinfo=TzInfo(UTC)), is_chunk=False, chunk_info=None, extra={'bg_mode': 'black'}, source=None, producer='iOS Version 18.5 (Build 22F76) Quartz PDFContext', page=30, outlines=[]), doc=None),\n",
       " LoaderResult(content='五段\\n上/下一段\\n規則\\n動詞変化\\nき\\n不規則：来る，す\\n(lesson32-33)\\n這部份看廖老師比較清楚\\n五段\\n变化会包含あ1.3.制段\\n上一段\\n变化只會包含(基本形的)上一段\\n下一段\\n变化只會包含(基本形的)下一段：\\nえ」\\n力变\\nサ变', metadata=GoodnotesMetadata(file_type=<FileType.PDF: 'pdf'>, file_name='早安日語-孫寅華.pdf', title=None, author=None, subject=None, created_at=datetime.datetime(2025, 8, 30, 10, 50, 4, tzinfo=TzInfo(UTC)), modified_at=datetime.datetime(2025, 8, 30, 10, 50, 4, tzinfo=TzInfo(UTC)), is_chunk=False, chunk_info=None, extra={'bg_mode': 'black'}, source=None, producer='iOS Version 18.5 (Build 22F76) Quartz PDFContext', page=30, outlines=[]), doc=None),\n",
       " LoaderResult(content='れん\\n②練習\\nきんようび\\nきのうは金曜日\\n1.\\nあした\\nあさって\\n2.\\nです\\nいち\\nです\\nお\\n起きます。\\n寝末す。\\n力元\\nうちへ帰ります。\\nろくじは人\\n6時半に\\nCういちじ\\n11時\\n\\nば人\\nまたら\\nあさ\\n艾交\\n晚\\n4.\\n朝\\n働きます。\\nから\\nは\\nまで\\nきんようび\\nしごと\\n月日\\n仕事をします。\\n金曜日\\n深\\nごじ\\n\\nアルバイトをします。\\nべん老よう\\n\\nじうにし\\n私\\n勉強します。\\n12時\\nしよくどう\\nが=\\nLいちじ\\n3<じ\\n5.学校の食堂\\n11時から6時までです\\nは\\nまいあさ\\n每朝\\nまいば人\\n每晚\\nまい=ち\\n每日\\n3.わたしは\\nひこき\\n6.八ワイまで飛行機\\nくじガんは人\\n9時間半\\nかかります\\nだいがく\\n大学まで\\nさん\\n3キロぐらいです。\\n7.うちから\\nべんきょう\\n(=医人\\n日本語を勉強しました\\nばん しういちじ\\n8.3きのうの晩11時ごろまで\\n1.今時です\\n9\\nんガす。\\nえ駅まで\\n4.うちガら\\nあります\\nとしよか人\\n欧10時まです。\\n5.図書館は朝8時\\nC)3\\n午後５時35に分までです。\\n7.あの堂はか\\nいく時までです。。\\n8、映画は２時からです。\\n9.アルバイトは込時までです。\\n12.每朝36年に起ます。\\n12.每日時率仁学来ます。\\n4.今晚時にち入ります。', metadata=GoodnotesMetadata(file_type=<FileType.PDF: 'pdf'>, file_name='早安日語-孫寅華.pdf', title=None, author=None, subject=None, created_at=datetime.datetime(2025, 8, 30, 10, 50, 4, tzinfo=TzInfo(UTC)), modified_at=datetime.datetime(2025, 8, 30, 10, 50, 4, tzinfo=TzInfo(UTC)), is_chunk=False, chunk_info=None, extra={'bg_mode': 'black'}, source=None, producer='iOS Version 18.5 (Build 22F76) Quartz PDFContext', page=31, outlines=[]), doc=None),\n",
       " LoaderResult(content='(lesson 33-35)\\nし明天\\nあさって後天\\n(今天是星期五)\\n(明天是星期五)\\n(後天是星期五)\\n*常见音变：1时(5C)\\n4時(よじ)\\n9時（くじ)\\n11時(ういちじ)\\n12時10分(じじぷ人)\\n没有数字的时間\\n但你也可以加は」，强調前者(主語)\\n不需要加助词\\nEx：今は１時です。\\n\\n(我每天早上6:30起床)\\n表時間莫\\n理验上要有的光\\n但日文(旧常會话)中，经常省略某些字。\\n<5()→大约\\n6\\n11點左右\\n力石(花黄)→时間\\n用法：如(有)\\nO', metadata=GoodnotesMetadata(file_type=<FileType.PDF: 'pdf'>, file_name='早安日語-孫寅華.pdf', title=None, author=None, subject=None, created_at=datetime.datetime(2025, 8, 30, 10, 50, 4, tzinfo=TzInfo(UTC)), modified_at=datetime.datetime(2025, 8, 30, 10, 50, 4, tzinfo=TzInfo(UTC)), is_chunk=False, chunk_info=None, extra={'bg_mode': 'black'}, source=None, producer='iOS Version 18.5 (Build 22F76) Quartz PDFContext', page=31, outlines=[]), doc=None),\n",
       " LoaderResult(content='②会\\nすずき\\n鈴木：あのう……黄さんではありませんか。\\nすずき\\nひさ\\n黄\\n2\\nたガお\\n7hL\\nい\\n二黄\\n電車で高雄へ行きます。\\nたガお\\nすずき\\n鈴木：高雄まで、どのくらいガかりますか。\\nπ人や\\nよじガ人\\nすずきたかお\\nともだち\\n鈴木：高雄にだれか友達がいますが。\\nこう\\nさい\\n黄：ええ。クラスメートの\\n菜さんがいます。\\nすずき\\nガえ\\n鈴木：それはいいですね。いつ帰りますか。\\nにちようひ\\nかえ\\n人\\nすずき\\n鈴木：さようなら。\\nぶ人ぽうごい\\n文法語彙\\n~(二〈助>(表示動作，作用的時間點)在~。\\n~ました<助動〉「~ます、的過去式。\\nガ人ようご\\n慣用語\\nひさ\\nお久しぶりですね：好久不見\\nえんき\\nお元気ですが\\n：你好嗎\\n：託您的福\\nおかけさまで\\n(れい\\n：告辭，再见。\\n失礼します', metadata=GoodnotesMetadata(file_type=<FileType.PDF: 'pdf'>, file_name='早安日語-孫寅華.pdf', title=None, author=None, subject=None, created_at=datetime.datetime(2025, 8, 30, 10, 50, 4, tzinfo=TzInfo(UTC)), modified_at=datetime.datetime(2025, 8, 30, 10, 50, 4, tzinfo=TzInfo(UTC)), is_chunk=False, chunk_info=None, extra={'bg_mode': 'black'}, source=None, producer='iOS Version 18.5 (Build 22F76) Quartz PDFContext', page=32, outlines=[]), doc=None),\n",
       " LoaderResult(content='(lesson 35)\\nあ《感嘆》表猶豫.不確定\\nおぶりです：好久不見\\n成套寒喧用語\\n*おかげさまで記的福\\n(へ…這不是黄小姐嗎)\\n否定疑問：表謙，加强\\n(你在高雄有沒有什麼朋反呢)\\n不定副助词\\n同格(同位格)\\nクラスメート色人是同一人\\nでは、失礼します\\n\\n(lesson 36)\\n(lesson36)', metadata=GoodnotesMetadata(file_type=<FileType.PDF: 'pdf'>, file_name='早安日語-孫寅華.pdf', title=None, author=None, subject=None, created_at=datetime.datetime(2025, 8, 30, 10, 50, 4, tzinfo=TzInfo(UTC)), modified_at=datetime.datetime(2025, 8, 30, 10, 50, 4, tzinfo=TzInfo(UTC)), is_chunk=False, chunk_info=None, extra={'bg_mode': 'black'}, source=None, producer='iOS Version 18.5 (Build 22F76) Quartz PDFContext', page=32, outlines=[]), doc=None),\n",
       " LoaderResult(content='CHAPTER 08\\nたんご\\n単語\\nファミコソ\\nカメラ\\n\\nnこ\\n旅行\\nsいしう\\n来週\\nほ\\n欲しい\\n貫3\\nアメリカ\\nテニス\\nラケット\\nクーラー\\nきぶ人\\n分\\nあa\\nさかな\\nれいぞうこ\\nがいこ<じん\\n冷蔵庫\\n外國人\\nどうして\\n$\\\\r}$\\nと遠い\\n痛\\nひ<\\nおなか\\n例\\n力\\nのど\\n>め\\n冷たい\\n渴く\\nお李い\\nすく\\nぶんけい\\n文型\\n1.わたしはファミコンが\\nほ\\n2.わたしはファミコンは欲しくいです。\\nほ\\nハソコンが欲しいです。\\nL\\n行きたいです。\\n3、わたしは\\n()\\n4、わたしはアメリカへは\\n行きたくないです。\\nにほ人さくら\\nみ\\n日本で桜を見たいです。\\nの\\nなに\\n飲みたいですか。\\n5.あなたは\\n何が\\nわたしはジュースが\\n\\n6、あなたは\\n何を\\nか\\nt=$\\n買いたくないです。\\n何も\\nわたしは', metadata=GoodnotesMetadata(file_type=<FileType.PDF: 'pdf'>, file_name='早安日語-孫寅華.pdf', title=None, author=None, subject=None, created_at=datetime.datetime(2025, 8, 30, 10, 50, 4, tzinfo=TzInfo(UTC)), modified_at=datetime.datetime(2025, 8, 30, 10, 50, 4, tzinfo=TzInfo(UTC)), is_chunk=False, chunk_info=None, extra={'bg_mode': 'black'}, source=None, producer='iOS Version 18.5 (Build 22F76) Quartz PDFContext', page=33, outlines=[]), doc=None),\n",
       " LoaderResult(content='( Channel + 早安日語，孫寅華.lesson36~40)\\nほ\\n本章節著重於想要的心理状态*想要某物：物+欲。(加)\\n*想做某事：動詞連用形+E：本行()\\n(lesson 36)\\n<名)電視蒸樂器 family com)\\n通高者在第一音節\\n<名)相机(camera)\\n(名)樱花：樱樹\\n注意流有音\\n6\\n<名)旅行\\n(名)網球(temis)\\n<名)美洲;美國\\n《名>racket\\n(名)冷気机\\n只寫假名感冒\\n寫漢字風\\nかぜ\\n*かぜ v.s.\\n風\\n*\\n(名)喉曬\\n見渴く\\n<名>魚\\n(名>心情;身體状呆\\n<代>你\\n(名)肚子\\n<名)感冒\\n(名)冰箱\\n(名)例句\\n<名)外國人\\n(名，副)下遇;下星期\\n<名)为什麼\\n物+が欲しい：想要某物\\n也可以形容人冷漠\\n(形)冷的，冰凉的\\n(形)想要，希望得到手\\n(形)痛\\n<形)遠的\\n(形)多的\\n*ひ人有多种意思，此處只介绍感冒\\nremark: ex:ひきました。(感冒)\\n就出这话时已经“得到，感冒了→过去式\\n*口渴：のどはきました同理\\n<自五>空；(肚子)\\n<他五)罹患(感冒)\\n<他五>買\\n(白五)渴，克\\n(lesson37)\\n物が欲いです。想要某物\\n使用句通常是发生在第一人覆，所以更容易看到\\n私は…が欲しいです。\\n我想要電視適樂器\\nあなたはフンか欲しいすか。\\n此處不是力，用体，是表强调。\\n(1)形容詞·否定变化\\n動词+T()表希望想\\n在傳統日文教材中會教\\n当句型中表现出想要，希望时，前方的受词(想要的事物)助词用」\\n但在現代日語中，使用，比使用，還常见(在本身受格助詞)\\n因此2者均能在例句中见到。\\nremark:當使用複合動詞時，更常用\\n動词+()(1)结尾，套用(1)形容詞的否定变化\\n動詞+た(い」\\n场所+7：原地動作\\n見左侧\\n+(否定)全盤否定', metadata=GoodnotesMetadata(file_type=<FileType.PDF: 'pdf'>, file_name='早安日語-孫寅華.pdf', title=None, author=None, subject=None, created_at=datetime.datetime(2025, 8, 30, 10, 50, 4, tzinfo=TzInfo(UTC)), modified_at=datetime.datetime(2025, 8, 30, 10, 50, 4, tzinfo=TzInfo(UTC)), is_chunk=False, chunk_info=None, extra={'bg_mode': 'black'}, source=None, producer='iOS Version 18.5 (Build 22F76) Quartz PDFContext', page=33, outlines=[]), doc=None),\n",
       " LoaderResult(content='ぶんけい\\n文型\\n()形容詞((い)形)\\n基本形\\n常体\\n買いた\\n買いたくい\\n買いたガつた\\n買いたくなガった\\n話したい\\n話したくない\\n話したかった\\n話したくなかった\\n帰りたい\\n帰りたく)\\n帰りたかった\\n帰りたくなかった\\n食べたい\\n食べたくない\\n食べたかった\\n食べたくなかった\\nしたい\\nしたく)\\nしたかった\\nしたくなかった\\n敬体\\n買いたいです\\n買いたくないです\\n買いたガったです\\n買いたくガったです\\n話したいです\\n話したくないです\\n話したガったです\\n話したくなかったです\\n帰りたいです\\n帰りたくないです\\n帰りたかったです\\n帰りたくなかったです\\n食べたいです\\n食べたくないです\\n食べたがったです\\n食べたくなかったです\\nしたい)です\\nしたくないです\\nしたガったです\\nしたくなガったです\\nはな\\nは話す\\nかえ\\n帰る\\nする', metadata=GoodnotesMetadata(file_type=<FileType.PDF: 'pdf'>, file_name='早安日語-孫寅華.pdf', title=None, author=None, subject=None, created_at=datetime.datetime(2025, 8, 30, 10, 50, 4, tzinfo=TzInfo(UTC)), modified_at=datetime.datetime(2025, 8, 30, 10, 50, 4, tzinfo=TzInfo(UTC)), is_chunk=False, chunk_info=None, extra={'bg_mode': 'black'}, source=None, producer='iOS Version 18.5 (Build 22F76) Quartz PDFContext', page=34, outlines=[]), doc=None),\n",
       " LoaderResult(content='(lesson38)\\n「た(い)変化\\n五段 V：③→ ② +\\n上下段V：去+t=)\\n变V.：す→た\\n()}変化的過去，否定形\\n(1)，变化後是()结尾，直接套形容詞变化\\nx…た<\\n…たくなガった\\nたいく…たがった\\n(1形的敬体\\n直接在句尾接tす。\\n(想買)\\n(不想買)\\n(原本/過去想買)\\n(原本/過去不想買)\\n(五段V.)\\n(五段v.)\\n…くないです\\n较口\\n*…くなかったです\\n…くありません\\n較文章\\n=…くありませんでした。\\n(五段V.)\\nほ\\n*欲(变化(過去，否定)形容变化\\n欲しガ\\n欲しくなかった\\n(下一段V)\\n(上一段V规则相同)\\n(寸变v.)', metadata=GoodnotesMetadata(file_type=<FileType.PDF: 'pdf'>, file_name='早安日語-孫寅華.pdf', title=None, author=None, subject=None, created_at=datetime.datetime(2025, 8, 30, 10, 50, 4, tzinfo=TzInfo(UTC)), modified_at=datetime.datetime(2025, 8, 30, 10, 50, 4, tzinfo=TzInfo(UTC)), is_chunk=False, chunk_info=None, extra={'bg_mode': 'black'}, source=None, producer='iOS Version 18.5 (Build 22F76) Quartz PDFContext', page=34, outlines=[]), doc=None),\n",
       " LoaderResult(content='れんしゆう\\n練習\\n1.わたしは\\nバソンがほしいです。\\nほしいですか。\\n简\\nあa$\\nあ\\nほしいですか。\\n辞書\\nが欲しいくなです\\n2.わたしは\\nあなた\\n欲しい)く（)です分。\\nあの\\n3.わたしはテパートで\\n雑誌を\\nお人がく\\nうち\\n音楽\\nわたし\\nさガ\\nはしもとくん\\nたんすい\\n橋本君\\n鱼\\n淡水\\nt=\\nガわ\\n4.(1)のどが渇まました。何が\\nあたま\\n()t$\\n(2)頭がとても痛いです。\\nえいが\\n(3)わたしはゆうべ\\n映画を\\nわる\\nきぶん\\n気分が悪いです。\\n(4) ちょと\\n主\\n聞またいです。\\nt\\n食べたいです。\\nの\\n飲みたいです。\\n()\\n学校へ行またくないです。\\nt\\n食べたくながったです。\\n（ま\\n今\\n$\\\\a{1=$\\n何毛\\nかいれ\\nO\\n会話\\n(学))\\nこう\\n黄\\nじしょ\\nながむら\\n中村：どん辞書を買いたいのですか。\\nじしよ\\nほ\\nがい=くじh\\nお\\nれいぶん\\n黄\\n：外国人のための辞書で例文が多いのが欲しいです。\\nえき\\nあたら\\nながむら\\nちか\\nほ人や\\n中村：そうですか。駅の近くに新し)本屋があります。\\nねが\\n二黄\\nはい。ではお願いします。\\n法\\n~た()\\n~t=b\\n-の\\n~のです', metadata=GoodnotesMetadata(file_type=<FileType.PDF: 'pdf'>, file_name='早安日語-孫寅華.pdf', title=None, author=None, subject=None, created_at=datetime.datetime(2025, 8, 30, 10, 50, 4, tzinfo=TzInfo(UTC)), modified_at=datetime.datetime(2025, 8, 30, 10, 50, 4, tzinfo=TzInfo(UTC)), is_chunk=False, chunk_info=None, extra={'bg_mode': 'black'}, source=None, producer='iOS Version 18.5 (Build 22F76) Quartz PDFContext', page=35, outlines=[]), doc=None),\n",
       " LoaderResult(content='(lesson 38-39)\\n我初盖心指\\n欲いい)です只用在第一人稱(自己)\\n欲いが可以用在其它人\\n(那個人想要什麼樣的東西)\\n*“君：朋友，男性間較親近的稱呼\\n非常\\n(昨夜)\\n加強語氣(B時雨の町)\\n① 普通体+a/aで：表加強语氣(或說明)\\nEx:ちょと頭が痛いのです\\n②普通体+の力/ので：表詢閣，要求對方說明\\nEx:とうして遅れたのですが。\\n…すみませ人。途中事故にあったす\\nnote:1.口語上通常會轉音为人，E：食\\n2.月友間對話，較常單獨出現のEx：食ないの?\\n3.力語氣較强烈，通常是男生使用Ex:食の\\n(lesson39)\\n形式名詞：用於表名詞省略\\nrecall：あの本私原句あ本私の本」，省略本\\n，:助詞→形式名詞\\n此處則為形容詞+形式名词，用法：形容词()段結尾+の\\n近<(5分<):N.\\n*近い(ちガい):adj\\n\\n形式名词\\n(專門為外國人寫的字典。想要文章(範例)多的。)\\n葡誘形\\n(lesson40)\\n(助動》(接在動詞連用形下)想一;希\\n(形式名詞>(表示目的)為了\\n名题体 名词\\n用作形式名詞，相当於，，等\\n<連語)表加強斷定語氣', metadata=GoodnotesMetadata(file_type=<FileType.PDF: 'pdf'>, file_name='早安日語-孫寅華.pdf', title=None, author=None, subject=None, created_at=datetime.datetime(2025, 8, 30, 10, 50, 4, tzinfo=TzInfo(UTC)), modified_at=datetime.datetime(2025, 8, 30, 10, 50, 4, tzinfo=TzInfo(UTC)), is_chunk=False, chunk_info=None, extra={'bg_mode': 'black'}, source=None, producer='iOS Version 18.5 (Build 22F76) Quartz PDFContext', page=35, outlines=[]), doc=None),\n",
       " LoaderResult(content='CHAPTER 09\\n②\\n磨\\n出る\\n法齒\\n修镇\\nようふく\\n鞋\\n洋服\\nとうまよう\\n東京タワー\\nはな\\n話し\\nB\\nそれとも\\nも\\nもしもし\\nあら\\n知る\\n洗\\n持つ\\n\\n乘子\\nぼうし\\n饭\\n帽子\\nネクタイ\\nお土産\\nオートバイ\\n望い\\n着\\n貸す\\n表待\\n教え\\nお\\n終わる\\n動\\nばん\\nは人\\n晚ご飯\\nがぶる\\nはく\\nあそ\\nあぶ\\n的镜\\n三红5茶\\nお風\\n表前\\n後\\nはい\\nは入る\\n\\\\度\\nガんじ\\n漢字\\nLφ(T=L)\\n宿题\\n丁手\\nそれから\\nます\\nt=<±人\\n山\\nまた\\n又\\nぶんけい\\n文型\\nあさ\\nなに\\nお\\n何をしますか。\\n1.朝 起7，\\nあ土はん\\nt\\nみが\\nあら\\nかお\\nあさお\\nは\\n…朝起て，歯を磨いて，顔を洗って、朝ご飯を食べます\\nは人\\nまいば人\\nな=\\n2.每晚 ご飯を\\nt=af\\nいま\\nなに\\n3.田中さ人は\\n今\\n何をし7いますか。\\nんぶん\\n入や\\n今\\n読\\nんでいます。\\n部屋7\\n新聞を\\n…田中土人は\\nベ人ま\\nたんこうだいがく\\n勉強しています。\\n…田中さんは淡江大学で\\nがっこう\\nで\\nしちじ\\n学校\\n4.わたしは\\n7時に\\nうちを出て', metadata=GoodnotesMetadata(file_type=<FileType.PDF: 'pdf'>, file_name='早安日語-孫寅華.pdf', title=None, author=None, subject=None, created_at=datetime.datetime(2025, 8, 30, 10, 50, 4, tzinfo=TzInfo(UTC)), modified_at=datetime.datetime(2025, 8, 30, 10, 50, 4, tzinfo=TzInfo(UTC)), is_chunk=False, chunk_info=None, extra={'bg_mode': 'black'}, source=None, producer='iOS Version 18.5 (Build 22F76) Quartz PDFContext', page=36, outlines=[]), doc=None),\n",
       " LoaderResult(content='(40.99~)\\n(Channel + 早安日语.孫寅華，lesson 41~46)\\n此章節著重於「動詞了形」，以及其音便\\n*は人：可泛指穿(下半身的衣物)E：力一<(穿裙子)下(穿襪子)\\nボンをはく(穿子)靴く靴)\\n*着子：可泛指穿(上半身的衣物)E：一(穿)\\nEx：田中さ人を知ています。我認識田中)\\n乘子前方的助词一定用=交通工具+\\nE飛行机剩/乗/にりま。\\n(去到某地\\n*出子，可能因为前方助词不同，而生用某地的意思\\n*「掛ける」有多种意思，依受詞，改变\\n*おりま(洗澡(泡澡)\\n洗澡\\nEx:眼鏡を掛けます。(戴眼鏡)\\n*シャワーをありす(洗澡(淋浴))\\n贷可：lend，借出(五>\\n(貸：bomow,借入<上->\\n(lesson 41)\\n*②，④+3，的五段動词\\n<他五>知道，晚得\\n<他五>刷(浮)，擦(亮)\\n(他五)等待\\n<他五>穿鞋\\n<他五)戴(帽子)\\n<他上一>穿(衣服)\\n<他五>洗\\n(他五)持;拿：持有\\n<他下一>學會，掌握，記住\\n注意是五段v.\\n<自五>進入\\n《他下一>教，教尊\\n<他五>說，講\\n<他五)借给，借出\\n<他下一>掛上，戴\\n(自五>完畢，結束\\n<自五>遊戲，玩耍\\n<自下一>出來，離開\\n(自五)走、步行\\n<自五>搭乘\\n<名，自>運動\\n(名)红茶\\n(名)眼镜\\n<名>臉，面孔\\n<名>飯、米飯\\n我頭語，表重\\n(所有衣服的總稱)\\n<名>西装、洋装\\n《名>帽子\\n<名>一次；一回\\n<名>牙齿\\n(所有鞋類的總稱)\\n<名>鞋子\\n*洋服(上ふ<)在现在日語中已泛指所有日常服\\n若要說和服，則會用着物()和服()\\n(名)领带 (necktie))\\n<名>漢字\\n<名>晚飯\\n<名)浴池，澡堂\\n<名)後之後\\n<名)東京鉄塔\\n<名>課外作業.習題\\n<名）姓名\\n别人的姓名：お名前\\nEx:お名前は?\\n<名>手\\n<名>土產、礼品\\n<名)話，說話\\n<名)摩托車 (outo-bike\\n<形)白色的\\n<形)近的\\n<接)然後\\n<接)或者，還是\\n*毛：注意音調，類似二聲再還\\n毛う：注意音調，類似四聲已經\\n<副>先，首先\\n(副>再還\\n<副>又；再；還：分別時)再見\\n<副>很多\\nEお金が沢山あります。\\n<感>(電話中)喂喂\\n(lesson 42-43)\\n*動詞T形：表停頓.中止\\n7會放在動詞連用形之後\\nEx：起き(連用)+7\\n*動詞連用形在遇到7時會產生音变\\n()音便\\nEx：唐(み)磨(み)磨)\\n☆廖老師口訣：(限五段v)\\n(结尾，改)\\n寸結尾改\\n食い寿司映子\\n5\\n改人。\\n*動詞了形+力表先後\\n(每天晚上吃完飯後，你都做些什麼)\\n事实叙述，不用改时態\\n(完整：食べてからテレビを見ます)\\n當下進行的事\\n可以理解成\\n現在的狀態\\n(田中土人現在在做什麼？)\\n遇人，\\n0\\n*(1)原有「人，生物存在之意)\\n動词7形+1表进行，状態.结果，e\\n此時)，变成補助動司\\n表场所\\n(現在正在房周看報紙)\\n(正在淡江大学唸書)', metadata=GoodnotesMetadata(file_type=<FileType.PDF: 'pdf'>, file_name='早安日語-孫寅華.pdf', title=None, author=None, subject=None, created_at=datetime.datetime(2025, 8, 30, 10, 50, 4, tzinfo=TzInfo(UTC)), modified_at=datetime.datetime(2025, 8, 30, 10, 50, 4, tzinfo=TzInfo(UTC)), is_chunk=False, chunk_info=None, extra={'bg_mode': 'black'}, source=None, producer='iOS Version 18.5 (Build 22F76) Quartz PDFContext', page=36, outlines=[]), doc=None),\n",
       " LoaderResult(content='ある\\nがっこう\\n主\\nの\\n主\\n步17\\n来ますか、それもバスに乘って来ますか\\n5.学校まで\\n主\\nちか\\nある\\n来ます。\\n…近いから歩いて\\nすす±\\nし\\n6.鈴木人を知っていますか。\\nすずき\\n…いいえ、わたしは鈴木人を知りません\\nぼうし\\nすず\\nあか\\nし3ぼうし\\n7.鈴木士人は赤い帽子をかぶっていますか、い帽子をかぶっていまか。\\nすずき\\nぼうし\\n…鈴木士人は帽子をかぶっていませ人\\nいちどか\\n8、すみませ人がもう\\n一度書いてください。\\n…はい、わかりました。\\n文型：動詞7形\\n五段動詞\\n7形\\n原形\\n読む\\n呼ぶ\\n死好\\nか\\n買\\n表持\\n力之\\n帰る\\nか\\n書く\\nおよ\\n泳\\n行\\nはな\\n話す\\n中貸す\\n上下段動詞\\n7形\\n原形\\n見\\n灵见了\\n3\\n寝子\\n死人\\n力え\\n帰了\\n力変.サ変動詞\\n原形\\n7形\\n来了\\nL7\\nべ人きよう\\n勉强し7\\nおよ\\n泳\\nU\\n行\\nはな\\n話して\\n貸して\\nする\\nべんきよう\\n勉强する', metadata=GoodnotesMetadata(file_type=<FileType.PDF: 'pdf'>, file_name='早安日語-孫寅華.pdf', title=None, author=None, subject=None, created_at=datetime.datetime(2025, 8, 30, 10, 50, 4, tzinfo=TzInfo(UTC)), modified_at=datetime.datetime(2025, 8, 30, 10, 50, 4, tzinfo=TzInfo(UTC)), is_chunk=False, chunk_info=None, extra={'bg_mode': 'black'}, source=None, producer='iOS Version 18.5 (Build 22F76) Quartz PDFContext', page=37, outlines=[]), doc=None),\n",
       " LoaderResult(content=' Recall that交通工具+→表手段(Ex：学校来ま)\\n但在用「乘子时，交通工具是乘的對像，與手段關\\n所以助詞是用二」，表動作由外向內\\nTL;DR看到乘3，就用=\\n此處分的，為“表原因\\n因篇“近\\n必表原因助詞：か\\n必知道，認識，曉得的問法几乎都是知っすか。\\nいえ、知りませ人~這裡只有動詞否定\\n☆不可以回答(儿，知せ\\n4追就像“我正在不知道\\n，没有正在不知道，你就只是不知道(~)\\n*帽子 ぶ：戴上帽子(的瞬間動作)\\n帽子をかま寸：戴著帽孔的状態)\\n空周终桌\\n☆\\n(你認識鈴土人嗎)\\n(鈴木土人戴著红色的帽子，還是戴着白色的帽子)\\n該狀態未發生\\n*惯用形：…T(±)：要求(某人)做某事\\n請寫\\n寫一次\\n請再寫一次\\n(lesson43)\\n好，心，む结尾\\n→改ん\\n☆廖老師口訣：(限五段v)\\n(结尾、改)\\n食寿司映る\\n其他结尾(，5，)，改人。\\n3.2.る结尾\\n→改\\n<结尾→改(\\n50\\nO\\n*\\n唯一例外\\n寸结尾→改\\n(不規則)', metadata=GoodnotesMetadata(file_type=<FileType.PDF: 'pdf'>, file_name='早安日語-孫寅華.pdf', title=None, author=None, subject=None, created_at=datetime.datetime(2025, 8, 30, 10, 50, 4, tzinfo=TzInfo(UTC)), modified_at=datetime.datetime(2025, 8, 30, 10, 50, 4, tzinfo=TzInfo(UTC)), is_chunk=False, chunk_info=None, extra={'bg_mode': 'black'}, source=None, producer='iOS Version 18.5 (Build 22F76) Quartz PDFContext', page=37, outlines=[]), doc=None),\n",
       " LoaderResult(content='れんゆ\\n練習\\nあさお\\n1.1朝起きて。新聞を読ます\\n3朝起きて，運動をしす\\nきむら\\nこち\\nいま\\n紅茶を飲人\\n2.1.木村士人は\\n今\\nてガみ\\n2.木村さ人は今手紙を書ていま\\n2=$\\n3.木村さんは今何をしていますか。\\nめがね\\n3.1.木村さ人は眼鏡をかけています\\nた=くさんか人じ\\n()もと\\nおぼ\\n4.3妹は\\n沢山漢字を党ています\\nかえ\\nか\\nみやげ\\n2.東京へ行って，友達に会って東京夕ワ一を見て，お土産を買っ7。\\nあら\\n7\\n6.1.手を洗ってか，ご飯を食べます\\nしごと\\n2、仕事が終わってからテニスをします。\\n3.宿題をしてガ，遊びます\\n7.1.新聞を読人でいます\\nある\\n2、散歩しています歩いています。\\n3人てん\\nの\\n3.バスに乘いますバスを運転しています\\nじむし\\nき\\n8.1.すみませ人があした事務室来てください\\nはい\\n2.すみませんが部屋につてくださ\\nおし\\n3.すみませ人が日本語を教えます\\nいちと\\n4.すみませ人がもう一度\\n力', metadata=GoodnotesMetadata(file_type=<FileType.PDF: 'pdf'>, file_name='早安日語-孫寅華.pdf', title=None, author=None, subject=None, created_at=datetime.datetime(2025, 8, 30, 10, 50, 4, tzinfo=TzInfo(UTC)), modified_at=datetime.datetime(2025, 8, 30, 10, 50, 4, tzinfo=TzInfo(UTC)), is_chunk=False, chunk_info=None, extra={'bg_mode': 'black'}, source=None, producer='iOS Version 18.5 (Build 22F76) Quartz PDFContext', page=38, outlines=[]), doc=None),\n",
       " LoaderResult(content='(lesson 43-45)\\n廣義：現在做什麼工作\\n狹義：現在在幹麻\\n也可以指：我有近视\\n(我妹認得很多漢字)', metadata=GoodnotesMetadata(file_type=<FileType.PDF: 'pdf'>, file_name='早安日語-孫寅華.pdf', title=None, author=None, subject=None, created_at=datetime.datetime(2025, 8, 30, 10, 50, 4, tzinfo=TzInfo(UTC)), modified_at=datetime.datetime(2025, 8, 30, 10, 50, 4, tzinfo=TzInfo(UTC)), is_chunk=False, chunk_info=None, extra={'bg_mode': 'black'}, source=None, producer='iOS Version 18.5 (Build 22F76) Quartz PDFContext', page=38, outlines=[]), doc=None),\n",
       " LoaderResult(content='かいわ\\n会話\\nTんわ\\nち人\\nきむら\\n(陳士人から木村さ人への\\n電話)\\nち人\\n陳：もしもし、陳ですが木村さんはいすか。\\nきむら\\n木村：わたしです。こんにちは。\\n陳\\nこんにちは。木村さ人まのう、おうちにい)ませ人でしたね。\\nきむら\\nち人\\na=\\n陳：台北へ行何しましか。\\nきむら\\nざし\\nほ人や\\nあ\\n（\\n木村：まず、本屋へ行って、雑誌を買いました。それから友達に会いました。\\nガえ\\nち人\\n陳：そのあと、すぐおうちへ帰りましたか。\\nきむら\\nともだち\\nえいが\\nち人\\n陳：そうですか。\\nきむら\\nまっさ人て人\\nはな\\nじゆういちじ\\nそこで時ま話しをしていました。\\nち人\\nらいしう\\nい\\n陳\\nそう…。ところで来週いっしょにカラオケに行まませ人か。\\nきむら\\nいちど\\nま之\\nて人わ\\n木村：いいですね。その前にもう一度電話をください\\nち人\\n陳はいわかりました。ではまた\\nU\\nふぶ人ぼうごい\\n文法语案\\n~7\\n~てから\\n~7いる\\n~から\\n~よ', metadata=GoodnotesMetadata(file_type=<FileType.PDF: 'pdf'>, file_name='早安日語-孫寅華.pdf', title=None, author=None, subject=None, created_at=datetime.datetime(2025, 8, 30, 10, 50, 4, tzinfo=TzInfo(UTC)), modified_at=datetime.datetime(2025, 8, 30, 10, 50, 4, tzinfo=TzInfo(UTC)), is_chunk=False, chunk_info=None, extra={'bg_mode': 'black'}, source=None, producer='iOS Version 18.5 (Build 22F76) Quartz PDFContext', page=39, outlines=[]), doc=None),\n",
       " LoaderResult(content='省略動詞\\n(陳打給木村的電話)\\n表向\\n人/生物存在\\n表示話還沒說完\\n语是助司，表確認\\n稱呼他人家一定要加お\\n更客负可以用た\\n(副)首先\\n那件事\\n此處友達，高動作伴\\nR：之配\\n後\\n(副)立刻\\n副)又，在\\n(在咖啡店聊天到1桌)\\n将樊茶店表場所\\n*(話說言歸正傳)\\n無意義、單純附和(接續)轉変話題\\n聊天，說話(n)\\n請再給我一個電話\\n<助)表動作，作用連續進行\\n~之後，(才)~。\\n(表示動作、作用持續进行或表示目前的状态)正在~。\\n<助>(表示原因、理由)因为~所以~。\\n<終助)(表加强语)~呀；~啊；~啦。\\n通常帶有說話者的主觀意識', metadata=GoodnotesMetadata(file_type=<FileType.PDF: 'pdf'>, file_name='早安日語-孫寅華.pdf', title=None, author=None, subject=None, created_at=datetime.datetime(2025, 8, 30, 10, 50, 4, tzinfo=TzInfo(UTC)), modified_at=datetime.datetime(2025, 8, 30, 10, 50, 4, tzinfo=TzInfo(UTC)), is_chunk=False, chunk_info=None, extra={'bg_mode': 'black'}, source=None, producer='iOS Version 18.5 (Build 22F76) Quartz PDFContext', page=39, outlines=[]), doc=None),\n",
       " LoaderResult(content='解\\n7\"\\n1.18時ごろうちを出て会社へ行きます\\nときどき\\n2オートバイで行きす。時クバスに乗ります\\n3便利オートバイ行きます\\n4オトバイ730分ガリます\\n2.1 エレベーターの前にいます\\n2 はい，知っています\\n4 鈴木さんかけています。', metadata=GoodnotesMetadata(file_type=<FileType.PDF: 'pdf'>, file_name='早安日語-孫寅華.pdf', title=None, author=None, subject=None, created_at=datetime.datetime(2025, 8, 30, 10, 50, 4, tzinfo=TzInfo(UTC)), modified_at=datetime.datetime(2025, 8, 30, 10, 50, 4, tzinfo=TzInfo(UTC)), is_chunk=False, chunk_info=None, extra={'bg_mode': 'black'}, source=None, producer='iOS Version 18.5 (Build 22F76) Quartz PDFContext', page=40, outlines=[]), doc=None),\n",
       " LoaderResult(content='(lesson 45-46)\\n？\\n*動/形容/形動中止形+力→表原因理由\\n正\\n(オートバイクは便利たから)', metadata=GoodnotesMetadata(file_type=<FileType.PDF: 'pdf'>, file_name='早安日語-孫寅華.pdf', title=None, author=None, subject=None, created_at=datetime.datetime(2025, 8, 30, 10, 50, 4, tzinfo=TzInfo(UTC)), modified_at=datetime.datetime(2025, 8, 30, 10, 50, 4, tzinfo=TzInfo(UTC)), is_chunk=False, chunk_info=None, extra={'bg_mode': 'black'}, source=None, producer='iOS Version 18.5 (Build 22F76) Quartz PDFContext', page=40, outlines=[]), doc=None),\n",
       " LoaderResult(content='CHAPTER 10\\n単語\\nちこく\\n遅刻\\n字约\\nげ人\\n元気\\n\\nおしゃべリ\\nかいわ\\n会話\\n简\\nまじめ\\nぶガ\\nた\\nもの\\n台函\\n物価\\n食べ物\\nかし\\nお菓子\\nパーティ\\nギゆうにゆう\\n\\nの吨\\n車内\\n牛乳\\nかべ\\nま\\n之\\n壁\\n窗\\n絵\\nきようガしよ\\nおh\\n教科書\\n女の子\\n婚\\n世明\\nテスト\\nま人が\\nおと\\n音\\n漫画\\nしようらい\\n来年\\n将来\\n今夜\\n年寄\\nビール\\nホテル\\n值段\\nすいガ\\nこのごろ\\n土酒\\nタバコ\\nエレベーター\\n雪\\n海\\n花循\\n星\\n盐\\nテーブル\\nあめ\\n李節\\n雨\\n吸\\n小太否\\n閉まる\\n主た\\n污\\n大切\\nガt=$\\n片づける\\n降る\\n冷す\\n关\\nなる\\n置\\n借\\n元\\n偉\\nだいす\\n大好\\n草\\nちゆう\\n~中\\na\\nいっは\\n一杯\\n大变\\n台\\nもう\\nもうすぐ\\nこれから', metadata=GoodnotesMetadata(file_type=<FileType.PDF: 'pdf'>, file_name='早安日語-孫寅華.pdf', title=None, author=None, subject=None, created_at=datetime.datetime(2025, 8, 30, 10, 50, 4, tzinfo=TzInfo(UTC)), modified_at=datetime.datetime(2025, 8, 30, 10, 50, 4, tzinfo=TzInfo(UTC)), is_chunk=False, chunk_info=None, extra={'bg_mode': 'black'}, source=None, producer='iOS Version 18.5 (Build 22F76) Quartz PDFContext', page=41, outlines=[]), doc=None),\n",
       " LoaderResult(content='( Channel + 早安日語，孫寅華，lesson46~54)\\n此章節延續CH9的7形用法，包含允許，.禁止」，「7形惯用形」\\n只有念\\n(lesson46~48)\\n*在問他人結婚了沒不能用結婚しました」\\n表已婚状態\\n要說結婚してい)ますか。\\nall :…7います：表現状\\n但若問他人何时结婚：)的時間\\n*予約(よやく)：木テ儿を予約(ます(預約飯店)\\n(名·自サ)間談，聊天\\n(名·白サ>遲到\\n(名·自サ>留学\\n<名·自>结婚\\n(名·他>考試(test)\\n(名·他サ>說明;解釋\\n<名·他サ>預約，預訂\\n名·自サ>會話\\n(名·形动)简單\\n(名·形動>認真\\n<名·形動>精力充沛;身體結實\\n*「夕，也能見到平假名(ば二)，假借字(当了学)(草)的寫法\\n*音()，為物体的音，；人、生物的警音(三\\n*エレータ一：電梯；エスタ電扶梯\\n去年(きょね人)いふ、来年(らいね人)\\n*有時會說お年寄\\n*同たばこ」草\\n(名)香煙(tabaco)\\n(限物体)\\n(名)聲音\\n(名)物價\\n念作ti\\n(名)酒，日本酒\\n(名)雕围\\n(名)漫畫\\n(名)食物\\n*\\n<名)將來；未來\\n(名)派對;舞會\\n<名>點心；糕點\\n<名)明年\\n<名)電梯(dlevator)\\n*牛乳(=ゅ3)指鮮奶)\\n粉(二)儿ク，指奶粉\\n*壁(分)：(こ)壁耳(牆上有躲隔有)\\n七\\n*習慣上會說お益\\nテーブルv.S、机(つ<え)\\n餐桌，：-プル/書桌，茶几：\\n雨明天可以預测，無法確定\\n(名)雪\\n(名)海：海洋\\n(名>牛奶\\n<名>老年人\\n(名)店，旅馆(hotel)\\n(名>頭\\n(名)車內\\n(名)窗口\\n(名)教科書\\n(名)今晚\\n(名)牆壁\\n(名)畫；圖畫\\n(名)星星\\n(名)碟子，盘子\\n(名)季節\\n(名)啤酒(荷:bier)\\n(名)西瓜\\n<名)花瓶\\n(名)最近，近来\\n(名)桌子(toble)\\n(名)女孩子\\n(名)價钱\\n(=テキスト)\\n(名)雨，雨水，(雨天)\\n掛计3的用法(迄今)\\n1.掛，懸(帽子を壁掛ける)\\n2.花费(お金/時間を掛ける)\\n*なる：もう夏()また。(经是夏天)\\n*片付：の片付(整理面)\\n在日文中，描述人的胖瘦是動词，而且是表示现状\\nEx:あの人は太い)ます。(那個人很胖)\\n瘦せています。(那個人很瘦)\\n*自動詞中有很多是形容狀態\\n*降子：台湾では專降りませ(不會下雪)\\n如：太る，開ま\\n雪が降ています(正在下雪)\\n子：椅子排)\\n*閉まる：ドアが開まています。\\n(門是關著的)\\n*/)：(私)笔短(短\\n头有時會說お律い\\n热(是.温度高\\n*あつい<い→天気\\n大切：大切(い(請)\\n*\\n<他下一>整理\\n(自五)雨，雪等)降，落\\n(他五>吸\\n<自五)胖\\n<自五)關閉\\n(白五)(花)開\\n<他下一>决定\\n<自五)变成,成为\\n<他五>放，置\\n<他下一>掛，悬\\n<他下一>打開\\n<他下一>排列，擺\\n<他五>使凉，冰镇\\n(他上一>借(入)\\n(形)偉大的，了不起的\\n(形)髓的\\n(形>(温度)热的，燙的\\n(形)短的\\n(形動)很喜歡，很喜愛\\n<形動》要察.重要,珍惜\\n*一杯，若為副詞，表很多」，發音(ば\\n音い\\n若為量词\\n(副)满;充满\\n<副>已經\\n<副>早;快\\n(副)很，非常\\n<副)馬上就要，即将\\n*N(有動作)+中=勤作中Ex：勉强中；会議中;中；工事中\\n<連語》今後;從現在起\\n(接尾)台，輛\\n正在~中', metadata=GoodnotesMetadata(file_type=<FileType.PDF: 'pdf'>, file_name='早安日語-孫寅華.pdf', title=None, author=None, subject=None, created_at=datetime.datetime(2025, 8, 30, 10, 50, 4, tzinfo=TzInfo(UTC)), modified_at=datetime.datetime(2025, 8, 30, 10, 50, 4, tzinfo=TzInfo(UTC)), is_chunk=False, chunk_info=None, extra={'bg_mode': 'black'}, source=None, producer='iOS Version 18.5 (Build 22F76) Quartz PDFContext', page=41, outlines=[]), doc=None),\n",
       " LoaderResult(content='ぶ人け\\n文型\\nす\\n1、教室で夕バコを吸ってはいけませ人。\\nの\\n2、ここでジユースを飲人でもいいですか。\\nえ人び\\n3.钻筆7\\nか\\n書いてもいいです。\\nべんきよう\\n4.試験があるかどうかわかりませんが。勉強しておきます。\\nりゆうがく\\nキ\\nU\\n行くかどうかまだ決めていません。\\n5.留学=\\nt\\nもの\\n食べ物を\\n主\\nたい小人\\n6.台風が来そうです。\\nおいてください\\n+\\nもの\\n7、食べ物はもういばい\\n个入述\\n\\n3\\n物価が\\nt=ガ\\n高\\n8.これからまた\\nなります\\n\\n\\nTa]\\n[Ta]\\nおと\\nちい\\n9.すみませんがテレビの小くしてください\\n±くら\\nはな\\n土\\n10.楼の花がきいに咲いています。', metadata=GoodnotesMetadata(file_type=<FileType.PDF: 'pdf'>, file_name='早安日語-孫寅華.pdf', title=None, author=None, subject=None, created_at=datetime.datetime(2025, 8, 30, 10, 50, 4, tzinfo=TzInfo(UTC)), modified_at=datetime.datetime(2025, 8, 30, 10, 50, 4, tzinfo=TzInfo(UTC)), is_chunk=False, chunk_info=None, extra={'bg_mode': 'black'}, source=None, producer='iOS Version 18.5 (Build 22F76) Quartz PDFContext', page=42, outlines=[]), doc=None),\n",
       " LoaderResult(content='★\\n*本課介紹許可」，禁止」用法.句型(1)(2)展示惯用型\\n.表示禁止」\\nてはいけません\\nてもいいです。\\n2.表示許可\\n動詞7形\\n有關的補時雨)\\n*Topic1：動詞屬性\\n狀態動詞\\n動詞本身即是狀態\\n繼續動詞\\n動作時間能持續\\n瞬間動詞\\n動作時間極短\\n像是形客詞，没有時間概念\\n形狀動詞\\nTopic2:T3\\n可接在自動詞/他動詞之後\\n(lesson 48~51)\\n地莫助詞\\nあるいる、わかる…\\n聞く，疏む，書く，食る。\\n死好，结婚寸，倒る。\\n太る，慢れる，似る\\nいいえ、だめです\\n口語上回答\\n**\\nどうぞ\\nはい\\nおレべり\\n东\\n(()え\\nしてもいですか\\n地莫助詞\\n*Special Case: …T+おきま\\n1.お<，原高放置，放，相置(eb)\\n12.放在V形後面有三層意思2.；(具有准備好，先放著等)\\n處置，(事後)\\n3.「放置，(维持当前状態)\\n3.此時，お人為補助動詞，本身無義\\nEx.1.(準備)飲み物買おま(先把飲料)\\n部屋掃除して お主(先把房間掃)\\n2.(處置)一一，部屋片付ま(整\\n3.(放置)テープルはそのままおいい(桌子擺著就好管)\\n1.繼續動詞了：表正在進行\\nEx:私は今書を読人でいます\\nEx：姉は今勉強していま\\n2.瞬間動詞7いる：動作已結束，表動作後結果\\nEx:台風の影響木が倒ていま\\nEx:あの鳥が既に死人でいます\\n3.形状動词T3：表性質\\nEx:あの人は太っています\\nEx：彼の作品は優ています\\n補助動詞\\n*慢用形：…ガどうが…\\n1.普通形+力力…：(表不确定)要不要，能不能，會不會\\nE:(名)日本製力力わかま世人 (不知是不是日本\\nEx：(動)あた，来るかう力わかま人(不知道明天能不能來)\\nEx：(形動)友達は元気かどうか知いです(想知道朋友們是否健康)\\n2.(例外)ないかどう力\\n(recall:：a()」是「あ」的否定形)\\n力，力都表示有没有之意，但在意上有所差果\\nEx:：在廉あるか.確認\\n→希望有庙存\\nEx:危險物いガか確認も人希望没有危險物\\n*Topic 3 :7あ\\n1.只能接在他動詞後\\n2.{7あ子，强调人为的结果\\nExample：亚():(自动)\\n二ちらから並くだ)(從這開始排隊\\n盖3(引)：排列(他勤)\\n椅子を並べて(把椅子排好)\\n自動+ている\\nE：皿人子是排好的\\n他動+てある\\nEx:お皿が並あ有人把盘子排好\\n把…排好\\n<他動)並べ(繼續v.)\\n(自動》並ぶ\"(暖間V)\\n打四て\\n打四並人7\\n(，表状)(正)\\n作\\nお四並てある\\n(某人排好碗盤，強調人為結果)\\n總整理\\n+7()3\\n*\\n*Special Cose:あます\\n1.原(生命物的)存在」(verb\\n2.放在VT形後，表當前狀態\\n*\\n+てある\\nX\\n*自動詞て形+ます→事實說明\\n*他動詞て形+あま行為結果，狀態\\nE：電気がついています(電灯)\\nE：電つけす(電灯已经開)\\n□\\n(打開電灯)\\nの\\nEx：壁に時計がかけあます上掛了一個鐘)\\n(上时鐘)\\n(然後)\\n(又)\\n(遗)\\n(接下來物价還會变高)\\n()形容詞接動詞：形容詞去い加< + Ver\\n*高()形高<+用言(verb)\\nE:高くな\\n*小()形小<+用言(verb)\\nE：=0箱を小\\n(請你把它做成小箱子)\\n*Recall：廖老師日文\\n形動詞\\n+形客/形動\\n形容词通用形\\n形動+に\\n-形容詞用形', metadata=GoodnotesMetadata(file_type=<FileType.PDF: 'pdf'>, file_name='早安日語-孫寅華.pdf', title=None, author=None, subject=None, created_at=datetime.datetime(2025, 8, 30, 10, 50, 4, tzinfo=TzInfo(UTC)), modified_at=datetime.datetime(2025, 8, 30, 10, 50, 4, tzinfo=TzInfo(UTC)), is_chunk=False, chunk_info=None, extra={'bg_mode': 'black'}, source=None, producer='iOS Version 18.5 (Build 22F76) Quartz PDFContext', page=42, outlines=[]), doc=None),\n",
       " LoaderResult(content='練習\\nの\\n1、1.教室でお酒を飲んではいけません\\n2.エレベーターの中でタバコを吸てはいけませ人\\nとしよかん\\n3.図書館でおしりをしてはいけませ人\\n2.1はい食べてもいです\\nふと\\n8.1.母はたい人\\n起きてもいいです\\n太っていま\\n2、はい。\\nくだもの\\n果物やジユースがあります。\\n2冷蔵庫には\\n3、いいえ、夕バコを吸っはいけせん\\n4.いいえおしべりをしてはいけませ人3、今夜は星がいっぱ)出て)ます\\nお\\n4、机の上に花瓶が置いてあります\\n4.1.来週テストがありそうです\\n5.壁にきれいな絵が掛けてあります\\nまど\\nビんぶあ\\n6.窓が全部開けてあります\\nいま\\n7.わたしは今日本語を勉強しています\\nも\\n8父は車2台持て\\n7.1.簡単に\\n2、まじめに\\n3.まれいに\\n\\n2.この バナはおいしそうです\\n3.その辞書はよさそうす\\n4、田中土人は元気がなさそうです\\n5.あの人はとても元気そうだ\\nあか\\n5.1部屋は明るくなりました\\nきたな\\n2.海はくなりました\\nえ\\n3、あの人は偉くなりました\\n4、鈴木さんはまれいになました\\n6.1牛乳を熱くしてください\\nみじが\\n2.髪の毛を短くしてください\\n3車内では静かにしてください\\nとしよ\\n4.お年寄りを大切にしてください)\\n9.1旅行の前にルを予約しておきます\\n2.パーティーがあからビールを買っておきます\\n3、冷たいものが好きだからビ-を冷やしておきます\\nなら\\n4食事の前におさをテブルに並べておきます\\nす\\n10.1.いいえ。夕バを吸っはけません\\n2.ピアノ置いてあります\\n3.窓を閉まっています。\\n4.女の人に車を借りました\\n力主\\n5、車の鍵を貸しました。', metadata=GoodnotesMetadata(file_type=<FileType.PDF: 'pdf'>, file_name='早安日語-孫寅華.pdf', title=None, author=None, subject=None, created_at=datetime.datetime(2025, 8, 30, 10, 50, 4, tzinfo=TzInfo(UTC)), modified_at=datetime.datetime(2025, 8, 30, 10, 50, 4, tzinfo=TzInfo(UTC)), is_chunk=False, chunk_info=None, extra={'bg_mode': 'black'}, source=None, producer='iOS Version 18.5 (Build 22F76) Quartz PDFContext', page=43, outlines=[]), doc=None),\n",
       " LoaderResult(content='(lesson51~53)\\n草\\n自動词\\n…そうです…そうだ\\n表示推測(Concetely，親眼看到某现象心中覺得應该是這樣)\\n五段V：第②变化\\nV连用形 上下段V：去3\\nサ変：するし\\n：(\\n形是胡去\\n例外：よ（，t\\n→よさそう\\nαい→なさそう\\n他動詞\\n$です(故体)\\nそう\\nt”(常体)\\n他動詞\\n一他重詞\\n继续動詞\\nいます\\n房間变得亮了)\\n(表事前準備)\\n(表事前準備)\\n(表事前準備)\\n(表要前準備)\\n→ Recal：形動詞+に+V.\\n此處的“寸，也可以用更贴近的動詞切\\nLEx:髪の毛短 切てださ)\\n(Mein)\\n(珍惜.爱惜)\\nが', metadata=GoodnotesMetadata(file_type=<FileType.PDF: 'pdf'>, file_name='早安日語-孫寅華.pdf', title=None, author=None, subject=None, created_at=datetime.datetime(2025, 8, 30, 10, 50, 4, tzinfo=TzInfo(UTC)), modified_at=datetime.datetime(2025, 8, 30, 10, 50, 4, tzinfo=TzInfo(UTC)), is_chunk=False, chunk_info=None, extra={'bg_mode': 'black'}, source=None, producer='iOS Version 18.5 (Build 22F76) Quartz PDFContext', page=43, outlines=[]), doc=None),\n",
       " LoaderResult(content='会\\n(一) (テスト中)\\n学生：先生，鉛筆7\\n先生：いえいけませ人\\n学生：ではポールペンで書いフもいいですか。\\n先生：はい，結構です。\\n学生：わかりました。あのう教科書を見てもいいでしょうか。\\n先生：今はテスト中です。教科書を見てはいけませ人。だめです。\\n(二) (友達との会話)\\n3\\n田中：きようも雨が降りそうすね\\n鈴木：そうですね。このごろはよく降りますね\\nくだもの\\nやさい\\nねだん\\n田中：野菜や果物の値段も高くいます。\\n鈴木：果物はお好きですか\\nだいす\\n田中：ええ.大好主ですよ\\n鈴木：もうすぐすいかの季節ですね\\n田中：ええでも、おいいいかどうかわかりませ人。\\nおお\\n雨が多いですから。\\nガ人よう\\n慣用语\\n~てはいけません\\n~ても いいです\\n~かとうか~\\nいけません\\n結す\\nだめです\\nぶ人ほうこい\\n文法语彙\\n~ておく\\nそうだ\\nV連用形/形容.形動詞語干+\\nそうです\\n他V形+ある\\n解\\nを借りました\\n1.林士人はます\\n2.林さんはまだパリコンを借した\\n3.パソユンは鄰の部屋にあります', metadata=GoodnotesMetadata(file_type=<FileType.PDF: 'pdf'>, file_name='早安日語-孫寅華.pdf', title=None, author=None, subject=None, created_at=datetime.datetime(2025, 8, 30, 10, 50, 4, tzinfo=TzInfo(UTC)), modified_at=datetime.datetime(2025, 8, 30, 10, 50, 4, tzinfo=TzInfo(UTC)), is_chunk=False, chunk_info=None, extra={'bg_mode': 'black'}, source=None, producer='iOS Version 18.5 (Build 22F76) Quartz PDFContext', page=44, outlines=[]), doc=None),\n",
       " LoaderResult(content='(lesson53~54)\\n語氣詞：那麼那\\n表許可\\n(いょうが比いいす分，更婉轉)\\n語氣詞：有話要說，可表猶豫\\nで的推量形\\n「いけません」\\n用の通接名词\\n也(此度表示又下雨了)\\n表推测，樣感语尾权；尊求認同\\n(副>经常\\n表示認同\\n最近\\nなる→なって\\n表改变的现状\\n表尊敬，用在他人\\n(lesson54)\\n不可以~\\n一般文法中，V7形舆V速接不需助\\n此處则是“惯用语，(视為例外)\\n可以~\\n是否;是不是~\\n<副)馬上，不久\\n惯用形:是否\\n通常格ガりませ人\\n(助)表理由\\n不行：不可以\\n可以行比，更加模量\\n不行.不可以\\n(lesson54)\\n表示預先准備好某項動作\\n<助動>好像就要~;似乎\\n(強調人為)表示動作結果現在仍然存在', metadata=GoodnotesMetadata(file_type=<FileType.PDF: 'pdf'>, file_name='早安日語-孫寅華.pdf', title=None, author=None, subject=None, created_at=datetime.datetime(2025, 8, 30, 10, 50, 4, tzinfo=TzInfo(UTC)), modified_at=datetime.datetime(2025, 8, 30, 10, 50, 4, tzinfo=TzInfo(UTC)), is_chunk=False, chunk_info=None, extra={'bg_mode': 'black'}, source=None, producer='iOS Version 18.5 (Build 22F76) Quartz PDFContext', page=44, outlines=[]), doc=None),\n",
       " LoaderResult(content='まど\\nあ\\nCHAPTER11窓を開けないでださい\\n单\\n休み\\nむり\\n無理\\n治\\n故\\n遅れる\\n过\\nL人せ人\\n新鮮\\n危險\\n5方\\n<葉\\nシャツ\\n乙飞病\\n道\\nお金\\n(=人$\\n结婚式\\nケーキ\\n赫\\nとき\\n出席\\n3つ\\n続ける\\n合\\n)\\nE3\\n大丈夫\\nだ\\n止める\\n払\\n\\n出る\\ntaくす', metadata=GoodnotesMetadata(file_type=<FileType.PDF: 'pdf'>, file_name='早安日語-孫寅華.pdf', title=None, author=None, subject=None, created_at=datetime.datetime(2025, 8, 30, 10, 50, 4, tzinfo=TzInfo(UTC)), modified_at=datetime.datetime(2025, 8, 30, 10, 50, 4, tzinfo=TzInfo(UTC)), is_chunk=False, chunk_info=None, extra={'bg_mode': 'black'}, source=None, producer='iOS Version 18.5 (Build 22F76) Quartz PDFContext', page=45, outlines=[]), doc=None),\n",
       " LoaderResult(content='→62是本課總複習\\n( Channel + 早安日語，孫寅華，lesson55~62)\\n惯用形：要求对方不要做\\n動詞未然形\\n此章節介紹「動詞未然形之用法\\n(在日文中，藥是用喝得)\\n薬を飲む：吃藥\\n(lesson55)\\nあぶな\\n危()(形危险\\n(名形動危險\\n小さいとき(小時候)\\n小学生のとき(小学的時候)\\n*とき\\nおいとき：小時候\\n(名)時候\\n*目葉：眼繁\\n(名>休假\\n(名)藥，藥的總稱\\n食：司/卜卜：烤土司\\n<名>甜鸽面包\\n(名)蛋糕\\n4.お人\\n(名)姐姐\\n跟自己的姐姐對話\\n稱呼他人的姐姐\\n→向外人稱呼自己的姐姐\\n(名)錢;金额\\n(名》姑婚典禮\\n成人法：成人典礼(20底)\\n(名)病;疾病\\n*\\n(名·自サ)出席\\n(名>方面\\n(名)道路\\n(名)襯衫(shint)\\n*無理：無理をしないでください(不要太勉強自己了)\\n*\\n(名·形動)勉強，難為\\n**\\n\\nVs，直子，直す*\\n(自五)醫好;痊愈\\n治：痊，治好:病治疾病癌了\\nEx：自転車力直りま(修好了脚踏)\\n直子：修好\\n治可：<他五>治療 Ex病気治\\n(治療疾病)\\n直す：(他五>修理Ex：自転車を直しま\\n(修理腳踏車)\\n(要持續學習日文)\\n*続ける：日本語を続けて勉強します\\n(付金)\\nお金を払います\\n*払\\n：レポートを出します 交出報告)\\n*出す\\n*なくす：財布をくしました(包弄了)\\n出すvs、出る\\n1.出す：(他五)提出.拿出Ex\\n2.出：《自下一>出参加Ex：会議出，授案出す\\n*遅：パースにます(没上公車)\\n授業に遅れます(上課遅到了)\\n先生聞ま(問老師)Remoak:聞人有詢問之意\\n*聞く：\\nだれに聞をましたか(問了誰、聽誰說得？)\\n*丈夫：\\n二の丈夫寸上(包包很耐用喔)\\n*忙しい：このごろ とても忙しいす(最近非常忙)\\n(他下一>持續;接連不断\\nv.s.会：见面\\n(自五)適合，合適\\n<他五)丧失;丢掉\\n<自下一>出席；出場;参加\\n(他五)拿出;取出;提出\\n<他五>支付\\n让：仕事止如(辞掉工作)\\nタバコを止めます戒煙)\\n日本語の勉強を止めます(学日文)\\n止めないでください不要放棄)\\n(自下一>遲:晚\\n(他下一)停止，放棄，戒除\\n仕事正如夫(掉工作)\\n<他五>詢問，聽\\n(形)遲；晚;來不及\\n<形)忙碌\\nじよう\\n.丈夫(形勤>(人)健康.(物)结耐用\\n<形動>不要緊;沒問題\\n<形動》新鲜', metadata=GoodnotesMetadata(file_type=<FileType.PDF: 'pdf'>, file_name='早安日語-孫寅華.pdf', title=None, author=None, subject=None, created_at=datetime.datetime(2025, 8, 30, 10, 50, 4, tzinfo=TzInfo(UTC)), modified_at=datetime.datetime(2025, 8, 30, 10, 50, 4, tzinfo=TzInfo(UTC)), is_chunk=False, chunk_info=None, extra={'bg_mode': 'black'}, source=None, producer='iOS Version 18.5 (Build 22F76) Quartz PDFContext', page=45, outlines=[]), doc=None),\n",
       " LoaderResult(content='基本6种变化\\n*基本形：\\nV+③结尾\\n*第一变化：未然形(含推量/意态形，被動形，使役形)\\n否定\\nV+①结尾+\\n被動\\nV+①结尾+る\\nV+①结尾+\\n使役\\n推量/意志 V+⑤结尾+\\n*第二变化：连用形(含封寸形，形，形在形，形)\\nV+②结尾+ます\\nます形\\nV+ ②变化结尾 +7\\n\\nT形\\nV+ ②变化能尾+\\nた形\\n\\n\\nV+ ②变化结号た\\nたら形\\n\\nV+ ②变化结尾 +)\\n形\\nV+④}尾\\nV去る+ない\\n\\nV去る+られる\\n\\nV去る+させる\\n\\nV去る+よう\\n\\n来る\\n来ない\\n来られる\\n来させる\\n来上\\n来ます\\n菜了\\n来\\n来たら\\n来たり\\nする\\na\\nされる\\nさせる\\nしよう\\nします\\nL7\\nL+$\\nした5\\nした\\nV去る+ます\\nV去+7\\nV去+t$\\nV去る+た5\\nV去る+たり\\n\\n\\n\\n\\n\\n第三变化：终止形\\n*第四变化：连体形\\n第五变化：仮定形\\n假定 V+④结尾+は$\\n第六变化:命令形\\n命令 V+④结尾\\n来れば\\n菜\\nすれば\\nし3\\nV去る+れは\\n\\n\\nV去3+3\\n', metadata=GoodnotesMetadata(file_type=<FileType.PDF: 'pdf'>, file_name='早安日語-孫寅華.pdf', title=None, author=None, subject=None, created_at=datetime.datetime(2025, 8, 30, 10, 50, 4, tzinfo=TzInfo(UTC)), modified_at=datetime.datetime(2025, 8, 30, 10, 50, 4, tzinfo=TzInfo(UTC)), is_chunk=False, chunk_info=None, extra={'bg_mode': 'black'}, source=None, producer='iOS Version 18.5 (Build 22F76) Quartz PDFContext', page=46, outlines=[]), doc=None),\n",
       " LoaderResult(content='Appendix词性变化表(leson56，P18~169)\\n(for 日文初级)\\n*若五段V结尾为，则第一变化\\n此處稱助動詞\\n此處稱\"未然形\\n此處稱助動詞\\n*記法：一定要a段/④+/1\\n3.上①，\\n来られる，来させる\\n此處稱“連用形\\n此處稱助動詞\\n辞書形\\n结尾\\n変\\n寸结尾\\n于(人)\\n(结束句子)\\n(連接名詞，動詞名詞化)\\n((れ)ば式，P.169)\\n同基本形\\n*命令形通常只會聽到2种用詞\\n，)\\n日常会話少見\\n(古語：V去+よ)\\n(古語:せよ)', metadata=GoodnotesMetadata(file_type=<FileType.PDF: 'pdf'>, file_name='早安日語-孫寅華.pdf', title=None, author=None, subject=None, created_at=datetime.datetime(2025, 8, 30, 10, 50, 4, tzinfo=TzInfo(UTC)), modified_at=datetime.datetime(2025, 8, 30, 10, 50, 4, tzinfo=TzInfo(UTC)), is_chunk=False, chunk_info=None, extra={'bg_mode': 'black'}, source=None, producer='iOS Version 18.5 (Build 22F76) Quartz PDFContext', page=46, outlines=[]), doc=None),\n",
       " LoaderResult(content='ぶ人けい\\n文型\\nあ女\\nあ\\nはや\\nお\\n起きなくてもい）です。\\n早\\nやす\\n2、あしたは休みですから\\nにちようび\\nかいしや\\n二\\n3.日曜日も\\n会社\\n来ければいけませ人\\nの\\n<す\\n72\\n5.これからも続けて薬を飲まければなりませ人\\n±a\\n(人せ人\\n6.その魚は新鮮ではないから食べないほうがいです\\nの\\n<すり\\n4.薬を飲人でみましたが、まだ\\nびうき\\n病気は\\nな\\n治っていませ人。\\nさむ\\n7寒くないのにかぜをひいてしまいました。\\nぜんび\\n全部\\nいもうと\\n8.妹はケーキを', metadata=GoodnotesMetadata(file_type=<FileType.PDF: 'pdf'>, file_name='早安日語-孫寅華.pdf', title=None, author=None, subject=None, created_at=datetime.datetime(2025, 8, 30, 10, 50, 4, tzinfo=TzInfo(UTC)), modified_at=datetime.datetime(2025, 8, 30, 10, 50, 4, tzinfo=TzInfo(UTC)), is_chunk=False, chunk_info=None, extra={'bg_mode': 'black'}, source=None, producer='iOS Version 18.5 (Build 22F76) Quartz PDFContext', page=47, outlines=[]), doc=None),\n",
       " LoaderResult(content='注意是\\n*動詞未然形(第一変化);見上頁\\n*慣用語：V未然形+t<±)（请求對方不要這麼)\\n我要得直接記：a形+さ\\n(對朋友、家人時，可以省略成：形+)\\n這理有一個变化\\n*惯用语：V未然形+T（可以不高麼做)\\n直接记：VTa<T す\\n如何变化：\\n(惯用语)\\n)结尾，套(形容形变化：形容去加\\nEx：起る→起い)→起なく起なくもい)す\\n這裡有一個变化\\n*慣用語：未然形+tければいけませ人\\n直記：aけばけませ人\\n如何变化：t + ませ人\\n1)结尾，套(1形容反定形变化：形容い加(\\nEx：来→来(来来け人\\n58可以當做覆習\\n(lesson56-58)\\n偏好這种記法\\n√\\n助词，表原因\\nV未然形\\nV形\\n惯用形\\n惯用形\\nRocalも：可以這麼做\\n<もす：可以不」這麼做\\n助词，表原因\\n→明天是假日，可以不用早起\\n直譯：如果不去的話不行\\n定要這麼做/不得不這麼做\\n惯用形\\n如果不去的話\\n反定形\\n不行\\n比較見右側\\nしなければいけませ人\\n→表達主觀認定.\\n(如：我不希望你做、加强語氣)\\nしなければなりません\\n→傾向客觀事實\\n(如：義務，規定，社會規則\\n這裡有一個变化\\n原形：文子(五)变成\\n*惯用語：V未然形+れば\\nなりません\\nL直接記：tけばませ人\\n(口語上則常用「」代替せん)\\n修飾\\n直譯：如果不去的話不行\\n→一定要這麼做/不得不這麼做\\n接下來還是得繼續吃獒\\nHirt:把它当副詞\\n原本V7形後要接V.\\n遇到V片語，往前挪 注意，藥是用喝得\\n惯用形\\n仮定形\\n不行\\n如果不去的話\\n*慣用語：V形ほす（這麼比較好)(表建議)\\n*慣用語：)(が(別比較好)(表建議)\\n較Vい<さい更婉轉\\n别比较好\\n发形容词常体否定\\n助詞，表原因\\n惯用形\\n*补助V：宽\\n→V7形+(~试)\\n(recall : CH10 也有介紹另一個輔助動詞」\\n此處子高補助動詞\\n<例>\\n但是;表轉換語\\nV7+み\\n→我已经试著吃察了，但病還没痊症\\n原“仕舞，终了，了，均有“做完，结束，之意\\n*補助V：しまう\\n1.表動作完了\\n在用てまう時\\n不一定隱含此含義\\nVて形+しま\\n2.表不希望，不期待這種结果出现\\n→口語上，可以把」音成，服從五段変化\\nNote：對中常聽到的「…っ」即是「ま(常体過去/形)」的約音\\nEx：電車傘忘(把忘在電車上了)\\n(明明不會冷，卻感昌了)\\n表语気逆轉，通常舆句尾相呼應(然而)\\n副詞', metadata=GoodnotesMetadata(file_type=<FileType.PDF: 'pdf'>, file_name='早安日語-孫寅華.pdf', title=None, author=None, subject=None, created_at=datetime.datetime(2025, 8, 30, 10, 50, 4, tzinfo=TzInfo(UTC)), modified_at=datetime.datetime(2025, 8, 30, 10, 50, 4, tzinfo=TzInfo(UTC)), is_chunk=False, chunk_info=None, extra={'bg_mode': 'black'}, source=None, producer='iOS Version 18.5 (Build 22F76) Quartz PDFContext', page=47, outlines=[]), doc=None),\n",
       " LoaderResult(content='れん\\n練習\\nはや\\nき\\nおそ\\n1.1もう遅いすから早く\\n来て<たさい)\\nみせ\\nやす\\n2この店は安いですからここで買てください\\nあそ\\n3.危険だからここで遊ばないでくたさい\\n4この魚は新鮮ではないですから食でないでください)\\nす\\n5.ここは教室だガら、夕バコを吸わないでください\\n2.ええどうぞ読ってください\\nはい\\n3.(えいうがいす\\n4.()え，吸わ)ほが\\n（\\n5.(え、言わない)ほうがいいです\\n6いいえ、鉛筆で書かないほうがいいです。\\n\\n1\\n5[例]ビールを一本\\n飲んでしまいました。\\n上\\n2.1.毎日.新聞を読まなければいけませ人か\\n…はい読まなければいけません\\n()え、読まくても )す\\nはや\\nお\\n2.早く起きなければいけませか\\n…はい早く起きなければいけません\\nいえ、早く起きなくてもいです\\nはら\\n3,お金はすぐ払わなければいけませ人か\\n…はいすぐ払わなければいけません\\n…いいえすぐ払わなくてもいです\\n5.1.ゆうべその本を読人でしまいました\\nかし\\n2.菓子パンを全部食べてしまいました\\nそうし\\n3.部屋の掃除をしてしまいました。\\n6.1.レポトを書きましたか\\n…ええ書まましたかなくしてしまいました\\n6.1.t<し まま\\n2.寝ってしまいました\\nおそ\\n3遅れてしまいました\\nキ\\nひと\\n7.1.あの人にいてみてださい\\n2、かぶってみてください\\n3.おもしろそうな雑誌ですね\\n…ええ、読人でみて<だい\\n\\nの\\n3.1.飲まけばりませ人\\n2、行かなければなりません\\nしなければなりませ人\\n3.', metadata=GoodnotesMetadata(file_type=<FileType.PDF: 'pdf'>, file_name='早安日語-孫寅華.pdf', title=None, author=None, subject=None, created_at=datetime.datetime(2025, 8, 30, 10, 50, 4, tzinfo=TzInfo(UTC)), modified_at=datetime.datetime(2025, 8, 30, 10, 50, 4, tzinfo=TzInfo(UTC)), is_chunk=False, chunk_info=None, extra={'bg_mode': 'black'}, source=None, producer='iOS Version 18.5 (Build 22F76) Quartz PDFContext', page=48, outlines=[]), doc=None),\n",
       " LoaderResult(content='(lesson59-60)\\n常体 数体混用?\\n在同一篇文章中，每句话的句尾必须统一使用常体/敬体\\n但句中接續随意\\n口語上太長了，通常不會說\\nt\\n*數字+單位音便\\n單位濁音便\\n不省略：文意問要不要早起\\n* tronslote 具左侧\\nてしまう：{2.终了\\n2.不情愿\\n此處雨者兼具\\n你寫報告了嗎？\\n是，已经寫了，但我把它弄丢了。\\n面白()→面白そ→面白そう', metadata=GoodnotesMetadata(file_type=<FileType.PDF: 'pdf'>, file_name='早安日語-孫寅華.pdf', title=None, author=None, subject=None, created_at=datetime.datetime(2025, 8, 30, 10, 50, 4, tzinfo=TzInfo(UTC)), modified_at=datetime.datetime(2025, 8, 30, 10, 50, 4, tzinfo=TzInfo(UTC)), is_chunk=False, chunk_info=None, extra={'bg_mode': 'black'}, source=None, producer='iOS Version 18.5 (Build 22F76) Quartz PDFContext', page=48, outlines=[]), doc=None),\n",
       " LoaderResult(content='会\\nかいや\\n(会社で)\\nかちょうらいしゅう\\n(けつ=hま\\nあね\\n练\\n：課長，来週の水曜日に姉の結婚式があるすが\\nしゆっせ\\nそんくん\\n課長：それは出席けばけないね。じや孫君、来週の水曜日は会社に来なくてもい)よ。\\n孫\\n：すみませ人ありがどうございます。\\nだいじうぶ\\n課長：孫君，仕事のほうは大丈夫か。\\n二人しゆうちゆう\\n系\\n：はい，今週中にしてしまいます。\\n+a力\\nあとは田中さんにお願いたい人ですが…\\n課長：田中君は忙しいから無理だろう。鈴木君に聞いてみなさい\\nそん\\n孫はい、では、そうします。\\nふんはこ\\n②法\\nVTみる\\n~のに\\nV7しまう\\n慣用語\\n~ないで(ださい\\n~なくてもいです\\n~なければいけません\\n~なければなりませ人\\n~ほうがいいです\\n~てください\\n解\\n1、木村さんは夕バコを吸ってはいけませ人\\n2.少お酒を飲人でもです\\n3辛い物を食べてはけません', metadata=GoodnotesMetadata(file_type=<FileType.PDF: 'pdf'>, file_name='早安日語-孫寅華.pdf', title=None, author=None, subject=None, created_at=datetime.datetime(2025, 8, 30, 10, 50, 4, tzinfo=TzInfo(UTC)), modified_at=datetime.datetime(2025, 8, 30, 10, 50, 4, tzinfo=TzInfo(UTC)), is_chunk=False, chunk_info=None, extra={'bg_mode': 'black'}, source=None, producer='iOS Version 18.5 (Build 22F76) Quartz PDFContext', page=49, outlines=[]), doc=None),\n",
       " LoaderResult(content='(lesson61)\\n形式名詞\\nあ7す音便\\nあるんです\\nいけませ人的常体\\n男性上對下稱呼其它男性\\n形式N\\nお願いしたいの\\n其它事想拜託田中先生\\nV速用形+(\\n27<ださい：請試\\n（：(上数下，命令形)去\\n這周内\\nお题\\nお願いしたい\\nRecall：文法中V命令形不常用\\n如果需要命令，通常是“一形\\n此需表“其它事情\\n周内百家\\n無理でし)常体\\n(lesson61)\\n表示嘗試去做某事\\n仁的語気强烈\\n含意料之外之意\\n<助>表句子逆接；~；~居然\\n表示事出意外或動作完了，终了\\n而且自己不期待這种结果，\\n請不要~\\n不~也可以。可以不~\\n非~不可。一定要~\\n非~不可。一定要~\\n~比较好。最好~\\n請~', metadata=GoodnotesMetadata(file_type=<FileType.PDF: 'pdf'>, file_name='早安日語-孫寅華.pdf', title=None, author=None, subject=None, created_at=datetime.datetime(2025, 8, 30, 10, 50, 4, tzinfo=TzInfo(UTC)), modified_at=datetime.datetime(2025, 8, 30, 10, 50, 4, tzinfo=TzInfo(UTC)), is_chunk=False, chunk_info=None, extra={'bg_mode': 'black'}, source=None, producer='iOS Version 18.5 (Build 22F76) Quartz PDFContext', page=49, outlines=[]), doc=None),\n",
       " LoaderResult(content='ね\\n寝る\\n33\\nお風呂に\\nまえ\\n前に\\nはい\\n入ります\\nCHAPTER12\\n单\\n梦夢萝\\n趣环味\\n\\n葉\\n作\\n消す\\n黑\\n~=\\ncl\\n写真\\nx特技\\nみま\\n[时]見舞\\n\\n集为\\nこラはい\\n後輩\\n切手\\nt=いそう\\n体操\\n力ねも\\n[1]金持ち\\nおく\\n奥士人\\nエプロ\\nおばあさ人\\nおはし\\nLよせい\\n女性\\nゆちょう\\n出張\\nと\\n摄る\\nおく\\nすごい\\nときどま\\n時々\\nは話す\\n钧子\\n復い\\nだから\\nとこ3で', metadata=GoodnotesMetadata(file_type=<FileType.PDF: 'pdf'>, file_name='早安日語-孫寅華.pdf', title=None, author=None, subject=None, created_at=datetime.datetime(2025, 8, 30, 10, 50, 4, tzinfo=TzInfo(UTC)), modified_at=datetime.datetime(2025, 8, 30, 10, 50, 4, tzinfo=TzInfo(UTC)), is_chunk=False, chunk_info=None, extra={'bg_mode': 'black'}, source=None, producer='iOS Version 18.5 (Build 22F76) Quartz PDFContext', page=50, outlines=[]), doc=None),\n",
       " LoaderResult(content='~\\\\\\n连体形\\n此章節介紹「動詞連体形，連体修飾語之用法(2)\\n動詞修飾名詞\\n動詞句修飾名詞\\n泡澡\\n(Chonnel + 早安日语.孫寅華，lesson63~66)\\n66為本课總複習\\n修飾\\n謙稱\\n用\\n敬屑\\n(lesson63)\\n女\\n(名)後進；後輩；學弟妹\\n日文没有父母侧之分\\n(名》奶奶；外婆；老太太\\n<名>梦想;理想\\n(名)照片;相片\\n(名)有钱人;富翁\\n謙稱\\n家(外人太)\\n(名)(對他人妻子的尊稱)夫人;太太\\n敬稱\\n(名)筷子\\n<名)興趣;愛好;嗜好\\n(名)郵票\\n(名)特技：特别的技能\\n*電気：電気をつける(開灯)\\n電消(灯)\\n日本有暑中見舞()，的習俗：约在小暑~立秋間寫明信片周候**\\n其它還有病舞)，折見舞，\\n(名)電;電力;電灯\\n(名) 問候;探望；慰問\\n《名)圍裙\\n(名)操\\n(名)女性\\n(名·自サ)畢業\\n<名.他サ>預習\\n<名·自少>出差\\n*作子，本身有多种函义\\n依蛋糕\\nケーキを作る\\n*消す：黒板消ます：擦黑板\\n*撮子：写真を撮了\\n*釣子：魚(が)をります\\nv.s.取(拿;取)\\n(他五)拍摄\\n三水泳する\\n(白五)游泳\\n(有多种函義)\\n<他五)做;製作\\n(他五)關掉(電器)\\n<他下一>收集\\n〈他五)說講\\n(他五)釣(鱼)\\n<形)了不起;属害\\n(形)黑的;黑色的\\n(接用言连体形下)用作形式词\\n<形>溫柔；體貼\\n<接>因此;所以\\n在口語上，偶爾會用です來表敬体\\n(接)表示突然轉換話題;話說\\n<副)時常；時時', metadata=GoodnotesMetadata(file_type=<FileType.PDF: 'pdf'>, file_name='早安日語-孫寅華.pdf', title=None, author=None, subject=None, created_at=datetime.datetime(2025, 8, 30, 10, 50, 4, tzinfo=TzInfo(UTC)), modified_at=datetime.datetime(2025, 8, 30, 10, 50, 4, tzinfo=TzInfo(UTC)), is_chunk=False, chunk_info=None, extra={'bg_mode': 'black'}, source=None, producer='iOS Version 18.5 (Build 22F76) Quartz PDFContext', page=50, outlines=[]), doc=None)]"
      ]
     },
     "execution_count": 3,
     "metadata": {},
     "output_type": "execute_result"
    }
   ],
   "source": [
    "loader_results[:100]"
   ]
  },
  {
   "cell_type": "markdown",
   "id": "f5366842",
   "metadata": {},
   "source": [
    "# Step 2: Chunk"
   ]
  },
  {
   "cell_type": "code",
   "execution_count": 22,
   "id": "a8f2d282",
   "metadata": {},
   "outputs": [],
   "source": [
    "from chunking.no_chunk import NoChunkProcessor\n",
    "chunker = NoChunkProcessor()\n",
    "\n",
    "chunks = []\n",
    "for loader_result in loader_results:\n",
    "    if not loader_result.content:\n",
    "        continue\n",
    "    chunks += chunker.process(doc=loader_result.content,\n",
    "                              metadata=loader_result.metadata,\n",
    "                              )"
   ]
  },
  {
   "cell_type": "markdown",
   "id": "3563d28a",
   "metadata": {},
   "source": [
    "### 手動將 Outline 加入 Chunk"
   ]
  },
  {
   "cell_type": "code",
   "execution_count": null,
   "id": "a73bc46a",
   "metadata": {},
   "outputs": [],
   "source": [
    "# for idx in range(len(chunks)):\n",
    "#     chunks[idx].content = \"\\n\".join(chunks[idx].metadata.outlines) + \"\\n\\n\" + chunks[idx].content"
   ]
  },
  {
   "cell_type": "markdown",
   "id": "fd4d0938",
   "metadata": {},
   "source": [
    "### 手動調整頁碼"
   ]
  },
  {
   "cell_type": "code",
   "execution_count": null,
   "id": "b3e9e565",
   "metadata": {},
   "outputs": [],
   "source": [
    "# import re\n",
    "# for idx in range(len(chunks)):\n",
    "#     filename = chunks[idx].metadata.file_name\n",
    "#     if filename.startswith(\"早安日語-孫寅華\"):\n",
    "#         regex = re.search(r\"早安日語-孫寅華part(\\d+)-page(\\d+)\", filename)\n",
    "#         if regex:\n",
    "#             part_num = int(regex.group(1))\n",
    "#             page_num = int(regex.group(2))\n",
    "#     chunks[idx].metadata.page += (part_num-1)*page_num\n"
   ]
  },
  {
   "cell_type": "code",
   "execution_count": 23,
   "id": "187b92db",
   "metadata": {},
   "outputs": [
    {
     "data": {
      "text/plain": [
       "472"
      ]
     },
     "execution_count": 23,
     "metadata": {},
     "output_type": "execute_result"
    }
   ],
   "source": [
    "len(chunks)"
   ]
  },
  {
   "cell_type": "code",
   "execution_count": 24,
   "id": "9f434b86",
   "metadata": {},
   "outputs": [
    {
     "name": "stdout",
     "output_type": "stream",
     "text": [
      "None\n"
     ]
    },
    {
     "name": "stderr",
     "output_type": "stream",
     "text": [
      "/tmp/ipykernel_12209/3635813002.py:1: UserWarning: _raw_chunk 為備份欄位，僅應在 chunking 階段或 debugging 時使用\n",
      "  print(chunks[0]._raw_chunk)\n"
     ]
    }
   ],
   "source": [
    "print(chunks[0]._raw_chunk)"
   ]
  },
  {
   "cell_type": "markdown",
   "id": "7092c9b0",
   "metadata": {},
   "source": [
    "# Step 3: Embedding"
   ]
  },
  {
   "cell_type": "code",
   "execution_count": null,
   "id": "0917004b",
   "metadata": {},
   "outputs": [],
   "source": []
  },
  {
   "cell_type": "code",
   "execution_count": 30,
   "id": "caa35050",
   "metadata": {},
   "outputs": [],
   "source": [
    "import os\n",
    "from cache.redis import RedisCacheHandler\n",
    "from embedding.openai_embed import OpenAIEmbeddingModel\n",
    "\n",
    "\n",
    "embedder = OpenAIEmbeddingModel(api_key=os.getenv(\"OPEN_AI_API\"),\n",
    "                                model_name=\"text-embedding-3-small\",\n",
    "                                memory_cache=RedisCacheHandler(host=os.getenv(\"MY_REDIS_HOST\"),\n",
    "                                                               port=os.getenv(\"MY_REDIS_PORT\"),\n",
    "                                                               password=os.getenv(\"MY_REDIS_PASSWORD\"),\n",
    "                                                               ),\n",
    "                                )\n",
    "for idx in range(len(chunks)):\n",
    "    vector = embedder.encode(chunks[idx].content)\n",
    "    chunks[idx].embedding = vector"
   ]
  },
  {
   "cell_type": "markdown",
   "id": "243e571e",
   "metadata": {},
   "source": [
    "# Step 04: Insert"
   ]
  },
  {
   "cell_type": "markdown",
   "id": "657ecc7b",
   "metadata": {},
   "source": [
    "## Vector-based"
   ]
  },
  {
   "cell_type": "code",
   "execution_count": 31,
   "id": "0b14e814",
   "metadata": {},
   "outputs": [],
   "source": [
    "from infra.stores.pgvector import PGVectorStore\n",
    "\n",
    "vec_store = PGVectorStore(host=os.getenv(\"MY_POSTGRE_HOST\"),\n",
    "                          port=os.getenv(\"MY_POSTGRE_PORT\"),\n",
    "                          dbname=os.getenv(\"MY_POSTGRE_DB_NAME\"),\n",
    "                          schema=\"Japanese-Learning\",\n",
    "                          user=os.getenv(\"MY_POSTGRE_USERNAME\"),\n",
    "                          password=os.getenv(\"MY_POSTGRE_PASSWORD\"),\n",
    "                          )\n",
    "\n",
    "for chunk in chunks:\n",
    "    vec_store.insert(chunk)"
   ]
  },
  {
   "cell_type": "markdown",
   "id": "2b7c2799",
   "metadata": {},
   "source": [
    "## Lexical-based"
   ]
  },
  {
   "cell_type": "code",
   "execution_count": 32,
   "id": "bf6e98de",
   "metadata": {},
   "outputs": [],
   "source": [
    "from infra.stores.elasticsearch import ElasticsearchBM25Store\n",
    "\n",
    "lex_store = ElasticsearchBM25Store(host=os.getenv(\"MY_ELASTIC_HOST\"),\n",
    "                                   port=os.getenv(\"MY_ELASTIC_PORT\"),\n",
    "                                   index_name=\"japanese-learning\",\n",
    "                                   username=os.getenv(\"MY_ELASTIC_USERNAME\"),\n",
    "                                   password=os.getenv(\"MY_ELASTIC_PASSWORD\"),\n",
    "                                   )\n",
    "\n",
    "for chunk in chunks:\n",
    "    lex_store.insert(chunk)"
   ]
  },
  {
   "cell_type": "markdown",
   "id": "2a150398",
   "metadata": {},
   "source": [
    "# Step 05: Retrieve"
   ]
  },
  {
   "cell_type": "markdown",
   "id": "40746a31",
   "metadata": {},
   "source": [
    "## Vector-based"
   ]
  },
  {
   "cell_type": "code",
   "execution_count": 33,
   "id": "c6e027ee",
   "metadata": {},
   "outputs": [],
   "source": [
    "import os\n",
    "\n",
    "from cache.redis import RedisCacheHandler\n",
    "from embedding.openai_embed import OpenAIEmbeddingModel\n",
    "from infra.stores.pgvector import PGVectorStore\n",
    "\n",
    "embedder = OpenAIEmbeddingModel(api_key=os.getenv(\"OPEN_AI_API\"),\n",
    "                                model_name=\"text-embedding-3-small\",\n",
    "                                memory_cache=RedisCacheHandler(host=os.getenv(\"MY_REDIS_HOST\"),\n",
    "                                                               port=os.getenv(\"MY_REDIS_PORT\"),\n",
    "                                                               password=os.getenv(\"MY_REDIS_PASSWORD\"),\n",
    "                                                               ),\n",
    "                                )\n",
    "query_vector = embedder.encode(\"自動詞與他動詞的判斷邏輯\")\n",
    "\n",
    "vec_store = PGVectorStore(host=os.getenv(\"MY_POSTGRE_HOST\"),\n",
    "                          port=os.getenv(\"MY_POSTGRE_PORT\"),\n",
    "                          dbname=os.getenv(\"MY_POSTGRE_DB_NAME\"),\n",
    "                          schema=\"Japanese-Learning\",\n",
    "                          user=os.getenv(\"MY_POSTGRE_USERNAME\"),\n",
    "                          password=os.getenv(\"MY_POSTGRE_PASSWORD\"),\n",
    "                          )\n",
    "results = vec_store.search(query_vector)"
   ]
  },
  {
   "cell_type": "code",
   "execution_count": 34,
   "id": "f30ce4b1",
   "metadata": {},
   "outputs": [
    {
     "data": {
      "text/plain": [
       "['(lesson100~101)\\nO\\nO\\nO\\n自動詞\\n為何用在，不用\\n2.色比仁多了命令，强利意味\\n2.避免仁重覆使用\\nO',\n",
       " '形動詞是並列關係，可調換\\nEx:日本は便利了綺震区国です。\\n結構同5.\\n 形容詞，形動詞是因果關係，不可調換\\n形容詞+形動詞\\n由於「難)」和大变有因果明係，所以不能調換\\nRemark\\n：此處的で與詞性無關，為兩個句子合併。\\nFor exomple, (66)\\n日本はされいで便利な国です。\\n日本は便利な国です。\\n(lesson 21~22)\\n連体形修飾後方名詞\\n若(形動)無法直接形容到主詞\\n則會用力做為助詞連接\\n常发生的有上手。“下手，好老，“嫌\\n(2)的否定形\\n(父親開車的技術不差)\\n中止形表同褒贬，並列。\\n(形動)+(形動)\\n形容詞\\n形容動詞/名詞：\\nRemark：中止形\\n(形)+(形動)\\n(形動>(形)',\n",
       " '(Channel+ 早安日語，豫寅華，lesson 20~23)\\n(lesson20)\\n*加强\\n或稱形動詞\\n(1)形容詞\\n在形容詞\\nT $\\n(\\n\\\\\\n…)\\nです\\nです\\n<名，形動>笨拙，不高明\\n《名;形動>討厭，嫌惡\\n〈形動)喜歡，愛好\\n(形動)安静\\n<形動>高明的，拿手的\\n静か\\n*\\n原形：\\n修節名詞：\\n敬体：\\n<名;形動>親切\\n(形動>漂亮\\n<形動>嚴重，不得了.辛苦\\n(也可做“副词)\\n(形動>氣派，華麗，宏偉，有為\\n(形)年輕的\\n<名)駕駅(行高)\\n(名)地方、處所\\n(形動>有名\\n<形動>熟闹\\nexample\\n(形動>方便\\n静がです\\n二微\\n*交，為“謙稱，在”對外人提及自己親时使用\\nお父之人，敬，用和自人說用\\n街，的用途很，可指“市，即镇，街道，\\n*転駕験的行：運手：司机\\n前華，學長\\n<名>學習\\n(名)城镇\\n<名)料理.菜餚\\n(名)學科\\n<名)助手，(大學)助教\\n副>尚，還\\n(連体>(不定詞)什麼樣的？如何的？\\n(lesson 2~21)\\n：强調後方内容\\n「が」：強調前方主題\\nNote:廖老師對は，雨個助詞的教學\\n*主詞+は+形動詞形動詞若能直接，修飾主詞則用は」\\n若無法直接，形容到主詞，則是用が，連接\\nEx:上手.下手，好艺，嫌.\\n我很擅長日文私は日本語が上手です。\\n動が嫌いです。\\n私はあの父が好きです。\\n一不可以用林人の日本語は上手す\\n*\\n(我不討厭開車)\\n*形動(去)+建体形，可用於修飾方的單詞\\nEx：日本語先生は親切人です。\\n形動詞是並列關係，可調換\\nEx:台北は了便利国\\n中止形→連接，並列两個同褒贬的形动词',\n",
       " '*他動詞て形+あ(表動作完成，狀態停留在那裡)\\n·Remark：如果原文中有N++他V的结構\\n要改成N+他Vあ\\n由於~，是状态的描述，所以用力\\nO\\nが\\nが\\nが\\nが\\n*補助動詞：~てげる\\n。AはBに VてあげるB做)\\n。有施子恩惠的語意\\n。不適合在受惠者，面前說',\n",
       " '2~8\\n修飾句主词一律用\\n(Channel+ 早安日語.孫寅華， lesson66~71)\\n連体修節句\\n修節\\n此章節介紹「動詞連体形，連体修飾語之用法()\\n動詞修飾名詞\\n動詞句修飾名詞\\n與「比較文型\\n(lesson66)\\n*如果询周他人住哪，乎都是使用7((表状態持續)\\nExどこに住んでいますが\\nわたしは台北に住人でいます\\n*生まれ(名詞)Eたは台湾生まれです\\n*落とす：化粧を落卸)\\n*遠慮：遠慮<不用)\\nご遠慮な人\\n<他五)弄掉;去掉\\n<他五>學習;練習\\n(他五)畫圖\\n<自下一>產生;出生\\n<自五>居住\\n(自サ)開張;開放 (open)\\n不赏名詞\\n(名·自サ>出院\\n(名·自他>客氣;客套\\n(名·自)化粒\\n(名>去年\\n(名)城市;都市\\n<名)鄉下；鄉村\\n(名)交通尖峰时間(rush-hour)\\n(名)校車(school bus)\\n(名>公寓(aportment house)\\n<名>幽浮;飞碟\\n也可以發長音せい」\\n<名>個子;身高\\n<名>法国(France)\\n(名>國產品\\nVS.新聞(報纸)\\n(名)新聞：消息;報導\\n(名)插花\\n也有開頭，之意\\n<名)頭、頭腦;腦筋\\n*頭：頭がいい)很聰明)\\n头背：背が高()(個子很高)\\n背がい(個子很矮)\\n背が短(い(×)\\n足が短い(0)\\n(名)日本清酒\\n<名)新幹線\\n<名)壽司\\n(名>法語\\n(名)桃子；桃树；桃花\\n<名)幽靈;鬼魂\\n(名)衣服\\n(名)實駿室\\n<代)(尊稱)爸爸;令尊;父親\\n梦對外人稱呼自己的父親)\\n<代)(尊稱)媽媽;母親；令堂\\n母(對外人稱呼自己的母親)\\n(代)遵稱)哥哥;令兄\\n梵(對外人稱呼自己的哥哥)\\n*化，亦可形容“持續状态\\nL在一般句型：表“特續状态，雨\\n*~行主：台北行のバス(台北方向的公車)\\n也能作持續状态\\n<副)(比~)得多;~得很\\n<接尾>往~\\n(副>什麼都~\\n(副)最\\n<形>快速;迅速']"
      ]
     },
     "execution_count": 34,
     "metadata": {},
     "output_type": "execute_result"
    }
   ],
   "source": [
    "[_.chunk.content for _ in results]"
   ]
  },
  {
   "cell_type": "markdown",
   "id": "0ef82473",
   "metadata": {},
   "source": [
    "## Lexical-based"
   ]
  },
  {
   "cell_type": "code",
   "execution_count": 37,
   "id": "16f42846",
   "metadata": {},
   "outputs": [],
   "source": [
    "import os\n",
    "\n",
    "from infra.stores.elasticsearch import ElasticsearchBM25Store\n",
    "\n",
    "lex_store = ElasticsearchBM25Store(host=os.getenv(\"MY_ELASTIC_HOST\"),\n",
    "                                   port=os.getenv(\"MY_ELASTIC_PORT\"),\n",
    "                                   index_name=\"japanese-learning\",\n",
    "                                   username=os.getenv(\"MY_ELASTIC_USERNAME\"),\n",
    "                                   password=os.getenv(\"MY_ELASTIC_PASSWORD\"),\n",
    "                                   )\n",
    "results = lex_store.search(\"つつある\")"
   ]
  },
  {
   "cell_type": "code",
   "execution_count": 38,
   "id": "4467442b",
   "metadata": {},
   "outputs": [
    {
     "data": {
      "text/plain": [
       "['よみもの\\nはい\\nにほんじん\\nみ\\nこたつに入ってみかんを食べながら、テレビを見るこれは日本人の\\n不ゆ\\nす\\nかた\\nだいひようてき\\nき\\n（\\nふとん\\nうえ\\nた代表的な冬の過ごし方。こたつ\\n木を組んぐの上に布団ぶ\\n*注意此處ガぶせるv.s.のせる\\nつくえいた\\nほ\\nなかだんほうきく\\nい\\nガぶせる：從上往下罩住\\n→のせる：放在上面\\nせて、机の板をのせて、中に暖房器具を入れたものです。こたつには掘り\\nお\\nにしゆるい\\nゆかひくほ\\nほ\\nごたつと置きごたつの二種類があります。掘りごたつは、床を低く掘って\\nあし\\nなかたんぼうき\\nの\\nはい\\n中に暖房器具を入れます。足を伸ばしたま、こたつに入ることができま\\n記下\\nつか\\nなつあいだ\\nいま\\nいた\\nす。夏の間こたつを使わないときには、板をかぶせます。しかし、今では\\nつかひとほお\\nてかる。\\nお\\nお\\nより手軽な置きごたつを使う人の方が多いです。置きごたつには、やぐら\\n(副)：更~(程度更甚)\\nだんぼうきぐ\\nうら\\nの裏に暖房器具がついています。\\nへやぜんたいあたた\\nからだ、あたた\\nこたつは体を暖めることができますが、部屋全体を暖めることができま\\n使~暖和\\nげんさい\\nひじようさむちほう\\nつか\\nほっかいどう\\nせん。ですから、北海道など非常に寒い地方ではあまり使いません。現在\\nだんぼうきしゆいおお\\nでんき\\nはヒーター、ストープ、電気カーペットなど暖房器具の種類が多くなりま\\nあたた\\nばしよ\\nあい\\nかぞくあつ\\nした。しかし、こたつは家族が集まってくつろいで暖まる場所として、相\\n<自五>表\\nか\\nにんき\\n変わらず人気があります。\\n有人気\\n<副)仍然\\n置きごたつ\\n掘りごたつ\\n机の板\\n·布団·\\n暖房器具\\nCD1-21\\n37',\n",
       " 'インターチェンジ\\nはい\\nあめ\\nふ\\nつづ\\nむあつ\\nかん\\nつゆに入って雨が降り続くと、蒸し暑くてしい感じになる。\\nとき\\nぼうず\\nつく\\nつき\\nねが\\nひ\\nせいてん\\nそんな時は、「てる坊主」を作っ、次の日の晴天をお願いしてみ\\nぼうずかみぬのつく\\nあし\\nにんぎょう\\nよう。てるてる坊主は紙か布で作れた、手も足もない人形こと。\\nこども\\nせいてん\\nねが\\nあしたてんき\\nうた\\n子供たちが晴天を願って「明日天気になあれ」と歌いなら、「る\\nぼうず\\nしゆうかんはじ\\nかお\\nえどじだいい\\nてる坊主」をつるした習慣が始ったのは江戸時代と言われている。顔\\nほうし\\nあめ\\nゃ\\nめはなくちえが\\nのない「てるる法師」をつるして、雨が止んだら目・鼻・口を描いて\\nぼうず\\nうたつく\\nほうし\\nおまつりしたそうだ。「てるてる坊主」という歌が作られてから、「法師」\\nほうず\\nい\\nにしにほん\\nひよりほうず\\nが「坊主」と言われるようになった。西日本では「日和坊主」とよばれ\\nつく\\nさか\\nあまご\\nる。また、せっかく作ったのに、逆さにつるすと雨乞いになるという。\\nさいきん\\nみ\\nのきしたまどちか\\n最近では、あまり見られなくなったが、軒下か窓の近くにつるして、\\nほうず\\nうたうた\\nてんき\\nいの\\n「てるてる坊主」の歌を歌ったり、「あした天気になあれ」とお祈りをし\\nたりする。\\n★「なあれ」是由「なる」的命令形「なれ」所轉變而成的。\\nCD1-06\\n15',\n",
       " '*気配/配(關心，尊心，注意，為他人考虑)\\n(~C配を/~配)在~方面為他人著想\\n=配慮や注意どを行主渡らせる\\n(他五>分配(關心)\\nEx：资料飞配子(發料)\\nリトを配子()\\n気充配(用心照额；事心)\\n配(留心)\\n(lesson155~156)\\n人が大勢出たてやがにるこ\\n二客多<入7，商上行\\n顺利;成功\\n<自五>熟關;擁擠(;生意興隆)\\n二中に入たま，外出状る\\n十分入~ている\\n(自五>充满;(感情)深厚(;被装在其中，無法跑出去)\\nも行ガない\\n家,足不出户)\\n心がこもる\\n心のこもった手紙（滿懷感情的信\\n*賑わう：(熱鬧)で町も賑わっています\\n(生意好)店が賑わう\\n(他五>編織\\n<他五>讓給;傳給(;轉賣;留待日後)\\n:座を讓る(讓座)\\n可以用来隱晦的表示赏\\n安(讓る(把車便宜轉索)\\n\\n〈形動)獨特;唯\\n(unique)\\n(~にモテる:受到~歡迎)\\nvS.持7/モ<下一>有人缘，受歡迎\\nもてはやす\\n<名·形動》很有人缘;深受歡迎\\nE：手紙のやり取り(書信往来)\\n(名·他サ>互赠;往来\\nEx:ー日の人びリとす\\n<副·自>悠間地;無拘無束地\\nEx：通体二日制加定着した。\\n<名·自>固定下来\\n元気なく寂しそうに\\n<副·自升)垂頭喪氣\\nEx：会議は円滑に遣人だ\\n搬運，亦可做\\n<名·形動>圓滑；順利\\n进行\\n二物事がとどこおらすに進む\\n<名)情人節(St Vabatne d)\\n(名>義理巧克力\\n<名)本命巧克力\\n(名)包装材料 (wrapping)\\n<名)情書 (loveletter)\\n<名>店面;門市\\n(名>外表;表面上看来\\n一般認知上的園巾\\n<名>圍巾(muffler\\n機車/汽車消音器\\nEx:子供孩子定\\nよいか悪いかが簡単に決れいこと\\n(名)是，好(断好的事物)\\n<名>白色情人節 (white day)\\n<慢》格好(加)儿)：形容男性英俊\\n現在不太用「八サ」\\n<名>外表；形状;体面\\n襟卷\\n(名)事件;節日 (event)\\n<名>答謝的禮物\\n<名)壶；罐;谭子\\n<名>服飾配件：節品 (accessories\\n同时参考上方配\\n多指在公司中女性\\n為男性倒茶\\n=気配3二\\n(名>泡茶;斟茶\\n(名>多方注意;照顧\\n*気配/配(心，事心，注意.為他人考虑)\\n<名)水土;鄉工\\n<名>满通；交流(communicationn\\nEx火事が下火になる(火勢を小)\\n流行加下火子(退流行)\\n<名>衰微;走下坡(;火勢轉小\\n(原意高“火势变小，行生衰微)\\n<名)替代，補償\\nEx：先生の代わりに私がやる(我代替老師來)\\n<名>營業額;銷售額\\n<名>原因：缘故(多用於负面的事情)\\n：(你的)\\n《名>雨衣(roin coat)\\n<名>退休\\nひご3\\nふだん\\n普段v.3.日頃\\nEx:被女普段は像しると怖)\\n·日頃：あ度期國继続ていう意合いが。\\nEx:日頃から運動すよう心けいる\\n*~つつある(表示狀態.動作持变化\\n·動詞第二变化+>>ある\\n(V通用形+つある)\\n。表示動作.狀態向某方向变化\\n。較生硬，多用在書面\\n·強調進行中\\n。只能用於正在生的事(不可用於未来)\\nEx：事故の原因は明かになつつある\\n天気が変わりつつある(天氣正不断変化)\\n彼女ができて体重が增えつつある\\n(0)まだ2月にも关る\\n(×)3月にっら桜が咲まつつると思\\n很少.比少還少\\n*\\nほ人の少し\\n(副>一點點(口語)\\nくだけた言い方\\nEx：びガ=(有一默像)\\n(=少し)\\n<副>稍微\\nEx：书高()(稍微贵了些)\\n<副>平常\\n\\n(連語>正在~\\n原为“接續性助词，\\n(副助)(表示舉例)\\n・慣用句：だ人だん~あ\\n少しず~つある\\n次第に~つつある\\n徐々に~つつある\\n增えつつある\\n減りつつある\\n完成しつつある\\n変わりつつある\\n*~っっ[も]\\n·動詞第二变化+[も]\\n1.同时做兩件事\\n非常生硬，幾乎都是以惯用型，存在\\nたがら\\n1.同时做兩件事\\nEx：子供たちと自分自身も楽人いま\\n小孩子開心才是主要目的\\nEx：子供たち，自分自身人いま\\n2.逆接\\n~つン和~ながら相同\\nE：悪知盗人し\\nEx：愿知与，人\\n2.逆接\\n有發話者，後悔之意，語氣較強，似以の\\n1.幾乎都以惯用型，存在→~は要(思知\\n直接型\\n。不可用於瞬間/狀態動詞\\nEx：明日がポ一トの切と知人でま\\n悪いと思いつつカンニこグしてしまった\\n感覺常搭配~てしまう\\n彼女と思いつ心のでは泣い\\n~7う，本身也有這种不希望發生，的感覺',\n",
       " '会話\\n力人は\\nひ\\n松本：ああ，寒い。寒波が来ると、台北もほ人とうに冷えまね。\\n李：こ人なときは日本のこたつがなつかしいくなりますね\\n松本：そうですね\\n李：日本に留学していたとき、冬になるとアパ一トの部屋がとても寒ガった人です。\\n松本：え\\n李：それで、こたつに入ったまま、勉強したり、ご飯を食べたりしました。\\nときどきこたつの中で、寝てしまいました。\\n松本：こたつはポカポカと暖ガいし、外は寒いし、ー日中こたつの中で\\nす\\n過ごすようになりますね\\n李：ええ、そうな人です\\nあつ\\nまわ\\n松本：だから冬は家族み人ながこたつの周りに集まるようになる人です。\\n李：こたつが一家団欒の場所になる人ですね。',\n",
       " 'だいよ人か\\n第4課：こつ\\n\\nt\\n被せる\\nくつろぐ\\nこしか\\n腰掛ける\\n高仙\\nガ人は\\n寒波\\nほ\\n掘りごたつ\\n队人き\\n電気力一ぺッ卜\\nおでん\\n权料\\n\\nあいか\\n相変わらず\\nにせる\\n語彙\\nひ\\n冷える\\nあたた\\n暖める\\n中\\n揺れる\\nほ\\n掘る\\nのせる\\n逃げる\\nこうリつでき\\n效率的\\nいつかだんらん\\n一家団樂\\nお\\n置きごたつ\\nねふだ\\n值札\\nひばち\\n火鉢\\nがス\\nやぐら\\nEーター\\nでhきそうじき\\n電掃除機\\n核成\\nゆがだ人ぼう\\n床暖房\\nこたつ\\nだ人ぼうきく\\n暖房器具\\nストーブ\\nシチュー\\n新\\nむらさまいろ\\n紫色\\nポカポカ\\n二人\\nをび']"
      ]
     },
     "execution_count": 38,
     "metadata": {},
     "output_type": "execute_result"
    }
   ],
   "source": [
    "[_.chunk.content for _ in results]"
   ]
  },
  {
   "cell_type": "code",
   "execution_count": null,
   "id": "c242037d",
   "metadata": {},
   "outputs": [],
   "source": []
  }
 ],
 "metadata": {
  "kernelspec": {
   "display_name": "personal-rag-7yCtySkO",
   "language": "python",
   "name": "python3"
  },
  "language_info": {
   "codemirror_mode": {
    "name": "ipython",
    "version": 3
   },
   "file_extension": ".py",
   "mimetype": "text/x-python",
   "name": "python",
   "nbconvert_exporter": "python",
   "pygments_lexer": "ipython3",
   "version": "3.11.4"
  }
 },
 "nbformat": 4,
 "nbformat_minor": 5
}
