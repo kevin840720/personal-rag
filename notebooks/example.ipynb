{
 "cells": [
  {
   "cell_type": "code",
   "execution_count": 3,
   "id": "821affaf",
   "metadata": {},
   "outputs": [],
   "source": [
    "# Import 設定\n",
    "import sys\n",
    "from pathlib import Path\n",
    "PROJECT_DIR = Path.cwd().parents[0]\n",
    "sys.path.insert(0, PROJECT_DIR.joinpath(\"src\").__str__())  # 不能用 pathlib.PosixPath 傳入"
   ]
  },
  {
   "cell_type": "markdown",
   "id": "ab050423",
   "metadata": {},
   "source": [
    "# 有關 Goodnotes 解析"
   ]
  },
  {
   "cell_type": "markdown",
   "id": "e6b4c935",
   "metadata": {},
   "source": [
    "1. Goodnotes 輸出要兩種版本：\n",
    "    - Editable PDF: 擷取 Metadata / Outline\n",
    "    - Image: 預處理後 OCR"
   ]
  },
  {
   "cell_type": "markdown",
   "id": "463eb9ce",
   "metadata": {},
   "source": [
    "## OCR 測試"
   ]
  },
  {
   "cell_type": "markdown",
   "id": "b348612f",
   "metadata": {},
   "source": [
    "### Goodnote 平面化輸出"
   ]
  },
  {
   "cell_type": "code",
   "execution_count": 2,
   "id": "8c6e9ddf",
   "metadata": {},
   "outputs": [
    {
     "ename": "KeyboardInterrupt",
     "evalue": "",
     "output_type": "error",
     "traceback": [
      "\u001b[31m---------------------------------------------------------------------------\u001b[39m",
      "\u001b[31mKeyboardInterrupt\u001b[39m                         Traceback (most recent call last)",
      "\u001b[36mCell\u001b[39m\u001b[36m \u001b[39m\u001b[32mIn[2]\u001b[39m\u001b[32m, line 1\u001b[39m\n\u001b[32m----> \u001b[39m\u001b[32m1\u001b[39m \u001b[38;5;28;01mfrom\u001b[39;00m\u001b[38;5;250m \u001b[39m\u001b[34;01mingestion\u001b[39;00m\u001b[34;01m.\u001b[39;00m\u001b[34;01mfile_loaders\u001b[39;00m\u001b[34;01m.\u001b[39;00m\u001b[34;01mpdf\u001b[39;00m\u001b[38;5;250m \u001b[39m\u001b[38;5;28;01mimport\u001b[39;00m DoclingPDFLoader\n\u001b[32m      2\u001b[39m loader = DoclingPDFLoader()\n\u001b[32m      3\u001b[39m content = loader.load(PROJECT_DIR.joinpath(\u001b[33m\"\u001b[39m\u001b[33mnotebooks/test-flatten.pdf\u001b[39m\u001b[33m\"\u001b[39m))\n",
      "\u001b[36mFile \u001b[39m\u001b[32m~/Private/Project/PersonalRAG/personal-rag/src/ingestion/file_loaders/pdf.py:19\u001b[39m\n\u001b[32m     16\u001b[39m \u001b[38;5;28;01mimport\u001b[39;00m\u001b[38;5;250m \u001b[39m\u001b[34;01mre\u001b[39;00m\n\u001b[32m     18\u001b[39m \u001b[38;5;28;01mfrom\u001b[39;00m\u001b[38;5;250m \u001b[39m\u001b[34;01mpypdf\u001b[39;00m\u001b[38;5;250m \u001b[39m\u001b[38;5;28;01mimport\u001b[39;00m PdfReader\n\u001b[32m---> \u001b[39m\u001b[32m19\u001b[39m \u001b[38;5;28;01mfrom\u001b[39;00m\u001b[38;5;250m \u001b[39m\u001b[34;01mdocling\u001b[39;00m\u001b[34;01m.\u001b[39;00m\u001b[34;01mdocument_converter\u001b[39;00m\u001b[38;5;250m \u001b[39m\u001b[38;5;28;01mimport\u001b[39;00m DocumentConverter\n\u001b[32m     21\u001b[39m \u001b[38;5;28;01mfrom\u001b[39;00m\u001b[38;5;250m \u001b[39m\u001b[34;01mpypdf\u001b[39;00m\u001b[38;5;250m \u001b[39m\u001b[38;5;28;01mimport\u001b[39;00m PdfReader\n\u001b[32m     22\u001b[39m \u001b[38;5;28;01mfrom\u001b[39;00m\u001b[38;5;250m \u001b[39m\u001b[34;01mingestion\u001b[39;00m\u001b[34;01m.\u001b[39;00m\u001b[34;01mbase\u001b[39;00m\u001b[38;5;250m \u001b[39m\u001b[38;5;28;01mimport\u001b[39;00m DocumentLoader, LoaderResult\n",
      "\u001b[36mFile \u001b[39m\u001b[32m~/.local/share/virtualenvs/personal-rag-s54CZC9a/lib/python3.11/site-packages/docling/document_converter.py:53\u001b[39m\n\u001b[32m     51\u001b[39m \u001b[38;5;28;01mfrom\u001b[39;00m\u001b[38;5;250m \u001b[39m\u001b[34;01mdocling\u001b[39;00m\u001b[34;01m.\u001b[39;00m\u001b[34;01mpipeline\u001b[39;00m\u001b[34;01m.\u001b[39;00m\u001b[34;01mbase_pipeline\u001b[39;00m\u001b[38;5;250m \u001b[39m\u001b[38;5;28;01mimport\u001b[39;00m BasePipeline\n\u001b[32m     52\u001b[39m \u001b[38;5;28;01mfrom\u001b[39;00m\u001b[38;5;250m \u001b[39m\u001b[34;01mdocling\u001b[39;00m\u001b[34;01m.\u001b[39;00m\u001b[34;01mpipeline\u001b[39;00m\u001b[34;01m.\u001b[39;00m\u001b[34;01msimple_pipeline\u001b[39;00m\u001b[38;5;250m \u001b[39m\u001b[38;5;28;01mimport\u001b[39;00m SimplePipeline\n\u001b[32m---> \u001b[39m\u001b[32m53\u001b[39m \u001b[38;5;28;01mfrom\u001b[39;00m\u001b[38;5;250m \u001b[39m\u001b[34;01mdocling\u001b[39;00m\u001b[34;01m.\u001b[39;00m\u001b[34;01mpipeline\u001b[39;00m\u001b[34;01m.\u001b[39;00m\u001b[34;01mstandard_pdf_pipeline\u001b[39;00m\u001b[38;5;250m \u001b[39m\u001b[38;5;28;01mimport\u001b[39;00m StandardPdfPipeline\n\u001b[32m     54\u001b[39m \u001b[38;5;28;01mfrom\u001b[39;00m\u001b[38;5;250m \u001b[39m\u001b[34;01mdocling\u001b[39;00m\u001b[34;01m.\u001b[39;00m\u001b[34;01mutils\u001b[39;00m\u001b[34;01m.\u001b[39;00m\u001b[34;01mutils\u001b[39;00m\u001b[38;5;250m \u001b[39m\u001b[38;5;28;01mimport\u001b[39;00m chunkify\n\u001b[32m     56\u001b[39m _log = logging.getLogger(\u001b[34m__name__\u001b[39m)\n",
      "\u001b[36mFile \u001b[39m\u001b[32m~/.local/share/virtualenvs/personal-rag-s54CZC9a/lib/python3.11/site-packages/docling/pipeline/standard_pdf_pipeline.py:17\u001b[39m\n\u001b[32m     15\u001b[39m \u001b[38;5;28;01mfrom\u001b[39;00m\u001b[38;5;250m \u001b[39m\u001b[34;01mdocling\u001b[39;00m\u001b[34;01m.\u001b[39;00m\u001b[34;01mdatamodel\u001b[39;00m\u001b[34;01m.\u001b[39;00m\u001b[34;01msettings\u001b[39;00m\u001b[38;5;250m \u001b[39m\u001b[38;5;28;01mimport\u001b[39;00m settings\n\u001b[32m     16\u001b[39m \u001b[38;5;28;01mfrom\u001b[39;00m\u001b[38;5;250m \u001b[39m\u001b[34;01mdocling\u001b[39;00m\u001b[34;01m.\u001b[39;00m\u001b[34;01mmodels\u001b[39;00m\u001b[34;01m.\u001b[39;00m\u001b[34;01mbase_ocr_model\u001b[39;00m\u001b[38;5;250m \u001b[39m\u001b[38;5;28;01mimport\u001b[39;00m BaseOcrModel\n\u001b[32m---> \u001b[39m\u001b[32m17\u001b[39m \u001b[38;5;28;01mfrom\u001b[39;00m\u001b[38;5;250m \u001b[39m\u001b[34;01mdocling\u001b[39;00m\u001b[34;01m.\u001b[39;00m\u001b[34;01mmodels\u001b[39;00m\u001b[34;01m.\u001b[39;00m\u001b[34;01mcode_formula_model\u001b[39;00m\u001b[38;5;250m \u001b[39m\u001b[38;5;28;01mimport\u001b[39;00m CodeFormulaModel, CodeFormulaModelOptions\n\u001b[32m     18\u001b[39m \u001b[38;5;28;01mfrom\u001b[39;00m\u001b[38;5;250m \u001b[39m\u001b[34;01mdocling\u001b[39;00m\u001b[34;01m.\u001b[39;00m\u001b[34;01mmodels\u001b[39;00m\u001b[34;01m.\u001b[39;00m\u001b[34;01mdocument_picture_classifier\u001b[39;00m\u001b[38;5;250m \u001b[39m\u001b[38;5;28;01mimport\u001b[39;00m (\n\u001b[32m     19\u001b[39m     DocumentPictureClassifier,\n\u001b[32m     20\u001b[39m     DocumentPictureClassifierOptions,\n\u001b[32m     21\u001b[39m )\n\u001b[32m     22\u001b[39m \u001b[38;5;28;01mfrom\u001b[39;00m\u001b[38;5;250m \u001b[39m\u001b[34;01mdocling\u001b[39;00m\u001b[34;01m.\u001b[39;00m\u001b[34;01mmodels\u001b[39;00m\u001b[34;01m.\u001b[39;00m\u001b[34;01mfactories\u001b[39;00m\u001b[38;5;250m \u001b[39m\u001b[38;5;28;01mimport\u001b[39;00m get_ocr_factory, get_picture_description_factory\n",
      "\u001b[36mFile \u001b[39m\u001b[32m~/.local/share/virtualenvs/personal-rag-s54CZC9a/lib/python3.11/site-packages/docling/models/code_formula_model.py:17\u001b[39m\n\u001b[32m     15\u001b[39m \u001b[38;5;28;01mfrom\u001b[39;00m\u001b[38;5;250m \u001b[39m\u001b[34;01mPIL\u001b[39;00m\u001b[38;5;250m \u001b[39m\u001b[38;5;28;01mimport\u001b[39;00m Image\n\u001b[32m     16\u001b[39m \u001b[38;5;28;01mfrom\u001b[39;00m\u001b[38;5;250m \u001b[39m\u001b[34;01mpydantic\u001b[39;00m\u001b[38;5;250m \u001b[39m\u001b[38;5;28;01mimport\u001b[39;00m BaseModel\n\u001b[32m---> \u001b[39m\u001b[32m17\u001b[39m \u001b[38;5;28;01mfrom\u001b[39;00m\u001b[38;5;250m \u001b[39m\u001b[34;01mtransformers\u001b[39;00m\u001b[38;5;250m \u001b[39m\u001b[38;5;28;01mimport\u001b[39;00m AutoModelForImageTextToText, AutoProcessor\n\u001b[32m     19\u001b[39m \u001b[38;5;28;01mfrom\u001b[39;00m\u001b[38;5;250m \u001b[39m\u001b[34;01mdocling\u001b[39;00m\u001b[34;01m.\u001b[39;00m\u001b[34;01mdatamodel\u001b[39;00m\u001b[34;01m.\u001b[39;00m\u001b[34;01maccelerator_options\u001b[39;00m\u001b[38;5;250m \u001b[39m\u001b[38;5;28;01mimport\u001b[39;00m AcceleratorDevice, AcceleratorOptions\n\u001b[32m     20\u001b[39m \u001b[38;5;28;01mfrom\u001b[39;00m\u001b[38;5;250m \u001b[39m\u001b[34;01mdocling\u001b[39;00m\u001b[34;01m.\u001b[39;00m\u001b[34;01mdatamodel\u001b[39;00m\u001b[34;01m.\u001b[39;00m\u001b[34;01mbase_models\u001b[39;00m\u001b[38;5;250m \u001b[39m\u001b[38;5;28;01mimport\u001b[39;00m ItemAndImageEnrichmentElement\n",
      "\u001b[36mFile \u001b[39m\u001b[32m~/.local/share/virtualenvs/personal-rag-s54CZC9a/lib/python3.11/site-packages/transformers/__init__.py:950\u001b[39m\n\u001b[32m    946\u001b[39m \u001b[38;5;28;01mimport\u001b[39;00m\u001b[38;5;250m \u001b[39m\u001b[34;01msys\u001b[39;00m\n\u001b[32m    948\u001b[39m _import_structure = {k: \u001b[38;5;28mset\u001b[39m(v) \u001b[38;5;28;01mfor\u001b[39;00m k, v \u001b[38;5;129;01min\u001b[39;00m _import_structure.items()}\n\u001b[32m--> \u001b[39m\u001b[32m950\u001b[39m import_structure = \u001b[43mdefine_import_structure\u001b[49m\u001b[43m(\u001b[49m\u001b[43mPath\u001b[49m\u001b[43m(\u001b[49m\u001b[34;43m__file__\u001b[39;49m\u001b[43m)\u001b[49m\u001b[43m.\u001b[49m\u001b[43mparent\u001b[49m\u001b[43m \u001b[49m\u001b[43m/\u001b[49m\u001b[43m \u001b[49m\u001b[33;43m\"\u001b[39;49m\u001b[33;43mmodels\u001b[39;49m\u001b[33;43m\"\u001b[39;49m\u001b[43m,\u001b[49m\u001b[43m \u001b[49m\u001b[43mprefix\u001b[49m\u001b[43m=\u001b[49m\u001b[33;43m\"\u001b[39;49m\u001b[33;43mmodels\u001b[39;49m\u001b[33;43m\"\u001b[39;49m\u001b[43m)\u001b[49m\n\u001b[32m    951\u001b[39m import_structure[\u001b[38;5;28mfrozenset\u001b[39m({})].update(_import_structure)\n\u001b[32m    953\u001b[39m sys.modules[\u001b[34m__name__\u001b[39m] = _LazyModule(\n\u001b[32m    954\u001b[39m     \u001b[34m__name__\u001b[39m,\n\u001b[32m    955\u001b[39m     \u001b[38;5;28mglobals\u001b[39m()[\u001b[33m\"\u001b[39m\u001b[33m__file__\u001b[39m\u001b[33m\"\u001b[39m],\n\u001b[32m   (...)\u001b[39m\u001b[32m    958\u001b[39m     extra_objects={\u001b[33m\"\u001b[39m\u001b[33m__version__\u001b[39m\u001b[33m\"\u001b[39m: __version__},\n\u001b[32m    959\u001b[39m )\n",
      "\u001b[36mFile \u001b[39m\u001b[32m~/.local/share/virtualenvs/personal-rag-s54CZC9a/lib/python3.11/site-packages/transformers/utils/import_utils.py:2841\u001b[39m, in \u001b[36mdefine_import_structure\u001b[39m\u001b[34m(module_path, prefix)\u001b[39m\n\u001b[32m   2817\u001b[39m \u001b[38;5;129m@lru_cache\u001b[39m\n\u001b[32m   2818\u001b[39m \u001b[38;5;28;01mdef\u001b[39;00m\u001b[38;5;250m \u001b[39m\u001b[34mdefine_import_structure\u001b[39m(module_path: \u001b[38;5;28mstr\u001b[39m, prefix: Optional[\u001b[38;5;28mstr\u001b[39m] = \u001b[38;5;28;01mNone\u001b[39;00m) -> IMPORT_STRUCTURE_T:\n\u001b[32m   2819\u001b[39m \u001b[38;5;250m    \u001b[39m\u001b[33;03m\"\"\"\u001b[39;00m\n\u001b[32m   2820\u001b[39m \u001b[33;03m    This method takes a module_path as input and creates an import structure digestible by a _LazyModule.\u001b[39;00m\n\u001b[32m   2821\u001b[39m \n\u001b[32m   (...)\u001b[39m\u001b[32m   2839\u001b[39m \u001b[33;03m    If `prefix` is not None, it will add that prefix to all keys in the returned dict.\u001b[39;00m\n\u001b[32m   2840\u001b[39m \u001b[33;03m    \"\"\"\u001b[39;00m\n\u001b[32m-> \u001b[39m\u001b[32m2841\u001b[39m     import_structure = \u001b[43mcreate_import_structure_from_path\u001b[49m\u001b[43m(\u001b[49m\u001b[43mmodule_path\u001b[49m\u001b[43m)\u001b[49m\n\u001b[32m   2842\u001b[39m     spread_dict = spread_import_structure(import_structure)\n\u001b[32m   2844\u001b[39m     \u001b[38;5;28;01mif\u001b[39;00m prefix \u001b[38;5;129;01mis\u001b[39;00m \u001b[38;5;28;01mNone\u001b[39;00m:\n",
      "\u001b[36mFile \u001b[39m\u001b[32m~/.local/share/virtualenvs/personal-rag-s54CZC9a/lib/python3.11/site-packages/transformers/utils/import_utils.py:2554\u001b[39m, in \u001b[36mcreate_import_structure_from_path\u001b[39m\u001b[34m(module_path)\u001b[39m\n\u001b[32m   2552\u001b[39m \u001b[38;5;28;01mfor\u001b[39;00m f \u001b[38;5;129;01min\u001b[39;00m os.listdir(module_path):\n\u001b[32m   2553\u001b[39m     \u001b[38;5;28;01mif\u001b[39;00m f != \u001b[33m\"\u001b[39m\u001b[33m__pycache__\u001b[39m\u001b[33m\"\u001b[39m \u001b[38;5;129;01mand\u001b[39;00m os.path.isdir(os.path.join(module_path, f)):\n\u001b[32m-> \u001b[39m\u001b[32m2554\u001b[39m         import_structure[f] = \u001b[43mcreate_import_structure_from_path\u001b[49m\u001b[43m(\u001b[49m\u001b[43mos\u001b[49m\u001b[43m.\u001b[49m\u001b[43mpath\u001b[49m\u001b[43m.\u001b[49m\u001b[43mjoin\u001b[49m\u001b[43m(\u001b[49m\u001b[43mmodule_path\u001b[49m\u001b[43m,\u001b[49m\u001b[43m \u001b[49m\u001b[43mf\u001b[49m\u001b[43m)\u001b[49m\u001b[43m)\u001b[49m\n\u001b[32m   2556\u001b[39m     \u001b[38;5;28;01melif\u001b[39;00m \u001b[38;5;129;01mnot\u001b[39;00m os.path.isdir(os.path.join(directory, f)):\n\u001b[32m   2557\u001b[39m         adjacent_modules.append(f)\n",
      "\u001b[36mFile \u001b[39m\u001b[32m~/.local/share/virtualenvs/personal-rag-s54CZC9a/lib/python3.11/site-packages/transformers/utils/import_utils.py:2677\u001b[39m, in \u001b[36mcreate_import_structure_from_path\u001b[39m\u001b[34m(module_path)\u001b[39m\n\u001b[32m   2674\u001b[39m \u001b[38;5;66;03m# All objects that are in __all__ should be exported by default.\u001b[39;00m\n\u001b[32m   2675\u001b[39m \u001b[38;5;66;03m# These objects are exported with the file backends.\u001b[39;00m\n\u001b[32m   2676\u001b[39m \u001b[38;5;28;01mif\u001b[39;00m \u001b[33m\"\u001b[39m\u001b[33m__all__\u001b[39m\u001b[33m\"\u001b[39m \u001b[38;5;129;01min\u001b[39;00m file_content:\n\u001b[32m-> \u001b[39m\u001b[32m2677\u001b[39m     \u001b[38;5;28;01mfor\u001b[39;00m _all_object \u001b[38;5;129;01min\u001b[39;00m \u001b[43mfetch__all__\u001b[49m\u001b[43m(\u001b[49m\u001b[43mfile_content\u001b[49m\u001b[43m)\u001b[49m:\n\u001b[32m   2678\u001b[39m         \u001b[38;5;28;01mif\u001b[39;00m _all_object \u001b[38;5;129;01mnot\u001b[39;00m \u001b[38;5;129;01min\u001b[39;00m exported_objects:\n\u001b[32m   2679\u001b[39m             backends = \u001b[38;5;28mfrozenset\u001b[39m(base_requirements)\n",
      "\u001b[36mFile \u001b[39m\u001b[32m~/.local/share/virtualenvs/personal-rag-s54CZC9a/lib/python3.11/site-packages/transformers/utils/import_utils.py:2459\u001b[39m, in \u001b[36mfetch__all__\u001b[39m\u001b[34m(file_content)\u001b[39m\n\u001b[32m   2457\u001b[39m lines = file_content.splitlines()\n\u001b[32m   2458\u001b[39m \u001b[38;5;28;01mfor\u001b[39;00m index, line \u001b[38;5;129;01min\u001b[39;00m \u001b[38;5;28menumerate\u001b[39m(lines):\n\u001b[32m-> \u001b[39m\u001b[32m2459\u001b[39m     \u001b[38;5;28;01mif\u001b[39;00m \u001b[43mline\u001b[49m\u001b[43m.\u001b[49m\u001b[43mstartswith\u001b[49m\u001b[43m(\u001b[49m\u001b[33;43m\"\u001b[39;49m\u001b[33;43m__all__\u001b[39;49m\u001b[33;43m\"\u001b[39;49m\u001b[43m)\u001b[49m:\n\u001b[32m   2460\u001b[39m         start_index = index\n\u001b[32m   2462\u001b[39m \u001b[38;5;66;03m# There is no line starting with `__all__`\u001b[39;00m\n",
      "\u001b[31mKeyboardInterrupt\u001b[39m: "
     ]
    }
   ],
   "source": [
    "from ingestion.file_loaders.pdf import DoclingPDFLoader\n",
    "loader = DoclingPDFLoader()\n",
    "content = loader.load(PROJECT_DIR.joinpath(\"notebooks/test-flatten.pdf\"))\n",
    "print(content)"
   ]
  },
  {
   "cell_type": "markdown",
   "id": "4fa9e776",
   "metadata": {},
   "source": [
    "### Goodnote 可編輯輸出"
   ]
  },
  {
   "cell_type": "code",
   "execution_count": null,
   "id": "454e3b7c",
   "metadata": {},
   "outputs": [],
   "source": [
    "from ingestion.file_loaders.pdf import DoclingPDFLoader\n",
    "loader = DoclingPDFLoader()\n",
    "content = loader.load(PROJECT_DIR.joinpath(\"notebooks/test-editable.pdf\"))\n",
    "print(content)"
   ]
  },
  {
   "cell_type": "markdown",
   "id": "d36ba309",
   "metadata": {},
   "source": [
    "## PyPDF 讀取 metadata/outline"
   ]
  },
  {
   "cell_type": "code",
   "execution_count": 57,
   "id": "73533bdc",
   "metadata": {},
   "outputs": [
    {
     "name": "stdout",
     "output_type": "stream",
     "text": [
      "--------------- Chapter 07：バレンタインデー --------------- => page 1\n",
      "（語彙）気配り => page 1\n",
      "（語彙）普段 v.s. 日頃 => page 1\n",
      "（文型） 表狀態、動作持續變化的「つつある」 => page 1\n",
      "（文型）表同時／逆接的「～つつ」；與「ながら」的比較 => page 1\n",
      "「一定」的比較：きっと／必ず／絶対／ぜひ（／決して） => page 2\n",
      "表程蒙恩惠、托您的福的「おかけて」 => page 2\n",
      "実は v.s. 実に => page 3\n",
      "（文型）授受動詞「もらう」、「くれる」 => page 4\n",
      "（文型）助詞：以「の」代替「が」 => page 4\n"
     ]
    }
   ],
   "source": [
    "from pypdf import PdfReader\n",
    "\n",
    "reader = PdfReader(\"test-editable.pdf\")\n",
    "outline = reader.outline\n",
    "\n",
    "for item in outline:\n",
    "    title = item.title\n",
    "    page_index = reader.get_destination_page_number(item)  # 從0開始\n",
    "    print(title, \"=> page\", page_index + 1)  # 轉成從1開始\n"
   ]
  },
  {
   "cell_type": "code",
   "execution_count": 51,
   "id": "c0b1df19",
   "metadata": {},
   "outputs": [
    {
     "data": {
      "text/plain": [
       "{'/Producer': 'iOS Version 18.5 (Build 22F76) Quartz PDFContext',\n",
       " '/CreationDate': \"D:20250821122519Z00'00'\",\n",
       " '/ModDate': \"D:20250821122519Z00'00'\"}"
      ]
     },
     "execution_count": 51,
     "metadata": {},
     "output_type": "execute_result"
    }
   ],
   "source": [
    "reader.metadata"
   ]
  },
  {
   "cell_type": "code",
   "execution_count": 52,
   "id": "816f3f2b",
   "metadata": {},
   "outputs": [
    {
     "name": "stdout",
     "output_type": "stream",
     "text": [
      "{'/Title': '（文型）助詞：以「の」代替「が」', '/Page': IndirectObject(27325, 0, 127061131100624), '/Type': '/XYZ', '/Left': 0.0, '/Top': 1078.827, '/Zoom': 1, '/Count': 0, '/%is_open%': True}\n"
     ]
    },
    {
     "data": {
      "text/plain": [
       "3"
      ]
     },
     "execution_count": 52,
     "metadata": {},
     "output_type": "execute_result"
    }
   ],
   "source": [
    "print(reader.outline[9])\n",
    "reader.get_destination_page_number(reader.outline[-1])"
   ]
  },
  {
   "cell_type": "code",
   "execution_count": 53,
   "id": "9dde9ee1",
   "metadata": {},
   "outputs": [
    {
     "data": {
      "text/plain": [
       "<pypdf._page._VirtualList at 0x738fb998a850>"
      ]
     },
     "execution_count": 53,
     "metadata": {},
     "output_type": "execute_result"
    }
   ],
   "source": [
    "reader.pages"
   ]
  },
  {
   "cell_type": "code",
   "execution_count": 54,
   "id": "68caec5a",
   "metadata": {},
   "outputs": [
    {
     "data": {
      "text/plain": [
       "['1', '2', '3', '4']"
      ]
     },
     "execution_count": 54,
     "metadata": {},
     "output_type": "execute_result"
    }
   ],
   "source": [
    "reader.page_labels"
   ]
  },
  {
   "cell_type": "code",
   "execution_count": null,
   "id": "edd06ec5",
   "metadata": {},
   "outputs": [],
   "source": []
  }
 ],
 "metadata": {
  "kernelspec": {
   "display_name": "personal-rag-s54CZC9a",
   "language": "python",
   "name": "python3"
  },
  "language_info": {
   "codemirror_mode": {
    "name": "ipython",
    "version": 3
   },
   "file_extension": ".py",
   "mimetype": "text/x-python",
   "name": "python",
   "nbconvert_exporter": "python",
   "pygments_lexer": "ipython3",
   "version": "3.11.4"
  }
 },
 "nbformat": 4,
 "nbformat_minor": 5
}
