{
 "cells": [
  {
   "cell_type": "code",
   "execution_count": 1,
   "id": "6409179b",
   "metadata": {},
   "outputs": [],
   "source": [
    "# Import 設定\n",
    "import sys\n",
    "from pathlib import Path\n",
    "PROJECT_DIR = Path.cwd().parents[0]\n",
    "sys.path.insert(0, PROJECT_DIR.joinpath(\"src\").__str__())  # 不能用 pathlib.PosixPath 傳入"
   ]
  },
  {
   "cell_type": "code",
   "execution_count": 3,
   "id": "29533ab9",
   "metadata": {},
   "outputs": [
    {
     "name": "stdout",
     "output_type": "stream",
     "text": [
      "Downloading RapidOCR PPv5 models\n"
     ]
    },
    {
     "name": "stderr",
     "output_type": "stream",
     "text": [
      "2025-08-22 11:13:36,335 - OrtInferSession - WARNING: DirectML is only supported in Windows OS. The current OS is Linux. Use TensorrtExecutionProvider inference by default.\n",
      "2025-08-22 11:13:36,561 - OrtInferSession - WARNING: DirectML is only supported in Windows OS. The current OS is Linux. Use TensorrtExecutionProvider inference by default.\n",
      "2025-08-22 11:13:36,591 - OrtInferSession - WARNING: DirectML is only supported in Windows OS. The current OS is Linux. Use TensorrtExecutionProvider inference by default.\n"
     ]
    },
    {
     "data": {
      "text/plain": [
       "[LoaderResult(content='Table Part 001\\n{\\n  \"col000\":{\\n    \"column_name\":\"row_name\",\\n    \"row000\":0,\\n    \"row001\":1,\\n    \"row002\":2,\\n    \"row003\":3,\\n    \"row004\":4,\\n    \"row005\":5\\n  },\\n  \"col001\":{\\n    \"column_name\":0,\\n    \"row000\":\"(△)この葉を飲めば必す効主ます\",\\n    \"row001\":\"(名.形動，副\\'>\\'：發話者主觀認為某事無論如何都會成立，語氣較強 氣较强用强烈意志决心 要求 给人，節， 誇張的表建方式 以接否定形 绝に）合格する （学求）几一儿绝に）守、\\'7\\'（ (否定）绝まちい\",\\n    \"row002\":\"v.s.绝对 絕対」比「っと更加主觀，個人意識更強 これかまっとことがあ これから.対いことがあろ ℃不接否定句，绝对，可以 (\\'0\\')が来るら絶対にが (×)か来るらっとがた\",\\n    \"row003\":\"：發者希望某事發生 你大示意志希望要求 接否定句型\",\\n    \"row004\":\"比是世的强甜用光 そんに美味しな私もぜひ食ててみたい 」v.s，绝对，v.s.「と，v.s\\',\\'必」 顾望\\'~\\'時，可以使用「也ひ」，絕对 休み冲縄に行しう ()はいひまたいです (\\'0\\')は\\'1\\'绝対行またです (X）はい)必行また（で 感上存在此許差果 命令語氣 明日，必ず来てくだい 明日来）\",\\n    \"row005\":\"稍微強烈的邀請 明日，绝对来\\'7\\'（い） 明日，ひ来(→温和的邀請\"\\n  },\\n  \"col002\":{\\n    \"column_name\":1,\\n    \"row000\":\"\",\\n    \"row001\":\"\\'*\\'為何吃完飯後要說「ご馳走樣た， 走，原意局来回奔走 為\\'3\\'感謝主人招持住创而四處奔走，所以便說一馳走樣 之後便衍生出感謝招待\",\\n    \"row002\":\"\\'*\\'おガげ(多虧，幸虧，托您的福，表示承蒙恩惠才有後頂的好結果) Vt ·如果在句尾用\\'~\\'かです\\\\/ A原形 原文中的是助詞，表原因，理由 おかげで NA+T_i\",\\n    \"row003\":\"·原则上只用於「好的結果 N+の 用在負面事物上則帶有諷刺意味 ガナさま ·亦可用お陰様」更加尊敬\",\\n    \"row004\":\"E競争相手が少いおがげ勝\\'7\\'確率が高くる を飲人おかげすか元気にました お陰様下，元気 赤人夜中に出おかげ全然寝が\",\\n    \"row005\":\"\"\\n  }\\n}', metadata=DocumentMetadata(file_type=<FileType.IMAGE: 'image'>, file_name='test-2-3-1.png', title=None, author=None, subject=None, created_at=datetime.datetime(2025, 8, 20, 21, 34, 19, 400686), modified_at=datetime.datetime(2025, 8, 20, 21, 34, 19, 400686), is_chunk=False, chunk_info=None, extra=None), doc=DoclingDocument(schema_name='DoclingDocument', version='1.5.0', name='test-2-3-1', origin=DocumentOrigin(mimetype='application/pdf', binary_hash=10127401448123274704, filename='test-2-3-1.png', uri=None), furniture=GroupItem(self_ref='#/furniture', parent=None, children=[], content_layer=<ContentLayer.FURNITURE: 'furniture'>, name='_root_', label=<GroupLabel.UNSPECIFIED: 'unspecified'>), body=GroupItem(self_ref='#/body', parent=None, children=[RefItem(cref='#/tables/0')], content_layer=<ContentLayer.BODY: 'body'>, name='_root_', label=<GroupLabel.UNSPECIFIED: 'unspecified'>), groups=[], texts=[], pictures=[], tables=[TableItem(self_ref='#/tables/0', parent=RefItem(cref='#/body'), children=[], content_layer=<ContentLayer.BODY: 'body'>, label=<DocItemLabel.TABLE: 'table'>, prov=[ProvenanceItem(page_no=1, bbox=BoundingBox(l=0.6086692810058594, t=815.8697004318237, r=1516.0, b=0.0, coord_origin=<CoordOrigin.BOTTOMLEFT: 'BOTTOMLEFT'>), charspan=(0, 0))], captions=[], references=[], footnotes=[], image=None, data=TableData(table_cells=[TableCell(bbox=BoundingBox(l=9.169354756673178, t=9.75, r=294.94757080078125, b=31.5, coord_origin=<CoordOrigin.TOPLEFT: 'TOPLEFT'>), row_span=1, col_span=1, start_row_offset_idx=0, end_row_offset_idx=1, start_col_offset_idx=0, end_col_offset_idx=1, text='(△)この葉を飲めば必す効主ます', column_header=False, row_header=False, row_section=False), TableCell(bbox=BoundingBox(l=0.0, t=51.0, r=489.7963460286458, b=207.0, coord_origin=<CoordOrigin.TOPLEFT: 'TOPLEFT'>), row_span=1, col_span=1, start_row_offset_idx=1, end_row_offset_idx=2, start_col_offset_idx=0, end_col_offset_idx=1, text=\"(名.形動，副'>'：發話者主觀認為某事無論如何都會成立，語氣較強 氣较强用强烈意志决心 要求 给人，節， 誇張的表建方式 以接否定形 绝に）合格する （学求）几一儿绝に）守、'7'（ (否定）绝まちい\", column_header=False, row_header=False, row_section=False), TableCell(bbox=BoundingBox(l=643.383056640625, t=108.75, r=1185.9031575520833, b=227.25, coord_origin=<CoordOrigin.TOPLEFT: 'TOPLEFT'>), row_span=1, col_span=1, start_row_offset_idx=1, end_row_offset_idx=2, start_col_offset_idx=1, end_col_offset_idx=2, text=\"'*'為何吃完飯後要說「ご馳走樣た， 走，原意局来回奔走 為'3'感謝主人招持住创而四處奔走，所以便說一馳走樣 之後便衍生出感謝招待\", column_header=False, row_header=False, row_section=False), TableCell(bbox=BoundingBox(l=0.0, t=227.25, r=317.87095133463544, b=387.0, coord_origin=<CoordOrigin.TOPLEFT: 'TOPLEFT'>), row_span=1, col_span=1, start_row_offset_idx=2, end_row_offset_idx=3, start_col_offset_idx=0, end_col_offset_idx=1, text=\"v.s.绝对 絕対」比「っと更加主觀，個人意識更強 これかまっとことがあ これから.対いことがあろ ℃不接否定句，绝对，可以 ('0')が来るら絶対にが (×)か来るらっとがた\", column_header=False, row_header=False, row_section=False), TableCell(bbox=BoundingBox(l=644.1471354166666, t=291.75, r=1233.2781575520833, b=395.25, coord_origin=<CoordOrigin.TOPLEFT: 'TOPLEFT'>), row_span=1, col_span=1, start_row_offset_idx=2, end_row_offset_idx=3, start_col_offset_idx=1, end_col_offset_idx=2, text=\"'*'おガげ(多虧，幸虧，托您的福，表示承蒙恩惠才有後頂的好結果) Vt ·如果在句尾用'~'かです/ A原形 原文中的是助詞，表原因，理由 おかげで NA+T_i\", column_header=False, row_header=False, row_section=False), TableCell(bbox=BoundingBox(l=686.17333984375, t=381.0, r=1144.64111328125, b=481.5, coord_origin=<CoordOrigin.TOPLEFT: 'TOPLEFT'>), row_span=1, col_span=1, start_row_offset_idx=3, end_row_offset_idx=4, start_col_offset_idx=1, end_col_offset_idx=2, text='·原则上只用於「好的結果 N+の 用在負面事物上則帶有諷刺意味 ガナさま ·亦可用お陰様」更加尊敬', column_header=False, row_header=False, row_section=False), TableCell(bbox=BoundingBox(l=0.0, t=411.75, r=196.37701416015625, b=481.5, coord_origin=<CoordOrigin.TOPLEFT: 'TOPLEFT'>), row_span=1, col_span=1, start_row_offset_idx=3, end_row_offset_idx=4, start_col_offset_idx=0, end_col_offset_idx=1, text='：發者希望某事發生 你大示意志希望要求 接否定句型', column_header=False, row_header=False, row_section=False), TableCell(bbox=BoundingBox(l=0.0, t=504.0, r=314.05039469401044, b=771.0, coord_origin=<CoordOrigin.TOPLEFT: 'TOPLEFT'>), row_span=1, col_span=1, start_row_offset_idx=4, end_row_offset_idx=5, start_col_offset_idx=0, end_col_offset_idx=1, text=\"比是世的强甜用光 そんに美味しな私もぜひ食ててみたい 」v.s，绝对，v.s.「と，v.s','必」 顾望'~'時，可以使用「也ひ」，絕对 休み冲縄に行しう ()はいひまたいです ('0')は'1'绝対行またです (X）はい)必行また（で 感上存在此許差果 命令語氣 明日，必ず来てくだい 明日来）\", column_header=False, row_header=False, row_section=False), TableCell(bbox=BoundingBox(l=719.7943522135416, t=502.5, r=1148.461669921875, b=620.25, coord_origin=<CoordOrigin.TOPLEFT: 'TOPLEFT'>), row_span=1, col_span=1, start_row_offset_idx=4, end_row_offset_idx=5, start_col_offset_idx=1, end_col_offset_idx=2, text=\"E競争相手が少いおがげ勝'7'確率が高くる を飲人おかげすか元気にました お陰様下，元気 赤人夜中に出おかげ全然寝が\", column_header=False, row_header=False, row_section=False), TableCell(bbox=BoundingBox(l=12.22580591837565, t=756.75, r=328.56854248046875, b=812.25, coord_origin=<CoordOrigin.TOPLEFT: 'TOPLEFT'>), row_span=1, col_span=1, start_row_offset_idx=5, end_row_offset_idx=6, start_col_offset_idx=0, end_col_offset_idx=1, text=\"稍微強烈的邀請 明日，绝对来'7'（い） 明日，ひ来(→温和的邀請\", column_header=False, row_header=False, row_section=False)], num_rows=6, num_cols=2, grid=[[TableCell(bbox=BoundingBox(l=9.169354756673178, t=9.75, r=294.94757080078125, b=31.5, coord_origin=<CoordOrigin.TOPLEFT: 'TOPLEFT'>), row_span=1, col_span=1, start_row_offset_idx=0, end_row_offset_idx=1, start_col_offset_idx=0, end_col_offset_idx=1, text='(△)この葉を飲めば必す効主ます', column_header=False, row_header=False, row_section=False), TableCell(bbox=None, row_span=1, col_span=1, start_row_offset_idx=0, end_row_offset_idx=1, start_col_offset_idx=1, end_col_offset_idx=2, text='', column_header=False, row_header=False, row_section=False)], [TableCell(bbox=BoundingBox(l=0.0, t=51.0, r=489.7963460286458, b=207.0, coord_origin=<CoordOrigin.TOPLEFT: 'TOPLEFT'>), row_span=1, col_span=1, start_row_offset_idx=1, end_row_offset_idx=2, start_col_offset_idx=0, end_col_offset_idx=1, text=\"(名.形動，副'>'：發話者主觀認為某事無論如何都會成立，語氣較強 氣较强用强烈意志决心 要求 给人，節， 誇張的表建方式 以接否定形 绝に）合格する （学求）几一儿绝に）守、'7'（ (否定）绝まちい\", column_header=False, row_header=False, row_section=False), TableCell(bbox=BoundingBox(l=643.383056640625, t=108.75, r=1185.9031575520833, b=227.25, coord_origin=<CoordOrigin.TOPLEFT: 'TOPLEFT'>), row_span=1, col_span=1, start_row_offset_idx=1, end_row_offset_idx=2, start_col_offset_idx=1, end_col_offset_idx=2, text=\"'*'為何吃完飯後要說「ご馳走樣た， 走，原意局来回奔走 為'3'感謝主人招持住创而四處奔走，所以便說一馳走樣 之後便衍生出感謝招待\", column_header=False, row_header=False, row_section=False)], [TableCell(bbox=BoundingBox(l=0.0, t=227.25, r=317.87095133463544, b=387.0, coord_origin=<CoordOrigin.TOPLEFT: 'TOPLEFT'>), row_span=1, col_span=1, start_row_offset_idx=2, end_row_offset_idx=3, start_col_offset_idx=0, end_col_offset_idx=1, text=\"v.s.绝对 絕対」比「っと更加主觀，個人意識更強 これかまっとことがあ これから.対いことがあろ ℃不接否定句，绝对，可以 ('0')が来るら絶対にが (×)か来るらっとがた\", column_header=False, row_header=False, row_section=False), TableCell(bbox=BoundingBox(l=644.1471354166666, t=291.75, r=1233.2781575520833, b=395.25, coord_origin=<CoordOrigin.TOPLEFT: 'TOPLEFT'>), row_span=1, col_span=1, start_row_offset_idx=2, end_row_offset_idx=3, start_col_offset_idx=1, end_col_offset_idx=2, text=\"'*'おガげ(多虧，幸虧，托您的福，表示承蒙恩惠才有後頂的好結果) Vt ·如果在句尾用'~'かです/ A原形 原文中的是助詞，表原因，理由 おかげで NA+T_i\", column_header=False, row_header=False, row_section=False)], [TableCell(bbox=BoundingBox(l=0.0, t=411.75, r=196.37701416015625, b=481.5, coord_origin=<CoordOrigin.TOPLEFT: 'TOPLEFT'>), row_span=1, col_span=1, start_row_offset_idx=3, end_row_offset_idx=4, start_col_offset_idx=0, end_col_offset_idx=1, text='：發者希望某事發生 你大示意志希望要求 接否定句型', column_header=False, row_header=False, row_section=False), TableCell(bbox=BoundingBox(l=686.17333984375, t=381.0, r=1144.64111328125, b=481.5, coord_origin=<CoordOrigin.TOPLEFT: 'TOPLEFT'>), row_span=1, col_span=1, start_row_offset_idx=3, end_row_offset_idx=4, start_col_offset_idx=1, end_col_offset_idx=2, text='·原则上只用於「好的結果 N+の 用在負面事物上則帶有諷刺意味 ガナさま ·亦可用お陰様」更加尊敬', column_header=False, row_header=False, row_section=False)], [TableCell(bbox=BoundingBox(l=0.0, t=504.0, r=314.05039469401044, b=771.0, coord_origin=<CoordOrigin.TOPLEFT: 'TOPLEFT'>), row_span=1, col_span=1, start_row_offset_idx=4, end_row_offset_idx=5, start_col_offset_idx=0, end_col_offset_idx=1, text=\"比是世的强甜用光 そんに美味しな私もぜひ食ててみたい 」v.s，绝对，v.s.「と，v.s','必」 顾望'~'時，可以使用「也ひ」，絕对 休み冲縄に行しう ()はいひまたいです ('0')は'1'绝対行またです (X）はい)必行また（で 感上存在此許差果 命令語氣 明日，必ず来てくだい 明日来）\", column_header=False, row_header=False, row_section=False), TableCell(bbox=BoundingBox(l=719.7943522135416, t=502.5, r=1148.461669921875, b=620.25, coord_origin=<CoordOrigin.TOPLEFT: 'TOPLEFT'>), row_span=1, col_span=1, start_row_offset_idx=4, end_row_offset_idx=5, start_col_offset_idx=1, end_col_offset_idx=2, text=\"E競争相手が少いおがげ勝'7'確率が高くる を飲人おかげすか元気にました お陰様下，元気 赤人夜中に出おかげ全然寝が\", column_header=False, row_header=False, row_section=False)], [TableCell(bbox=BoundingBox(l=12.22580591837565, t=756.75, r=328.56854248046875, b=812.25, coord_origin=<CoordOrigin.TOPLEFT: 'TOPLEFT'>), row_span=1, col_span=1, start_row_offset_idx=5, end_row_offset_idx=6, start_col_offset_idx=0, end_col_offset_idx=1, text=\"稍微強烈的邀請 明日，绝对来'7'（い） 明日，ひ来(→温和的邀請\", column_header=False, row_header=False, row_section=False), TableCell(bbox=None, row_span=1, col_span=1, start_row_offset_idx=5, end_row_offset_idx=6, start_col_offset_idx=1, end_col_offset_idx=2, text='', column_header=False, row_header=False, row_section=False)]]), annotations=[])], key_value_items=[], form_items=[], pages={1: PageItem(size=Size(width=1516.0, height=816.0), image=None, page_no=1)}))]"
      ]
     },
     "execution_count": 3,
     "metadata": {},
     "output_type": "execute_result"
    }
   ],
   "source": [
    "from ingestion.file_loaders.image import DoclingImageLoader\n",
    "\n",
    "DoclingImageLoader().load(\"/home/kevin/Company/TMP/ppocr/test/test-2-3-1.png\")"
   ]
  },
  {
   "cell_type": "code",
   "execution_count": null,
   "id": "296c0dfb",
   "metadata": {},
   "outputs": [],
   "source": []
  }
 ],
 "metadata": {
  "kernelspec": {
   "display_name": "personal-rag-s54CZC9a",
   "language": "python",
   "name": "python3"
  },
  "language_info": {
   "codemirror_mode": {
    "name": "ipython",
    "version": 3
   },
   "file_extension": ".py",
   "mimetype": "text/x-python",
   "name": "python",
   "nbconvert_exporter": "python",
   "pygments_lexer": "ipython3",
   "version": "3.11.4"
  }
 },
 "nbformat": 4,
 "nbformat_minor": 5
}
